{
 "cells": [
  {
   "cell_type": "code",
   "execution_count": 2,
   "source": [
    "import numpy as np\n",
    "import pandas as pd\n",
    "from sklearn.feature_extraction.text import TfidfVectorizer\n",
    "from sklearn.metrics.pairwise import linear_kernel"
   ],
   "outputs": [],
   "metadata": {}
  },
  {
   "cell_type": "code",
   "execution_count": 3,
   "source": [
    "df = pd.read_csv('/home/ayomide/Documents/Machine-Learning-Internship/AdjustedCleanTapasData.csv')"
   ],
   "outputs": [],
   "metadata": {}
  },
  {
   "cell_type": "code",
   "execution_count": 4,
   "source": [
    "df = df.reset_index()\n",
    "df = df.rename(columns={\"index\":\"id\"})"
   ],
   "outputs": [],
   "metadata": {}
  },
  {
   "cell_type": "code",
   "execution_count": 5,
   "source": [
    "tf = TfidfVectorizer(analyzer='word', ngram_range=(1, 3), min_df=0, stop_words='english')\n",
    "tfidf_matrix = tf.fit_transform(df['Post'])"
   ],
   "outputs": [],
   "metadata": {}
  },
  {
   "cell_type": "code",
   "execution_count": 6,
   "source": [
    "cosine_similarities = linear_kernel(tfidf_matrix, tfidf_matrix)"
   ],
   "outputs": [],
   "metadata": {}
  },
  {
   "cell_type": "code",
   "execution_count": 7,
   "source": [
    "results = {}"
   ],
   "outputs": [],
   "metadata": {}
  },
  {
   "cell_type": "code",
   "execution_count": 8,
   "source": [
    "for idx, row in df.iterrows():\n",
    "    similar_indices = cosine_similarities[idx].argsort()[:-100:-1]\n",
    "    similar_items = [(cosine_similarities[idx][i], df['id'][i]) for i in similar_indices]\n",
    "\n",
    "    results[row['id']] = similar_items[1:]\n",
    "    \n",
    "print('done!')"
   ],
   "outputs": [
    {
     "output_type": "stream",
     "name": "stdout",
     "text": [
      "done!\n"
     ]
    }
   ],
   "metadata": {}
  },
  {
   "cell_type": "code",
   "execution_count": 9,
   "source": [
    "def item(id):\n",
    "    return df.loc[df['id'] == id]['Post'].tolist()[0].split(' - ')[0]"
   ],
   "outputs": [],
   "metadata": {}
  },
  {
   "cell_type": "code",
   "execution_count": 11,
   "source": [
    "def recommend(item_id, num):\n",
    "    print(\"Recommending \" + str(num) + \" products similar to \" + item(item_id) + \"...\")\n",
    "    print(\"-------\")\n",
    "    recs = results[item_id][:num]\n",
    "    for rec in recs:\n",
    "        print(\"Recommended: \" + item(rec[1]) + \" (score:\" + str(rec[0]) + \")\")\n",
    "\n",
    "recommend(item_id=20, num=5)"
   ],
   "outputs": [
    {
     "output_type": "stream",
     "name": "stdout",
     "text": [
      "Recommending 5 products similar to novelpotato sign them got message editor novelpotato another based website sign seen contract wondering anybody experience themi basically trying sketchy not general rule thumb reach usually sketchy research needed are yeah thought honest looked website computer fan warning sight secure plus site which mean sketch lol oh yeah sketchy af checked website curiosity updated early s seems pretty sus section detail payment full grammar mistake poorly translated another language said info needed do exclusive kind royalty pay offering do advertising considering working them enough information confident judging mentioned earlier seems site cause severe burnout expect constantly churn thousand word expect money basically scam young writer hope sell contract theyll pay true creator pittance for somebody sign non exclusive contract respond forum question real knowledge hard pas all weird editor said exclusive contract able upload site saying probably hard pas wanted anyone knowledge org specifically general info plus creating thread hopefully someone future lol sense exclusive post site huge red flag legit site mistake unless big name platform trusted site sign exclusive contract ever imagined reading burger king foot lettuce voice lol am almost made choke baguette laughing...\n",
      "-------\n",
      "Recommended: concern contract hi wanted publish webcomicsapp recently got nonexclusive contract form fillupon examining term found weird wanted confirm fear by signing contractyou retain ownership right okyou nonexclusive authorizationpermission publish advertise etc okauthorization last okishtheres line say recallnullify authorization period end not ok concern sign nonexclusively webcomicsapp say approached another publisher exclusive contract able sign cannot guarantee exclusivity gave webcomicsapp authorization publish contract state case authorization period ended prematurely am correct forum lawyer wanted aware possible problem arkstrider am correct someone publish them asked regarding termination reviewed publishing agreement clarify part signingthe editor charge told because ip ownership mine ever decided terminate agreement creator content provider sign publisher non exclusive begin with for example certain publisher offered exclusivity contract contract state pull app including webcomics terminate agreementit clarified exactly contract publishing agreement permission given creator company allow distribute appplatform however entirely creator decided publish paid offered publish paid platform contract to head up actual detailed contract provided includes distribution rightsif exclusive non exclusive includes section regarding factor looking ie terminationnullification contract etc royalty service provided stuff recall around thanks infowould nice included agreement prevent confusion contract email then contract came effect contract book whatever explanation email mean nothing mentioned contract anyone ever tweaked part contract signing doubt modify contract unless creator pretty popular agree email response editor qualify part agreement publisher enforce contract bad publicity imagine situation worth personally fact leaving loophole themselves an honest publisher offer solid contract course action ask modify contract theyll refuse walk away arkstrider line recallnullify authorization period end sound hoping contract contract except contract anyone quit anytime seem point specific duration mentioned case not lawyer dealt contract lawyer specifically stuff important note contract meant to be negotiated combat term agreeable ask clarification is contract specific whatever publish within period larger site signed contract exclusivity exclusivity extended specific published site let misunderstood anything couple drink deep reacted uhhhh replying correctly mind authorization period last till end main issue authorization unconditional line state proprietor nullify authorization unilaterally publishing agreement nonexclusive affect proprietor listed said agreement may contain loophole legally away creator ability sign exclusive contract another publisher next arkstrider may contain loophole legally away creator ability sign exclusive contract another publisher next nonexclusive contract order sign exclusive contract otherwise fulfill part exclusive contract exactly point sign nonexclusive publishing agreement webcomicsapp webtoontapas approach exclusive offer cannot sign exclusive contract gave webcomicsapp permission publish cannot webcomicsapp contract doesnt contain option creator webcomicsapp decide whether let period expires hence asked add similar proprietor nullify authorization unilaterally agreement waiting reply please let agree change reason putting signing too especially contributor now probably gather ad revenue contract unnecessary pain lol ok noticed using term contract agreement assumes sameand concern legality seemed brought up important clarify term said contract agreement interchangeably legally speaking arent exactly sameif define twoan agreement understanding arrangement party may written written while contract specific agreement term condition enforceable court case documentthe written document provided publishing agreement contract additionally publishing agreement non exclusive begin explains sign another publisher sign exclusivity deal another publisher without legal problem to explain further signing publishing agreement header mean arent signing contract additionally agreement doesnt term written itthe main purpose written agreement simply party consent refrain somethingnothing requires party adhere term agreement aside honor system terminate effective date document active purpose written party simply acknowledge agreement amount decided terminate agreement technically informal arrangement begin with an agreement enforced court litigation lack element contractit absolutely legal forcewhich mean theythe party cannot sue terminating agreement signed another publisher stated anything termination already stated non exclusive arrangement they cannot refrain signing another publisher either note written agreement lack element contract absolutely legal force often beginning contract negotiation document provided written agreement mean document proceed contract signing therefore legal binding process happened party contract hand formal arrangement party contains term condition negotiated party agreement term isnt necessarily written written agreementthis term written considered document enforces legal binding party both party must comply term agreed upon term condition royalty obligation etc guide termination will be written ha to be written within contract both party can sue other fails comply obligation failure adhere term written contract document review carefully negotiate possible signing although document written agreement contract may require signature party purpose signature document differentlyin agreement may assurance agreed condition proof gave consent party on contract hand legal proof readunderstood agreed written term document will comply term agreed upon hope understand difference document said tried best explain everything simple can hope enlighten lengthy explanation best review type document requires signature said earlier signature differently comprehensive explanation learned agreement legal power publisher problem agreeing add simple line clarify important yes purpose agreement begin with said document basically involves negotiation arrangement ask review additionally send editable draft written agreement add line let reassurance purpose regarding ask add wait edited version signing (score:0.10298750603122342)\n",
      "Recommended: any opinion webcomics hear talk site app webcomics they thousand downloads webtoons seem hear talk them especially shown ha ever published before site portray be went site seems pretty track minded content looking for their biggest genre romance pretty short list genre place seem welcome place creating outside preferring formatting style genre prominent platform site app merely looking surface notice front contributor someone frequents forum heard rumor fib number engagement do coming true id anyone else heard too found interesting thread talking webcomics definitely helped understand digging found company behind them release webcomic original canvas homepage recently published week ago far tell submission email link reviewed editor contract type contract offer case submitted exclusive contract non exclusive contract signed non exclusive contract issue clearly stated ip shall retained authorcreator conversing actively answer question clarification requirement sign contract publish platform publishing took publish guess depends early member case thread earlier used send published now passed review signed contract link upload publish another review published content guideline review mindful content especially mature theme abuse mature filter button publishing guy nipple safe audience platform quite young noticed tolerantfriendly towards bl gl lgbtq genre all displayed front app regardless whether exclusive estimated week exposure front pagehomepage support system ad revenue requirement sub noticed case pretty easy unlock exposure front home cannot tell ad revenue support system started week ago compute th month cannot tell fake number pretty webtoons already placed noticed number quite higher term view remember displayed front must besides slows average pacing growth webtoons front appear contribution front update what community active vocal comment actively comment tend vocal opinion app social medium platform profile follower post wall tag overall week experience pretty problem far overwhelmed active community wow sound awesome information webcomics seems mysterious appreciated working submission hopefully fib number not tell super supportiveis self service webtoon speak editor problem have welcome hope (score:0.06259470499312134)\n",
      "Recommended: question sending webcomics app hello wanna ask contribute webcomic contribution email them wanna try working them do sign upload freely webtoons experience contract for non exclusive careful someone contract sign anything question anything sound off sign already free study seriously send email deal or submit send link performance potential quickier what happened signed non exclusive (score:0.05169306614467541)\n",
      "Recommended: ha anyone heardbeen approached bonzai edition approached today user say represent bonzai edition interested publishing website they plan launching havent returned message planning ask publishing house affiliated with wanted ask around familiar them bbfbaffajpegx all approached ton of organization tencent dreame starry bring ideal contract getting paid basically right part strike business mentioned far translating current french fine with asking dream getting enough money getting editor publishing fun project doesnt bother getting locked contract french version only issue havent able search any info potentially due published website yet got gotten message couple organization claiming next upandcoming website hosting site heard approximately jack squat next upandcoming website hosting site evidence somewhere usually ignore message either scam b worth cross post site zero traffic someone reach claiming wanted business printingpublishing send printready image hollow publish free then offended told hand original highres image total stranger internet proof publication history asked funny normally exact at least able publish version layout strictly made scrolling website plan handing medium id least publishing house associated run scam appreciate head definitely not sending file over post whatever grain salt gotten offer house gotten generic offer message do research taught sound true probably is honestly true post message experience stuff said excellent uploaded message left profile relevant hopefully getting info answer question contract whose publishing house with post site stuff bbfbaffajpegx bcefcaaddffjpegx yup mentioned published another site received fan looked pretty template message change name translated coincidentally russian fan xd person asked translate french money split definitely fan assuming received similar offer ago thought suspicious currently ignoring change mind for yah suspicious ask question learned anything experience publisher contract id rather risk sound unnecessary stress ignoring someone prof worth _ツ_ which unlikely message odds scam template change name title send mass miracle legitimate publishing house probably front money printing publishing unless lose money rule thumb google email address professional scam believe strictly online rule money someone asking publish when doubt ask creditials what already contracted involved progress image site publishing house googling them probably worth too low totem pole noticed likely scam steal received messageit suspicious told wanted ask question firstthey artist joined already doubt b jimena they artist joined already doubt b remembering another french site making upcoming author cat noir lady bug roster meaning author clame hard what bonzai clame honestly claim havent gotten reply message question asking sign guessing likely genuine offer or worse starry steal creative property wait least understanding them same thus far mainly publish sell risographie appear expanding literature they instagram follower banzaieditions they appear st google search term edition banzai acceuil welcome banzai edition top result feature them their website facebook their website french translate plugin another language artist seems pretty popular k follower instagram they artist fairly significant fan base sell print publication amazon website eta bonzai ask money general rule approached publisher future publisher asks payment fraud ever engage publisher asks money publisher responsible absorbing cost associated eg production print marketingpromo translation editing etc industry standard be seem compliant anyone receives email publisher asking money report admin have asked draft contract review did no yet they havent exactly responded message sent thanks no prob used contract couple approval amendment rejection etc seemed ok research depending genre writer organization review contract provide advice free for instance horror writer association horror genre general rule grant exclusive publisher without defined end date bonzai fair subject renewal annual basis smaller publisher ask month avoid anyone longer writer famous starting out swindled lose permanently highly unlikely receive royalty publisher money response last night hadnt able app verbatim question asked said sharing process forum for context said answer question best excellent supposed question be whats process changing language english french send company file alteration account manage sending company file post site online second job moment period lag post is penalty post weekly worst case scenario unable produce content future wondering draft contract myself thanks thanks wh_vigo advice draft contract appreciate information (score:0.04898686246340807)\n",
      "Recommended: experience webcomicsappcom after site overhaul determined ever move away primary site operationi reached webcomicsappcom accepted submissionthey sent contract clause nervousit stated liable damage caused making phone explode dunno kind suspicious site seems big legit doe experience posting iswas while posted guess clause probably assurance somehow damage someone phone maybe virus liable dunno someone experience probably talk earlier thread question experience webcomics app personally thanks check out carloswebcomic they sent contract clause made nervous lucky they tried float contract kind wonky tried walk made member group insist those guy reallywhat problem said anything merch game animation wouldnt single cent believe bobbyjoex said anything merch game animation wouldnt single cent believe joke them mediocre merchandisei barely let alone buy merchandise bobbyjoex said anything merch game animation wouldnt single cent along line laundry list weird stuff contract wanted float potential dispute handled hong kong judicial system commute edit to fair tried revise spooked working exclusive around they pay except coronavirus started general concern china understanding condition flexible deadline schedule win win hearive contract plungethanks insight welcome hope stay free ask anything carloswebcomic stated liable damage caused odd clause wonder reference kind content produce responsible kid mature webcomic shouldnt wanna deal problem damage regardless reading comment thread everyones contract exactly same theyve chill allowed update contract term thought went smoothly wonder anything guy peaced hmm anyway congrats accepted sometimes fresh start motivated again yeah signed exclusive contract themm payed month asked exclusive contract said yes payed month owed dint ask thier money end contract thier ever huge megastare hit needed act they explained clause many dropped becuase wanted pormotion matriels ie trailer put youtube ect rosso wonder anything guy peaced hmm sort understanding too liked everyone dealt thereit bad contract offer took past negotiation stage exit mode they left door open return recently added support creator coin gift wonder gift converted real money noticed too replaced button heard thanks head up they email gift kinda useless coin currency free exchanged income show support creator to earn gem coin yeah pretty useless (score:0.04838268258827233)\n"
     ]
    }
   ],
   "metadata": {}
  },
  {
   "cell_type": "code",
   "execution_count": null,
   "source": [],
   "outputs": [],
   "metadata": {}
  }
 ],
 "metadata": {
  "kernelspec": {
   "name": "python3810jvsc74a57bd04306dcd06a2a703cc4242f32ebf9d06da856165a39fbd67129455fba7a1102a8",
   "display_name": "Python 3.8.10 64-bit ('Recommender': venv)",
   "language": "python"
  },
  "language_info": {
   "codemirror_mode": {
    "name": "ipython",
    "version": 3
   },
   "file_extension": ".py",
   "mimetype": "text/x-python",
   "name": "python",
   "nbconvert_exporter": "python",
   "pygments_lexer": "ipython3",
   "version": "3.8.10"
  },
  "interpreter": {
   "hash": "4306dcd06a2a703cc4242f32ebf9d06da856165a39fbd67129455fba7a1102a8"
  }
 },
 "nbformat": 4,
 "nbformat_minor": 4
}