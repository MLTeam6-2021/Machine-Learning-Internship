{
  "nbformat": 4,
  "nbformat_minor": 0,
  "metadata": {
    "colab": {
      "name": "Recommender",
      "provenance": []
    },
    "kernelspec": {
      "name": "python3",
      "display_name": "Python 3"
    },
    "language_info": {
      "name": "python"
    }
  },
  "cells": [
    {
      "cell_type": "code",
      "metadata": {
        "colab": {
          "base_uri": "https://localhost:8080/",
          "height": 310
        },
        "id": "j2QCrxz1paHJ",
        "outputId": "af1ec7c0-d3e2-4e2b-cb0d-d1a65e4a610b"
      },
      "source": [
        "import pandas as pd\n",
        "\n",
        "train = pd.read_csv('/content/drive/MyDrive/AdjustedCleanTapasData.csv')\n",
        "train.head()"
      ],
      "execution_count": 2,
      "outputs": [
        {
          "output_type": "execute_result",
          "data": {
            "text/html": [
              "<div>\n",
              "<style scoped>\n",
              "    .dataframe tbody tr th:only-of-type {\n",
              "        vertical-align: middle;\n",
              "    }\n",
              "\n",
              "    .dataframe tbody tr th {\n",
              "        vertical-align: top;\n",
              "    }\n",
              "\n",
              "    .dataframe thead th {\n",
              "        text-align: right;\n",
              "    }\n",
              "</style>\n",
              "<table border=\"1\" class=\"dataframe\">\n",
              "  <thead>\n",
              "    <tr style=\"text-align: right;\">\n",
              "      <th></th>\n",
              "      <th>Title</th>\n",
              "      <th>Category</th>\n",
              "      <th>Date</th>\n",
              "      <th>Likes</th>\n",
              "      <th>Num Replies</th>\n",
              "      <th>Num Views</th>\n",
              "      <th>Original Post</th>\n",
              "      <th>Comments</th>\n",
              "      <th>Post</th>\n",
              "    </tr>\n",
              "  </thead>\n",
              "  <tbody>\n",
              "    <tr>\n",
              "      <th>0</th>\n",
              "      <td>tapa adventuring rp</td>\n",
              "      <td>Off Topic</td>\n",
              "      <td>Nov 28, 2020 12:45 am</td>\n",
              "      <td>8.0</td>\n",
              "      <td>17800.0</td>\n",
              "      <td>24300.0</td>\n",
              "      <td>hey mood roleplaying present adventuring rp no...</td>\n",
              "      <td>created thread set adventurefeel free enter sc...</td>\n",
              "      <td>tapa adventuring rp hey mood roleplaying again...</td>\n",
              "    </tr>\n",
              "    <tr>\n",
              "      <th>1</th>\n",
              "      <td>le château de malheureux ddd</td>\n",
              "      <td>Off Topic</td>\n",
              "      <td>Aug 14, 2020 3:20 pm</td>\n",
              "      <td>5.0</td>\n",
              "      <td>19900.0</td>\n",
              "      <td>35100.0</td>\n",
              "      <td>welcome dungeon ding dong private murder myste...</td>\n",
              "      <td>name carole losnedahlage ft specie angel sorta...</td>\n",
              "      <td>le château de malheureux ddd welcome dungeon d...</td>\n",
              "    </tr>\n",
              "    <tr>\n",
              "      <th>2</th>\n",
              "      <td>writer paid collabs</td>\n",
              "      <td>Off Topic</td>\n",
              "      <td>Jul 22, 2021 4:40 pm</td>\n",
              "      <td>0.0</td>\n",
              "      <td>1.0</td>\n",
              "      <td>11.0</td>\n",
              "      <td>hello enquire collabs script tell adapt either...</td>\n",
              "      <td>rate artist pay adapt</td>\n",
              "      <td>writer paid collabs how it hello enquire colla...</td>\n",
              "    </tr>\n",
              "    <tr>\n",
              "      <th>3</th>\n",
              "      <td>fantasy book unique worldbuilding</td>\n",
              "      <td>Off Topic</td>\n",
              "      <td>Jul 22, 2021 2:24 pm</td>\n",
              "      <td>5.0</td>\n",
              "      <td>3.0</td>\n",
              "      <td>39.0</td>\n",
              "      <td>found featured article worldbuilding huge fan ...</td>\n",
              "      <td>awesome done must pretty wild featured alongsi...</td>\n",
              "      <td>fantasy book unique worldbuilding found featur...</td>\n",
              "    </tr>\n",
              "    <tr>\n",
              "      <th>4</th>\n",
              "      <td>game playing right</td>\n",
              "      <td>Off Topic</td>\n",
              "      <td>Nov 10, 2019 1:34 pm</td>\n",
              "      <td>13.0</td>\n",
              "      <td>1000.0</td>\n",
              "      <td>10600.0</td>\n",
              "      <td>video game board game hand held game puzzle ga...</td>\n",
              "      <td>simplykit video game fire emblem enjoying micr...</td>\n",
              "      <td>what game playing right now video game board g...</td>\n",
              "    </tr>\n",
              "  </tbody>\n",
              "</table>\n",
              "</div>"
            ],
            "text/plain": [
              "                               Title  ...                                               Post\n",
              "0                tapa adventuring rp  ...  tapa adventuring rp hey mood roleplaying again...\n",
              "1       le château de malheureux ddd  ...  le château de malheureux ddd welcome dungeon d...\n",
              "2                writer paid collabs  ...  writer paid collabs how it hello enquire colla...\n",
              "3  fantasy book unique worldbuilding  ...  fantasy book unique worldbuilding found featur...\n",
              "4                 game playing right  ...  what game playing right now video game board g...\n",
              "\n",
              "[5 rows x 9 columns]"
            ]
          },
          "metadata": {},
          "execution_count": 2
        }
      ]
    },
    {
      "cell_type": "markdown",
      "metadata": {
        "id": "qejlWTRnnYSy"
      },
      "source": [
        "**N-grams**"
      ]
    },
    {
      "cell_type": "code",
      "metadata": {
        "colab": {
          "base_uri": "https://localhost:8080/"
        },
        "id": "-1oYeMSTIWnX",
        "outputId": "c37f8623-ccf7-47ee-ec9a-5695f7ee3550"
      },
      "source": [
        "from textblob import TextBlob\n",
        "import nltk\n",
        "nltk.download('punkt')\n",
        "from textblob import Word\n",
        "\n",
        "TextBlob(train['Original Post'][0]).ngrams(2)"
      ],
      "execution_count": 3,
      "outputs": [
        {
          "output_type": "stream",
          "text": [
            "[nltk_data] Downloading package punkt to /root/nltk_data...\n",
            "[nltk_data]   Unzipping tokenizers/punkt.zip.\n"
          ],
          "name": "stdout"
        },
        {
          "output_type": "execute_result",
          "data": {
            "text/plain": [
              "[WordList(['hey', 'mood']),\n",
              " WordList(['mood', 'roleplaying']),\n",
              " WordList(['roleplaying', 'present']),\n",
              " WordList(['present', 'adventuring']),\n",
              " WordList(['adventuring', 'rp']),\n",
              " WordList(['rp', 'novelist']),\n",
              " WordList(['novelist', 'welcome']),\n",
              " WordList(['welcome', 'rp']),\n",
              " WordList(['rp', 'adventure']),\n",
              " WordList(['adventure', 'together']),\n",
              " WordList(['together', 'kind']),\n",
              " WordList(['kind', 'adventure']),\n",
              " WordList(['adventure', 'party']),\n",
              " WordList(['party', 'able']),\n",
              " WordList(['able', 'travel']),\n",
              " WordList(['travel', 'along']),\n",
              " WordList(['along', 'experience']),\n",
              " WordList(['experience', 'adventure']),\n",
              " WordList(['adventure', 'universe']),\n",
              " WordList(['universe', 'dual']),\n",
              " WordList(['dual', 'rpers']),\n",
              " WordList(['rpers', 'partake']),\n",
              " WordList(['partake', 'around']),\n",
              " WordList(['around', 'est']),\n",
              " WordList(['est', 'timezone']),\n",
              " WordList(['timezone', 'getting']),\n",
              " WordList(['getting', 'roleplay']),\n",
              " WordList(['roleplay', 'may']),\n",
              " WordList(['may', 'easier']),\n",
              " WordList(['easier', 'housekeeping']),\n",
              " WordList(['housekeeping', 'rule']),\n",
              " WordList(['rule', 'given']),\n",
              " WordList(['given', 'participating']),\n",
              " WordList(['participating', 'active']),\n",
              " WordList(['active', 'timezones']),\n",
              " WordList(['timezones', 'totally']),\n",
              " WordList(['totally', 'ok']),\n",
              " WordList(['ok', 'others']),\n",
              " WordList(['others', 'recap']),\n",
              " WordList(['recap', 'rp']),\n",
              " WordList(['rp', 'hour']),\n",
              " WordList(['hour', 'week']),\n",
              " WordList(['week', 'month']),\n",
              " WordList(['month', 'adventure']),\n",
              " WordList(['adventure', 'rushing']),\n",
              " WordList(['rushing', 'worry']),\n",
              " WordList(['worry', 'staying']),\n",
              " WordList(['staying', 'online']),\n",
              " WordList(['online', 'rp']),\n",
              " WordList(['rp', 'bit']),\n",
              " WordList(['bit', 'action']),\n",
              " WordList(['action', 'atleast']),\n",
              " WordList(['atleast', 'adventure']),\n",
              " WordList(['adventure', 'hosted']),\n",
              " WordList(['hosted', 'kept']),\n",
              " WordList(['kept', 'extreme']),\n",
              " WordList(['extreme', 'gore']),\n",
              " WordList(['gore', 'though']),\n",
              " WordList(['though', 'participate']),\n",
              " WordList(['participate', 'action']),\n",
              " WordList(['action', 'scene']),\n",
              " WordList(['scene', 'bit']),\n",
              " WordList(['bit', 'courteous']),\n",
              " WordList(['courteous', 'fellow']),\n",
              " WordList(['fellow', 'host']),\n",
              " WordList(['host', 'especially']),\n",
              " WordList(['especially', 'overpowered']),\n",
              " WordList(['overpowered', 'canon']),\n",
              " WordList(['canon', 'host']),\n",
              " WordList(['host', 'fellow']),\n",
              " WordList(['fellow', 'rpers']),\n",
              " WordList(['rpers', 'host']),\n",
              " WordList(['host', 'try']),\n",
              " WordList(['try', 'set']),\n",
              " WordList(['set', 'conflict']),\n",
              " WordList(['conflict', 'dunk']),\n",
              " WordList(['dunk', 'couple']),\n",
              " WordList(['couple', 'reply']),\n",
              " WordList(['reply', 'try']),\n",
              " WordList(['try', 'rush']),\n",
              " WordList(['rush', 'along']),\n",
              " WordList(['along', 'rp']),\n",
              " WordList(['rp', 'thread']),\n",
              " WordList(['thread', 'aside']),\n",
              " WordList(['aside', 'courteous']),\n",
              " WordList(['courteous', 'fight']),\n",
              " WordList(['fight', 'whenever']),\n",
              " WordList(['whenever', 'happen']),\n",
              " WordList(['happen', 'courteous']),\n",
              " WordList(['courteous', 'others']),\n",
              " WordList(['others', 'general']),\n",
              " WordList(['general', 'harmless']),\n",
              " WordList(['harmless', 'joke']),\n",
              " WordList(['joke', 'towards']),\n",
              " WordList(['towards', 'fine']),\n",
              " WordList(['fine', 'receiving']),\n",
              " WordList(['receiving', 'mind']),\n",
              " WordList(['mind', 'excessive']),\n",
              " WordList(['excessive', 'hate']),\n",
              " WordList(['hate', 'reason']),\n",
              " WordList(['reason', 'allowed']),\n",
              " WordList(['allowed', 'uncourteous']),\n",
              " WordList(['uncourteous', 'saying']),\n",
              " WordList(['saying', 'ok']),\n",
              " WordList(['ok', 'completely']),\n",
              " WordList(['completely', 'uncourteous']),\n",
              " WordList(['uncourteous', 'towards']),\n",
              " WordList(['towards', 'canon']),\n",
              " WordList(['canon', 'excuse']),\n",
              " WordList(['excuse', 'giving']),\n",
              " WordList(['giving', 'especially']),\n",
              " WordList(['especially', 'host']),\n",
              " WordList(['host', 'reply']),\n",
              " WordList(['reply', 'appreciated']),\n",
              " WordList(['appreciated', 'may']),\n",
              " WordList(['may', 'college']),\n",
              " WordList(['college', 'full']),\n",
              " WordList(['full', 'job']),\n",
              " WordList(['job', 'online']),\n",
              " WordList(['online', 'can']),\n",
              " WordList(['can', 'not']),\n",
              " WordList(['not', 'control']),\n",
              " WordList(['control', 'others']),\n",
              " WordList(['others', 'must']),\n",
              " WordList(['must', 'control']),\n",
              " WordList(['control', 'unless']),\n",
              " WordList(['unless', 'permission']),\n",
              " WordList(['permission', 'careful']),\n",
              " WordList(['careful', 'count']),\n",
              " WordList(['count', 'actio']),\n",
              " WordList(['actio', 'n']),\n",
              " WordList(['n', 'scene']),\n",
              " WordList(['scene', 'cant']),\n",
              " WordList(['cant', 'control']),\n",
              " WordList(['control', 'die']),\n",
              " WordList(['die', 'write']),\n",
              " WordList(['write', 'bio']),\n",
              " WordList(['bio', 'ref']),\n",
              " WordList(['ref', 'sheet']),\n",
              " WordList(['sheet', 'upper']),\n",
              " WordList(['upper', 'tag']),\n",
              " WordList(['tag', 'reference']),\n",
              " WordList(['reference', 'update']),\n",
              " WordList(['update', 'bios']),\n",
              " WordList(['bios', 'others']),\n",
              " WordList(['others', 'personality']),\n",
              " WordList(['personality', 'obligated']),\n",
              " WordList(['obligated', 'recommend']),\n",
              " WordList(['recommend', 'especially']),\n",
              " WordList(['especially', 'join']),\n",
              " WordList(['join', 'thread']),\n",
              " WordList(['thread', 'running']),\n",
              " WordList(['running', 'confused']),\n",
              " WordList(['confused', 'course']),\n",
              " WordList(['course', 'replace']),\n",
              " WordList(['replace', 'bio']),\n",
              " WordList(['bio', 'ref']),\n",
              " WordList(['ref', 'sheet']),\n",
              " WordList(['sheet', 'contains']),\n",
              " WordList(['contains', 'bio']),\n",
              " WordList(['bio', 'violate']),\n",
              " WordList(['violate', 'rule']),\n",
              " WordList(['rule', 'three']),\n",
              " WordList(['three', 'warning']),\n",
              " WordList(['warning', 'grave']),\n",
              " WordList(['grave', 'sin']),\n",
              " WordList(['sin', 'violate']),\n",
              " WordList(['violate', 'rule']),\n",
              " WordList(['rule', 'accident']),\n",
              " WordList(['accident', 'head']),\n",
              " WordList(['head', 'whenever']),\n",
              " WordList(['whenever', 'may']),\n",
              " WordList(['may', 'south']),\n",
              " WordList(['south', 'fourth']),\n",
              " WordList(['fourth', 'violation']),\n",
              " WordList(['violation', 'learned']),\n",
              " WordList(['learned', 'warning']),\n",
              " WordList(['warning', 'beforehand']),\n",
              " WordList(['beforehand', 'others']),\n",
              " WordList(['others', 'may']),\n",
              " WordList(['may', 'ask']),\n",
              " WordList(['ask', 'leave']),\n",
              " WordList(['leave', 'rp']),\n",
              " WordList(['rp', 'thread']),\n",
              " WordList(['thread', 'emphasi']),\n",
              " WordList(['emphasi', 'z']),\n",
              " WordList(['z', 'e']),\n",
              " WordList(['e', 'might']),\n",
              " WordList(['might', 'rp']),\n",
              " WordList(['rp', 'playing']),\n",
              " WordList(['playing', 'dungeon']),\n",
              " WordList(['dungeon', 'dragon']),\n",
              " WordList(['dragon', 'rp']),\n",
              " WordList(['rp', 'enforcing']),\n",
              " WordList(['enforcing', 'dice']),\n",
              " WordList(['dice', 'rolling']),\n",
              " WordList(['rolling', 'try']),\n",
              " WordList(['try', 'keep']),\n",
              " WordList(['keep', 'cast']),\n",
              " WordList(['cast', 'rp']),\n",
              " WordList(['rp', 'fairly']),\n",
              " WordList(['fairly', 'balanced']),\n",
              " WordList(['balanced', 'nobody']),\n",
              " WordList(['nobody', 'completely']),\n",
              " WordList(['completely', 'bite']),\n",
              " WordList(['bite', 'dust']),\n",
              " WordList(['dust', 'planning']),\n",
              " WordList(['planning', 'entering']),\n",
              " WordList(['entering', 'using']),\n",
              " WordList(['using', 'god']),\n",
              " WordList(['god', 'godlike']),\n",
              " WordList(['godlike', 'power']),\n",
              " WordList(['power', 'probably']),\n",
              " WordList(['probably', 'better']),\n",
              " WordList(['better', 'lastly']),\n",
              " WordList(['lastly', 'limit']),\n",
              " WordList(['limit', 'many']),\n",
              " WordList(['many', 'recommend']),\n",
              " WordList(['recommend', 'playing']),\n",
              " WordList(['playing', 'max']),\n",
              " WordList(['max', 'easier']),\n",
              " WordList(['easier', 'tell']),\n",
              " WordList(['tell', 'secret']),\n",
              " WordList(['secret', 'password']),\n",
              " WordList(['password', 'rule']),\n",
              " WordList(['rule', 'bold']),\n",
              " WordList(['bold', 'letter']),\n",
              " WordList(['letter', 'every']),\n",
              " WordList(['every', 'part']),\n",
              " WordList(['part', 'rule']),\n",
              " WordList(['rule', 'putting']),\n",
              " WordList(['putting', 'chronological']),\n",
              " WordList(['chronological', 'order']),\n",
              " WordList(['order', 'form']),\n",
              " WordList(['form', 'word']),\n",
              " WordList(['word', 'deny']),\n",
              " WordList(['deny', 'rule']),\n",
              " WordList(['rule', 'biosreference']),\n",
              " WordList(['biosreference', 'sheet']),\n",
              " WordList(['sheet', 'dualdragons']),\n",
              " WordList(['dualdragons', 'danivere']),\n",
              " WordList(['danivere', 'danivere']),\n",
              " WordList(['danivere', 'outfit']),\n",
              " WordList(['outfit', 'colour']),\n",
              " WordList(['colour', 'n']),\n",
              " WordList(['n', 'danivere']),\n",
              " WordList(['danivere', 'chompgifx']),\n",
              " WordList(['chompgifx', 'dani']),\n",
              " WordList(['dani', 'test']),\n",
              " WordList(['test', 'additional']),\n",
              " WordList(['additional', 'infofear']),\n",
              " WordList(['infofear', 'floodsweaknesses']),\n",
              " WordList(['floodsweaknesses', 'rangecurrent']),\n",
              " WordList(['rangecurrent', 'interest']),\n",
              " WordList(['interest', 'genius']),\n",
              " WordList(['genius', 'daemon']),\n",
              " WordList(['daemon', 'lacondore']),\n",
              " WordList(['lacondore', 'daemon']),\n",
              " WordList(['daemon', 'lacondore']),\n",
              " WordList(['lacondore', 'stand']),\n",
              " WordList(['stand', 'meter']),\n",
              " WordList(['meter', 'black']),\n",
              " WordList(['black', 'hair']),\n",
              " WordList(['hair', 'thin']),\n",
              " WordList(['thin', 'wavy']),\n",
              " WordList(['wavy', 'tuft']),\n",
              " WordList(['tuft', 'hair']),\n",
              " WordList(['hair', 'sticking']),\n",
              " WordList(['sticking', 'upwards']),\n",
              " WordList(['upwards', 'headthe']),\n",
              " WordList(['headthe', 'man']),\n",
              " WordList(['man', 'blue']),\n",
              " WordList(['blue', 'eye']),\n",
              " WordList(['eye', 'stubble']),\n",
              " WordList(['stubble', 'beard']),\n",
              " WordList(['beard', 'face']),\n",
              " WordList(['face', 'showing']),\n",
              " WordList(['showing', 'sign']),\n",
              " WordList(['sign', 'age']),\n",
              " WordList(['age', 'wear']),\n",
              " WordList(['wear', 'short']),\n",
              " WordList(['short', 'dark']),\n",
              " WordList(['dark', 'grey']),\n",
              " WordList(['grey', 'coat']),\n",
              " WordList(['coat', 'button']),\n",
              " WordList(['button', 'grey']),\n",
              " WordList(['grey', 'pant']),\n",
              " WordList(['pant', 'reaching']),\n",
              " WordList(['reaching', 'boot']),\n",
              " WordList(['boot', 'wearing']),\n",
              " WordList(['wearing', 'black']),\n",
              " WordList(['black', 'gloveson']),\n",
              " WordList(['gloveson', 'doubleheaded']),\n",
              " WordList(['doubleheaded', 'axe']),\n",
              " WordList(['axe', 'height']),\n",
              " WordList(['height', 'meter']),\n",
              " WordList(['meter', 'foot']),\n",
              " WordList(['foot', 'overlord']),\n",
              " WordList(['overlord', 'formage']),\n",
              " WordList(['formage', 'oldpersonality']),\n",
              " WordList(['oldpersonality', 'hesistant']),\n",
              " WordList(['hesistant', 'laidback']),\n",
              " WordList(['laidback', 'gentlestrengths']),\n",
              " WordList(['gentlestrengths', 'proficient']),\n",
              " WordList(['proficient', 'weapon']),\n",
              " WordList(['weapon', 'resistant']),\n",
              " WordList(['resistant', 'dark']),\n",
              " WordList(['dark', 'magic']),\n",
              " WordList(['magic', 'hard']),\n",
              " WordList(['hard', 'break']),\n",
              " WordList(['break', 'spirit']),\n",
              " WordList(['spirit', 'despite']),\n",
              " WordList(['despite', 'coming']),\n",
              " WordList(['coming', 'cowardly']),\n",
              " WordList(['cowardly', 'hesistant']),\n",
              " WordList(['hesistant', 'overlord']),\n",
              " WordList(['overlord', 'form']),\n",
              " WordList(['form', 'powerful']),\n",
              " WordList(['powerful', 'dark']),\n",
              " WordList(['dark', 'magic']),\n",
              " WordList(['magic', 'natural']),\n",
              " WordList(['natural', 'regeneration']),\n",
              " WordList(['regeneration', 'ultimate']),\n",
              " WordList(['ultimate', 'attack']),\n",
              " WordList(['attack', 'inflict']),\n",
              " WordList(['inflict', 'necrosis']),\n",
              " WordList(['necrosis', 'foesweaknesses']),\n",
              " WordList(['foesweaknesses', 'holy']),\n",
              " WordList(['holy', 'magic']),\n",
              " WordList(['magic', 'ol']),\n",
              " WordList(['ol', 'form']),\n",
              " WordList(['form', 'serenity']),\n",
              " WordList(['serenity', 'age']),\n",
              " WordList(['age', 'yearsheight']),\n",
              " WordList(['yearsheight', 'personality']),\n",
              " WordList(['personality', 'irritable']),\n",
              " WordList(['irritable', 'surprisingly']),\n",
              " WordList(['surprisingly', 'patient']),\n",
              " WordList(['patient', 'cunning']),\n",
              " WordList(['cunning', 'caring']),\n",
              " WordList(['caring', 'shoot']),\n",
              " WordList(['shoot', 'bloodlustfueled']),\n",
              " WordList(['bloodlustfueled', 'frenzy']),\n",
              " WordList(['frenzy', 'agitatedlikes']),\n",
              " WordList(['agitatedlikes', 'botanics']),\n",
              " WordList(['botanics', 'hot']),\n",
              " WordList(['hot', 'chocolate']),\n",
              " WordList(['chocolate', 'belief']),\n",
              " WordList(['belief', 'phrase']),\n",
              " WordList(['phrase', 'revenge']),\n",
              " WordList(['revenge', 'best']),\n",
              " WordList(['best', 'served']),\n",
              " WordList(['served', 'colddislikes']),\n",
              " WordList(['colddislikes', 'coffee']),\n",
              " WordList(['coffee', 'arrogant']),\n",
              " WordList(['arrogant', 'personality']),\n",
              " WordList(['personality', 'hate']),\n",
              " WordList(['hate', 'war']),\n",
              " WordList(['war', 'due']),\n",
              " WordList(['due', 'past']),\n",
              " WordList(['past', 'eventsstrengths']),\n",
              " WordList(['eventsstrengths', 'physically']),\n",
              " WordList(['physically', 'strong']),\n",
              " WordList(['strong', 'muscular']),\n",
              " WordList(['muscular', 'activates']),\n",
              " WordList(['activates', 'surge']),\n",
              " WordList(['surge', 'gain']),\n",
              " WordList(['gain', 'gargantuan']),\n",
              " WordList(['gargantuan', 'amount']),\n",
              " WordList(['amount', 'strength']),\n",
              " WordList(['strength', 'capable']),\n",
              " WordList(['capable', 'destroying']),\n",
              " WordList(['destroying', 'ripping']),\n",
              " WordList(['ripping', 'apart']),\n",
              " WordList(['apart', 'tank']),\n",
              " WordList(['tank', 'building']),\n",
              " WordList(['building', 'bare']),\n",
              " WordList(['bare', 'hand']),\n",
              " WordList(['hand', 'cunning']),\n",
              " WordList(['cunning', 'enough']),\n",
              " WordList(['enough', 'strategy']),\n",
              " WordList(['strategy', 'bypass']),\n",
              " WordList(['bypass', 'opponent']),\n",
              " WordList(['opponent', 'underestimate']),\n",
              " WordList(['underestimate', 'guard']),\n",
              " WordList(['guard', 'downweaknesses']),\n",
              " WordList(['downweaknesses', 'prone']),\n",
              " WordList(['prone', 'weak']),\n",
              " WordList(['weak', 'mental']),\n",
              " WordList(['mental', 'attack']),\n",
              " WordList(['attack', 'mindcontrol']),\n",
              " WordList(['mindcontrol', 'extent']),\n",
              " WordList(['extent', 'ranged']),\n",
              " WordList(['ranged', 'fighter']),\n",
              " WordList(['fighter', 'though']),\n",
              " WordList(['though', 'hurl']),\n",
              " WordList(['hurl', 'object']),\n",
              " WordList(['object', 'foe']),\n",
              " WordList(['foe', 'removing']),\n",
              " WordList(['removing', 'bandage']),\n",
              " WordList(['bandage', 'around']),\n",
              " WordList(['around', 'body']),\n",
              " WordList(['body', 'us']),\n",
              " WordList(['us', 'surge']),\n",
              " WordList(['surge', 'cause']),\n",
              " WordList(['cause', 'overload']),\n",
              " WordList(['overload', 'surge']),\n",
              " WordList(['surge', 'cause']),\n",
              " WordList(['cause', 'muscle']),\n",
              " WordList(['muscle', 'failure']),\n",
              " WordList(['failure', 'hecate']),\n",
              " WordList(['hecate', 'singlespire']),\n",
              " WordList(['singlespire', 'yes']),\n",
              " WordList(['yes', 'last']),\n",
              " WordList(['last', 'despite']),\n",
              " WordList(['despite', 'mentioned']),\n",
              " WordList(['mentioned', 'canon']),\n",
              " WordList(['canon', 'yetnickname']),\n",
              " WordList(['yetnickname', 'cate']),\n",
              " WordList(['cate', 'age']),\n",
              " WordList(['age', 'yearsheight']),\n",
              " WordList(['yearsheight', 'personality']),\n",
              " WordList(['personality', 'short']),\n",
              " WordList(['short', 'temper']),\n",
              " WordList(['temper', 'sassy']),\n",
              " WordList(['sassy', 'pretty']),\n",
              " WordList(['pretty', 'maturelikes']),\n",
              " WordList(['maturelikes', 'straightforward']),\n",
              " WordList(['straightforward', 'dumb']),\n",
              " WordList(['dumb', 'rash']),\n",
              " WordList(['rash', 'admit']),\n",
              " WordList(['admit', 'though']),\n",
              " WordList(['though', 'pretty']),\n",
              " WordList(['pretty', 'cute']),\n",
              " WordList(['cute', 'wear']),\n",
              " WordList(['wear', 'black']),\n",
              " WordList(['black', 'greydislikes']),\n",
              " WordList(['greydislikes', 'sneak']),\n",
              " WordList(['sneak', 'attack']),\n",
              " WordList(['attack', 'fighting']),\n",
              " WordList(['fighting', 'dirty']),\n",
              " WordList(['dirty', 'smug']),\n",
              " WordList(['smug', 'sassy']),\n",
              " WordList(['sassy', 'towards']),\n",
              " WordList(['towards', 'despite']),\n",
              " WordList(['despite', 'shes']),\n",
              " WordList(['shes', 'bit']),\n",
              " WordList(['bit', 'hypocrite']),\n",
              " WordList(['hypocrite', 'tends']),\n",
              " WordList(['tends', 'avoid']),\n",
              " WordList(['avoid', 'using']),\n",
              " WordList(['using', 'fire']),\n",
              " WordList(['fire', 'prefers']),\n",
              " WordList(['prefers', 'wear']),\n",
              " WordList(['wear', 'colourful']),\n",
              " WordList(['colourful', 'outfit']),\n",
              " WordList(['outfit', 'strength']),\n",
              " WordList(['strength', 'ha']),\n",
              " WordList(['ha', 'large']),\n",
              " WordList(['large', 'variety']),\n",
              " WordList(['variety', 'magic']),\n",
              " WordList(['magic', 'spell']),\n",
              " WordList(['spell', 'decently']),\n",
              " WordList(['decently', 'proficient']),\n",
              " WordList(['proficient', 'ultimate']),\n",
              " WordList(['ultimate', 'skill']),\n",
              " WordList(['skill', 'syphon']),\n",
              " WordList(['syphon', 'gauntlet']),\n",
              " WordList(['gauntlet', 'allows']),\n",
              " WordList(['allows', 'drain']),\n",
              " WordList(['drain', 'magic']),\n",
              " WordList(['magic', 'energy']),\n",
              " WordList(['energy', 'touching']),\n",
              " WordList(['touching', 'skill']),\n",
              " WordList(['skill', 'recharge']),\n",
              " WordList(['recharge', 'used']),\n",
              " WordList(['used', 'absorbed']),\n",
              " WordList(['absorbed', 'energy']),\n",
              " WordList(['energy', 'magic']),\n",
              " WordList(['magic', 'converted']),\n",
              " WordList(['converted', 'extra']),\n",
              " WordList(['extra', 'power']),\n",
              " WordList(['power', 'magic']),\n",
              " WordList(['magic', 'broomstick']),\n",
              " WordList(['broomstick', 'flyweaknesses']),\n",
              " WordList(['flyweaknesses', 'physically']),\n",
              " WordList(['physically', 'proficient']),\n",
              " WordList(['proficient', 'easily']),\n",
              " WordList(['easily', 'overwhelmed']),\n",
              " WordList(['overwhelmed', 'physically']),\n",
              " WordList(['physically', 'strong']),\n",
              " WordList(['strong', 'opponent']),\n",
              " WordList(['opponent', 'doesnt']),\n",
              " WordList(['doesnt', 'match']),\n",
              " WordList(['match', 'magicresisting']),\n",
              " WordList(['magicresisting', 'opponent']),\n",
              " WordList(['opponent', 'doesnt']),\n",
              " WordList(['doesnt', 'mean']),\n",
              " WordList(['mean', 'trick']),\n",
              " WordList(['trick', 'thoughhusband']),\n",
              " WordList(['thoughhusband', 'andrew']),\n",
              " WordList(['andrew', 'lacondore']),\n",
              " WordList(['lacondore', 'andrew']),\n",
              " WordList(['andrew', 'lacondoreage']),\n",
              " WordList(['lacondoreage', 'yearsheight']),\n",
              " WordList(['yearsheight', 'meter']),\n",
              " WordList(['meter', 'personality']),\n",
              " WordList(['personality', 'extrovert']),\n",
              " WordList(['extrovert', 'rash']),\n",
              " WordList(['rash', 'hotheaded']),\n",
              " WordList(['hotheaded', 'timeslikes']),\n",
              " WordList(['timeslikes', 'adventure']),\n",
              " WordList(['adventure', 'family']),\n",
              " WordList(['family', 'crunchy']),\n",
              " WordList(['crunchy', 'food']),\n",
              " WordList(['food', 'dislike']),\n",
              " WordList(['dislike', 'barber']),\n",
              " WordList(['barber', 'desertersdislikes']),\n",
              " WordList(['desertersdislikes', 'soggy']),\n",
              " WordList(['soggy', 'foodstrengths']),\n",
              " WordList(['foodstrengths', 'fire']),\n",
              " WordList(['fire', 'sorcery']),\n",
              " WordList(['sorcery', 'limited']),\n",
              " WordList(['limited', 'healing']),\n",
              " WordList(['healing', 'using']),\n",
              " WordList(['using', 'fire']),\n",
              " WordList(['fire', 'magic']),\n",
              " WordList(['magic', 'andrew']),\n",
              " WordList(['andrew', 'able']),\n",
              " WordList(['able', 'steal']),\n",
              " WordList(['steal', 'spell']),\n",
              " WordList(['spell', 'steal']),\n",
              " WordList(['steal', 'foe']),\n",
              " WordList(['foe', 'item']),\n",
              " WordList(['item', 'andrew']),\n",
              " WordList(['andrew', 'andrew']),\n",
              " WordList(['andrew', 'mace']),\n",
              " WordList(['mace', 'morph']),\n",
              " WordList(['morph', 'overlord']),\n",
              " WordList(['overlord', 'form']),\n",
              " WordList(['form', 'fly']),\n",
              " WordList(['fly', 'short']),\n",
              " WordList(['short', 'distance']),\n",
              " WordList(['distance', 'regenerate']),\n",
              " WordList(['regenerate', 'finally']),\n",
              " WordList(['finally', 'redirect']),\n",
              " WordList(['redirect', 'lightningweaknesses']),\n",
              " WordList(['lightningweaknesses', 'holy']),\n",
              " WordList(['holy', 'magic']),\n",
              " WordList(['magic', 'water']),\n",
              " WordList(['water', 'ice']),\n",
              " WordList(['ice', 'small']),\n",
              " WordList(['small', 'extent']),\n",
              " WordList(['extent', 'andrew']),\n",
              " WordList(['andrew', 'base']),\n",
              " WordList(['base', 'super']),\n",
              " WordList(['super', 'physically']),\n",
              " WordList(['physically', 'proficient']),\n",
              " WordList(['proficient', 'physically']),\n",
              " WordList(['physically', 'strong']),\n",
              " WordList(['strong', 'enemy']),\n",
              " WordList(['enemy', 'overwhelm']),\n",
              " WordList(['overwhelm', 'doesnt']),\n",
              " WordList(['doesnt', 'match']),\n",
              " WordList(['match', 'sandwife']),\n",
              " WordList(['sandwife', 'hecate']),\n",
              " WordList(['hecate', 'singlespire']),\n",
              " WordList(['singlespire', 'akros']),\n",
              " WordList(['akros', 'age']),\n",
              " WordList(['age', 'canon']),\n",
              " WordList(['canon', 'currentlyheight']),\n",
              " WordList(['currentlyheight', 'weight']),\n",
              " WordList(['weight', 'kg']),\n",
              " WordList(['kg', 'lb']),\n",
              " WordList(['lb', 'bio']),\n",
              " WordList(['bio', 'akros']),\n",
              " WordList(['akros', 'man']),\n",
              " WordList(['man', 'wrapped']),\n",
              " WordList(['wrapped', 'mystery']),\n",
              " WordList(['mystery', 'served']),\n",
              " WordList(['served', 'slave']),\n",
              " WordList(['slave', 'youth']),\n",
              " WordList(['youth', 'inherited']),\n",
              " WordList(['inherited', 'power']),\n",
              " WordList(['power', 'magma']),\n",
              " WordList(['magma', 'titan']),\n",
              " WordList(['titan', 'broke']),\n",
              " WordList(['broke', 'shackle']),\n",
              " WordList(['shackle', 'cherished']),\n",
              " WordList(['cherished', 'freedom']),\n",
              " WordList(['freedom', 'swore']),\n",
              " WordList(['swore', 'avenge']),\n",
              " WordList(['avenge', 'fallen']),\n",
              " WordList(['fallen', 'comradespowers']),\n",
              " WordList(['comradespowers', 'stronger']),\n",
              " WordList(['stronger', 'average']),\n",
              " WordList(['average', 'person']),\n",
              " WordList(['person', 'manipulate']),\n",
              " WordList(['manipulate', 'earth']),\n",
              " WordList(['earth', 'stone']),\n",
              " WordList(['stone', 'sand']),\n",
              " WordList(['sand', 'mean']),\n",
              " WordList(['mean', 'move']),\n",
              " WordList(['move', 'transform']),\n",
              " WordList(['transform', 'different']),\n",
              " WordList(['different', 'shape']),\n",
              " WordList(['shape', 'shoot']),\n",
              " WordList(['shoot', 'etc']),\n",
              " WordList(['etc', 'akros']),\n",
              " WordList(['akros', 'special']),\n",
              " WordList(['special', 'ability']),\n",
              " WordList(['ability', 'called']),\n",
              " WordList(['called', 'basalt']),\n",
              " WordList(['basalt', 'legacy']),\n",
              " WordList(['legacy', 'state']),\n",
              " WordList(['state', 'power']),\n",
              " WordList(['power', 'magma']),\n",
              " WordList(['magma', 'titan']),\n",
              " WordList(['titan', 'basalt']),\n",
              " WordList(['basalt', 'surge']),\n",
              " WordList(['surge', 'body']),\n",
              " WordList(['body', 'blood']),\n",
              " WordList(['blood', 'heat']),\n",
              " WordList(['heat', 'immense']),\n",
              " WordList(['immense', 'temperature']),\n",
              " WordList(['temperature', 'skin']),\n",
              " WordList(['skin', 'hardens']),\n",
              " WordList(['hardens', 'rocklike']),\n",
              " WordList(['rocklike', 'state']),\n",
              " WordList(['state', 'akros']),\n",
              " WordList(['akros', 'radiates']),\n",
              " WordList(['radiates', 'heat']),\n",
              " WordList(['heat', 'field']),\n",
              " WordList(['field', 'around']),\n",
              " WordList(['around', 'reaching']),\n",
              " WordList(['reaching', 'temperature']),\n",
              " WordList(['temperature', 'celcius']),\n",
              " WordList(['celcius', 'fahrenheit']),\n",
              " WordList(['fahrenheit', 'akros']),\n",
              " WordList(['akros', 'currently']),\n",
              " WordList(['currently', 'hold']),\n",
              " WordList(['hold', 'state']),\n",
              " WordList(['state', 'minute']),\n",
              " WordList(['minute', 'hurt']),\n",
              " WordList(['hurt', 'internallyweaknesses']),\n",
              " WordList(['internallyweaknesses', 'akros']),\n",
              " WordList(['akros', 'hard']),\n",
              " WordList(['hard', 'hit']),\n",
              " WordList(['hit', 'flying']),\n",
              " WordList(['flying', 'enemy']),\n",
              " WordList(['enemy', 'legendofgenii']),\n",
              " WordList(['legendofgenii', 'costume']),\n",
              " WordList(['costume', 'genius']),\n",
              " WordList(['genius', 'genage']),\n",
              " WordList(['genage', 'hed']),\n",
              " WordList(['hed', 'lie']),\n",
              " WordList(['lie', 'say']),\n",
              " WordList(['say', 'height']),\n",
              " WordList(['height', 'ftweight']),\n",
              " WordList(['ftweight', 'stone']),\n",
              " WordList(['stone', 'personality']),\n",
              " WordList(['personality', 'trait']),\n",
              " WordList(['trait', 'curious']),\n",
              " WordList(['curious', 'gullible']),\n",
              " WordList(['gullible', 'shy']),\n",
              " WordList(['shy', 'quick']),\n",
              " WordList(['quick', 'tempered']),\n",
              " WordList(['tempered', 'stubborn']),\n",
              " WordList(['stubborn', 'loyal']),\n",
              " WordList(['loyal', 'power']),\n",
              " WordList(['power', 'glowy']),\n",
              " WordList(['glowy', 'hand']),\n",
              " WordList(['hand', 'sure']),\n",
              " WordList(['sure', 'yet']),\n",
              " WordList(['yet', 'magic']),\n",
              " WordList(['magic', 'exploring']),\n",
              " WordList(['exploring', 'learning']),\n",
              " WordList(['learning', 'sword']),\n",
              " WordList(['sword', 'banter']),\n",
              " WordList(['banter', 'frog']),\n",
              " WordList(['frog', 'whiskey']),\n",
              " WordList(['whiskey', 'dislike']),\n",
              " WordList(['dislike', 'weak']),\n",
              " WordList(['weak', 'called']),\n",
              " WordList(['called', 'weak']),\n",
              " WordList(['weak', 'small']),\n",
              " WordList(['small', 'space']),\n",
              " WordList(['space', 'water']),\n",
              " WordList(['water', 'height']),\n",
              " WordList(['height', 'zombie']),\n",
              " WordList(['zombie', 'whiskey']),\n",
              " WordList(['whiskey', 'aftermath']),\n",
              " WordList(['aftermath', 'current']),\n",
              " WordList(['current', 'interest']),\n",
              " WordList(['interest', 'danivere']),\n",
              " WordList(['danivere', 'erras']),\n",
              " WordList(['erras', 'age']),\n",
              " WordList(['age', 'height']),\n",
              " WordList(['height', 'ft']),\n",
              " WordList(['ft', 'weight']),\n",
              " WordList(['weight', 'stone']),\n",
              " WordList(['stone', 'personality']),\n",
              " WordList(['personality', 'trait']),\n",
              " WordList(['trait', 'trained']),\n",
              " WordList(['trained', 'knight']),\n",
              " WordList(['knight', 'suspicious']),\n",
              " WordList(['suspicious', 'others']),\n",
              " WordList(['others', 'initially']),\n",
              " WordList(['initially', 'resourceful']),\n",
              " WordList(['resourceful', 'spoken']),\n",
              " WordList(['spoken', 'noble']),\n",
              " WordList(['noble', 'friendly']),\n",
              " WordList(['friendly', 'supportive']),\n",
              " WordList(['supportive', 'power']),\n",
              " WordList(['power', 'none']),\n",
              " WordList(['none', 'wing']),\n",
              " WordList(['wing', 'removed']),\n",
              " WordList(['removed', 'weapon']),\n",
              " WordList(['weapon', 'longsword']),\n",
              " WordList(['longsword', 'training']),\n",
              " WordList(['training', 'sparring']),\n",
              " WordList(['sparring', 'sword']),\n",
              " WordList(['sword', 'game']),\n",
              " WordList(['game', 'card']),\n",
              " WordList(['card', 'etc']),\n",
              " WordList(['etc', 'meade']),\n",
              " WordList(['meade', 'dad']),\n",
              " WordList(['dad', 'joke']),\n",
              " WordList(['joke', 'dislike']),\n",
              " WordList(['dislike', 'bellah']),\n",
              " WordList(['bellah', 'rushing']),\n",
              " WordList(['rushing', 'magic']),\n",
              " WordList(['magic', 'fire']),\n",
              " WordList(['fire', 'unnecessary']),\n",
              " WordList(['unnecessary', 'battle']),\n",
              " WordList(['battle', 'changing']),\n",
              " WordList(['changing', 'nappy']),\n",
              " WordList(['nappy', 'cult']),\n",
              " WordList(['cult', 'cddcebabbaacaajpegx']),\n",
              " WordList(['cddcebabbaacaajpegx', 'bellahage']),\n",
              " WordList(['bellahage', 'unknown']),\n",
              " WordList(['unknown', 'mid']),\n",
              " WordList(['mid', 'sheight']),\n",
              " WordList(['sheight', 'ft']),\n",
              " WordList(['ft', 'inc']),\n",
              " WordList(['inc', 'earsweight']),\n",
              " WordList(['earsweight', 'stone']),\n",
              " WordList(['stone', 'personality']),\n",
              " WordList(['personality', 'trait']),\n",
              " WordList(['trait', 'mysterious']),\n",
              " WordList(['mysterious', 'calculating']),\n",
              " WordList(['calculating', 'quick']),\n",
              " WordList(['quick', 'thinking']),\n",
              " WordList(['thinking', 'unsympathetic']),\n",
              " WordList(['unsympathetic', 'dry']),\n",
              " WordList(['dry', 'humour']),\n",
              " WordList(['humour', 'superior']),\n",
              " WordList(['superior', 'attitude']),\n",
              " WordList(['attitude', 'self']),\n",
              " WordList(['self', 'reliant']),\n",
              " WordList(['reliant', 'secretive']),\n",
              " WordList(['secretive', 'confident']),\n",
              " WordList(['confident', 'power']),\n",
              " WordList(['power', 'longevity']),\n",
              " WordList(['longevity', 'speed']),\n",
              " WordList(['speed', 'mph']),\n",
              " WordList(['mph', 'foot']),\n",
              " WordList(['foot', 'weapon']),\n",
              " WordList(['weapon', 'dagger']),\n",
              " WordList(['dagger', 'martial']),\n",
              " WordList(['martial', 'pushing']),\n",
              " WordList(['pushing', 'button']),\n",
              " WordList(['button', 'underground']),\n",
              " WordList(['underground', 'aatma']),\n",
              " WordList(['aatma', 'god']),\n",
              " WordList(['god', 'death']),\n",
              " WordList(['death', 'history']),\n",
              " WordList(['history', 'myth']),\n",
              " WordList(['myth', 'fighting']),\n",
              " WordList(['fighting', 'hunting']),\n",
              " WordList(['hunting', 'talking']),\n",
              " WordList(['talking', 'genius']),\n",
              " WordList(['genius', 'another']),\n",
              " WordList(['another', 'language']),\n",
              " WordList(['language', 'erras']),\n",
              " WordList(['erras', 'cant']),\n",
              " WordList(['cant', 'understand']),\n",
              " WordList(['understand', 'rose']),\n",
              " WordList(['rose', 'dislike']),\n",
              " WordList(['dislike', 'erras']),\n",
              " WordList(['erras', 'small']),\n",
              " WordList(['small', 'talk']),\n",
              " WordList(['talk', 'mentioning']),\n",
              " WordList(['mentioning', 'ear']),\n",
              " WordList(['ear', 'losing']),\n",
              " WordList(['losing', 'past']),\n",
              " WordList(['past', 'gemma']),\n",
              " WordList(['gemma', 'gemmaage']),\n",
              " WordList(['gemmaage', 'height']),\n",
              " WordList(['height', 'weight']),\n",
              " WordList(['weight', 'kgpersonality']),\n",
              " WordList(['kgpersonality', 'trait']),\n",
              " WordList(['trait', 'nosy']),\n",
              " WordList(['nosy', 'caring']),\n",
              " WordList(['caring', 'bossy']),\n",
              " WordList(['bossy', 'smile']),\n",
              " WordList(['smile', 'cheerful']),\n",
              " WordList(['cheerful', 'power']),\n",
              " WordList(['power', 'nonelikes']),\n",
              " WordList(['nonelikes', 'chatting']),\n",
              " WordList(['chatting', 'joke']),\n",
              " WordList(['joke', 'shopping']),\n",
              " WordList(['shopping', 'cooking']),\n",
              " WordList(['cooking', 'cakedislikes']),\n",
              " WordList(['cakedislikes', 'mess']),\n",
              " WordList(['mess', 'working']),\n",
              " WordList(['working', 'bill']),\n",
              " WordList(['bill', 'stuck']),\n",
              " WordList(['stuck', 'rat']),\n",
              " WordList(['rat', 'scary']),\n",
              " WordList(['scary', 'kittyfox']),\n",
              " WordList(['kittyfox', 'aerith']),\n",
              " WordList(['aerith', 'age']),\n",
              " WordList(['age', 'personality']),\n",
              " WordList(['personality', 'myersbriggs']),\n",
              " WordList(['myersbriggs', 'type']),\n",
              " WordList(['type', 'esfpa']),\n",
              " WordList(['esfpa', 'magic']),\n",
              " WordList(['magic', 'meeting']),\n",
              " WordList(['meeting', 'dislikesfears']),\n",
              " WordList(['dislikesfears', 'past']),\n",
              " WordList(['past', 'orphan']),\n",
              " WordList(['orphan', 'talentspowers']),\n",
              " WordList(['talentspowers', 'spoiler']),\n",
              " WordList(['spoiler', 'luci']),\n",
              " WordList(['luci', 'luckborough']),\n",
              " WordList(['luckborough', 'age']),\n",
              " WordList(['age', 'personality']),\n",
              " WordList(['personality', 'myers']),\n",
              " WordList(['myers', 'briggs']),\n",
              " WordList(['briggs', 'type']),\n",
              " WordList(['type', 'infpt']),\n",
              " WordList(['infpt', 'baking']),\n",
              " WordList(['baking', 'friend']),\n",
              " WordList(['friend', 'reading']),\n",
              " WordList(['reading', 'friend']),\n",
              " WordList(['friend', 'dislikesfears']),\n",
              " WordList(['dislikesfears', 'spirit']),\n",
              " WordList(['spirit', 'rejection']),\n",
              " WordList(['rejection', 'harm']),\n",
              " WordList(['harm', 'care']),\n",
              " WordList(['care', 'talentspowers']),\n",
              " WordList(['talentspowers', 'baking']),\n",
              " WordList(['baking', 'playing']),\n",
              " WordList(['playing', 'violin']),\n",
              " WordList(['violin', 'hanako']),\n",
              " WordList(['hanako', 'kawahara']),\n",
              " WordList(['kawahara', 'age']),\n",
              " WordList(['age', 'personality']),\n",
              " WordList(['personality', 'myers']),\n",
              " WordList(['myers', 'briggs']),\n",
              " WordList(['briggs', 'type']),\n",
              " WordList(['type', 'enfpt']),\n",
              " WordList(['enfpt', 'snack']),\n",
              " WordList(['snack', 'magic']),\n",
              " WordList(['magic', 'boba']),\n",
              " WordList(['boba', 'tea']),\n",
              " WordList(['tea', 'friend']),\n",
              " WordList(['friend', 'manga']),\n",
              " WordList(['manga', 'making']),\n",
              " WordList(['making', 'self']),\n",
              " WordList(['self', 'aware']),\n",
              " WordList(['aware', 'remark']),\n",
              " WordList(['remark', 'dislikesfears']),\n",
              " WordList(['dislikesfears', 'called']),\n",
              " WordList(['called', 'furry']),\n",
              " WordList(['furry', 'left']),\n",
              " WordList(['left', 'able']),\n",
              " WordList(['able', 'control']),\n",
              " WordList(['control', 'power']),\n",
              " WordList(['power', 'talentspowers']),\n",
              " WordList(['talentspowers', 'high']),\n",
              " WordList(['high', 'level']),\n",
              " WordList(['level', 'magic']),\n",
              " WordList(['magic', 'th']),\n",
              " WordList(['th', 'wall']),\n",
              " WordList(['wall', 'breaking']),\n",
              " WordList(['breaking', 'lol']),\n",
              " WordList(['lol', 'jin']),\n",
              " WordList(['jin', 'kobayashi']),\n",
              " WordList(['kobayashi', 'age']),\n",
              " WordList(['age', 'personality']),\n",
              " WordList(['personality', 'myers']),\n",
              " WordList(['myers', 'briggs']),\n",
              " WordList(['briggs', 'type']),\n",
              " WordList(['type', 'infjt']),\n",
              " WordList(['infjt', 'aerith']),\n",
              " WordList(['aerith', 'plant']),\n",
              " WordList(['plant', 'science']),\n",
              " WordList(['science', 'music']),\n",
              " WordList(['music', 'dislikesfears']),\n",
              " WordList(['dislikesfears', 'making']),\n",
              " WordList(['making', 'bad']),\n",
              " WordList(['bad', 'impression']),\n",
              " WordList(['impression', 'harm']),\n",
              " WordList(['harm', 'nature']),\n",
              " WordList(['nature', 'talentspowers']),\n",
              " WordList(['talentspowers', 'control']),\n",
              " WordList(['control', 'plant']),\n",
              " WordList(['plant', 'forest']),\n",
              " WordList(['forest', 'spirit']),\n",
              " WordList(['spirit', 'plant']),\n",
              " WordList(['plant', 'connection']),\n",
              " WordList(['connection', 'delyththomasart']),\n",
              " WordList(['delyththomasart', 'aster']),\n",
              " WordList(['aster', 'height']),\n",
              " WordList(['height', 'aprox']),\n",
              " WordList(['aprox', 'race']),\n",
              " WordList(['race', 'human']),\n",
              " WordList(['human', 'forest']),\n",
              " WordList(['forest', 'spirit']),\n",
              " WordList(['spirit', 'hybridage']),\n",
              " WordList(['hybridage', 'stopped']),\n",
              " WordList(['stopped', 'counting']),\n",
              " WordList(['counting', 'aster']),\n",
              " WordList(['aster', 'spirit']),\n",
              " WordList(['spirit', 'caller']),\n",
              " WordList(['caller', 'travelling']),\n",
              " WordList(['travelling', 'arpund']),\n",
              " WordList(['arpund', 'bring']),\n",
              " WordList(['bring', 'spiritual']),\n",
              " WordList(['spiritual', 'balance']),\n",
              " WordList(['balance', 'heal']),\n",
              " WordList(['heal', 'spirit']),\n",
              " WordList(['spirit', 'st']),\n",
              " WordList(['st', 'risk']),\n",
              " WordList(['risk', 'becoming']),\n",
              " WordList(['becoming', 'feral']),\n",
              " WordList(['feral', 'demon']),\n",
              " WordList(['demon', 'travel']),\n",
              " WordList(['travel', 'search']),\n",
              " WordList(['search', 'hint']),\n",
              " WordList(['hint', 'mother']),\n",
              " WordList(['mother', 'location']),\n",
              " WordList(['location', 'laid']),\n",
              " WordList(['laid', 'prefering']),\n",
              " WordList(['prefering', 'peaceful']),\n",
              " WordList(['peaceful', 'route']),\n",
              " WordList(['route', 'solving']),\n",
              " WordList(['solving', 'conflict']),\n",
              " WordList(['conflict', 'fighting']),\n",
              " WordList(['fighting', 'directly']),\n",
              " WordList(['directly', 'push']),\n",
              " WordList(['push', 'shove']),\n",
              " WordList(['shove', 'fight']),\n",
              " WordList(['fight', 'staff']),\n",
              " WordList(['staff', 'suprisingly']),\n",
              " WordList(['suprisingly', 'nimble']),\n",
              " WordList(['nimble', 'acrobatic']),\n",
              " WordList(['acrobatic', 'weild']),\n",
              " WordList(['weild', 'fire']),\n",
              " WordList(['fire', 'magic']),\n",
              " WordList(['magic', 'along']),\n",
              " WordList(['along', 'invoking']),\n",
              " WordList(['invoking', 'aid']),\n",
              " WordList(['aid', 'local']),\n",
              " WordList(['local', 'nature']),\n",
              " WordList(['nature', 'spirit']),\n",
              " WordList(['spirit', 'form']),\n",
              " WordList(['form', 'tail']),\n",
              " WordList(['tail', 'fox']),\n",
              " WordList(['fox', 'larger']),\n",
              " WordList(['larger', 'dire']),\n",
              " WordList(['dire', 'fox']),\n",
              " WordList(['fox', 'blue']),\n",
              " WordList(['blue', 'flame']),\n",
              " WordList(['flame', 'mane']),\n",
              " WordList(['mane', 'ticked']),\n",
              " WordList(['ticked', 'makna']),\n",
              " WordList(['makna', 'height']),\n",
              " WordList(['height', 'roughly']),\n",
              " WordList(['roughly', 'ft']),\n",
              " WordList(['ft', 'ishrace']),\n",
              " WordList(['ishrace', 'land']),\n",
              " WordList(['land', 'dragonage']),\n",
              " WordList(['dragonage', 'ish']),\n",
              " WordList(['ish', 'makna']),\n",
              " WordList(['makna', 'spirited']),\n",
              " WordList(['spirited', 'stubborn']),\n",
              " WordList(['stubborn', 'land']),\n",
              " WordList(['land', 'dragon']),\n",
              " WordList(['dragon', 'hand']),\n",
              " WordList(['hand', 'raised']),\n",
              " WordList(['raised', 'aster']),\n",
              " WordList(['aster', 'egg']),\n",
              " WordList(['egg', 'carrot']),\n",
              " WordList(['carrot', 'rather']),\n",
              " WordList(['rather', 'fussy']),\n",
              " WordList(['fussy', 'hiw']),\n",
              " WordList(['hiw', 'shes']),\n",
              " ...]"
            ]
          },
          "metadata": {},
          "execution_count": 3
        }
      ]
    },
    {
      "cell_type": "markdown",
      "metadata": {
        "id": "RDP9w-SbnnB-"
      },
      "source": [
        "**Term frequency**"
      ]
    },
    {
      "cell_type": "code",
      "metadata": {
        "colab": {
          "base_uri": "https://localhost:8080/",
          "height": 424
        },
        "id": "kfHOUjp8JOse",
        "outputId": "b4fc6cda-5949-4645-c5b1-98ca74fd6a54"
      },
      "source": [
        "tf1 = (train['Original Post'][:2]).apply(lambda x: pd.value_counts(x.split(\" \"))).sum(axis = 0).reset_index()\n",
        "tf1.columns = ['words','tf']\n",
        "tf1"
      ],
      "execution_count": 4,
      "outputs": [
        {
          "output_type": "execute_result",
          "data": {
            "text/html": [
              "<div>\n",
              "<style scoped>\n",
              "    .dataframe tbody tr th:only-of-type {\n",
              "        vertical-align: middle;\n",
              "    }\n",
              "\n",
              "    .dataframe tbody tr th {\n",
              "        vertical-align: top;\n",
              "    }\n",
              "\n",
              "    .dataframe thead th {\n",
              "        text-align: right;\n",
              "    }\n",
              "</style>\n",
              "<table border=\"1\" class=\"dataframe\">\n",
              "  <thead>\n",
              "    <tr style=\"text-align: right;\">\n",
              "      <th></th>\n",
              "      <th>words</th>\n",
              "      <th>tf</th>\n",
              "    </tr>\n",
              "  </thead>\n",
              "  <tbody>\n",
              "    <tr>\n",
              "      <th>0</th>\n",
              "      <td>magic</td>\n",
              "      <td>16.0</td>\n",
              "    </tr>\n",
              "    <tr>\n",
              "      <th>1</th>\n",
              "      <td>personality</td>\n",
              "      <td>13.0</td>\n",
              "    </tr>\n",
              "    <tr>\n",
              "      <th>2</th>\n",
              "      <td>height</td>\n",
              "      <td>12.0</td>\n",
              "    </tr>\n",
              "    <tr>\n",
              "      <th>3</th>\n",
              "      <td>age</td>\n",
              "      <td>12.0</td>\n",
              "    </tr>\n",
              "    <tr>\n",
              "      <th>4</th>\n",
              "      <td>blue</td>\n",
              "      <td>11.0</td>\n",
              "    </tr>\n",
              "    <tr>\n",
              "      <th>...</th>\n",
              "      <td>...</td>\n",
              "      <td>...</td>\n",
              "    </tr>\n",
              "    <tr>\n",
              "      <th>1183</th>\n",
              "      <td>lacuna</td>\n",
              "      <td>1.0</td>\n",
              "    </tr>\n",
              "    <tr>\n",
              "      <th>1184</th>\n",
              "      <td>closet</td>\n",
              "      <td>1.0</td>\n",
              "    </tr>\n",
              "    <tr>\n",
              "      <th>1185</th>\n",
              "      <td>vegetate</td>\n",
              "      <td>1.0</td>\n",
              "    </tr>\n",
              "    <tr>\n",
              "      <th>1186</th>\n",
              "      <td>gambling</td>\n",
              "      <td>1.0</td>\n",
              "    </tr>\n",
              "    <tr>\n",
              "      <th>1187</th>\n",
              "      <td>truckdriver</td>\n",
              "      <td>1.0</td>\n",
              "    </tr>\n",
              "  </tbody>\n",
              "</table>\n",
              "<p>1188 rows × 2 columns</p>\n",
              "</div>"
            ],
            "text/plain": [
              "            words    tf\n",
              "0           magic  16.0\n",
              "1     personality  13.0\n",
              "2          height  12.0\n",
              "3             age  12.0\n",
              "4            blue  11.0\n",
              "...           ...   ...\n",
              "1183       lacuna   1.0\n",
              "1184       closet   1.0\n",
              "1185     vegetate   1.0\n",
              "1186     gambling   1.0\n",
              "1187  truckdriver   1.0\n",
              "\n",
              "[1188 rows x 2 columns]"
            ]
          },
          "metadata": {},
          "execution_count": 4
        }
      ]
    },
    {
      "cell_type": "markdown",
      "metadata": {
        "id": "-ytUlY2FnxXa"
      },
      "source": [
        "**Inverse Document Frequency**"
      ]
    },
    {
      "cell_type": "code",
      "metadata": {
        "colab": {
          "base_uri": "https://localhost:8080/",
          "height": 424
        },
        "id": "KiPotm1WJhDZ",
        "outputId": "2eb7dd34-a50f-4de6-c2ce-583a7d124430"
      },
      "source": [
        "import numpy as np\n",
        "\n",
        "# The more the value of IDF, the more unique the word is.\n",
        "for i,word in enumerate(tf1['words']):\n",
        "      tf1.loc[i, 'idf'] = np.log(train.shape[0]/(len(train[train['Original Post'].str.contains(word, na=False)])))\n",
        "tf1   "
      ],
      "execution_count": 5,
      "outputs": [
        {
          "output_type": "execute_result",
          "data": {
            "text/html": [
              "<div>\n",
              "<style scoped>\n",
              "    .dataframe tbody tr th:only-of-type {\n",
              "        vertical-align: middle;\n",
              "    }\n",
              "\n",
              "    .dataframe tbody tr th {\n",
              "        vertical-align: top;\n",
              "    }\n",
              "\n",
              "    .dataframe thead th {\n",
              "        text-align: right;\n",
              "    }\n",
              "</style>\n",
              "<table border=\"1\" class=\"dataframe\">\n",
              "  <thead>\n",
              "    <tr style=\"text-align: right;\">\n",
              "      <th></th>\n",
              "      <th>words</th>\n",
              "      <th>tf</th>\n",
              "      <th>idf</th>\n",
              "    </tr>\n",
              "  </thead>\n",
              "  <tbody>\n",
              "    <tr>\n",
              "      <th>0</th>\n",
              "      <td>magic</td>\n",
              "      <td>16.0</td>\n",
              "      <td>2.955416</td>\n",
              "    </tr>\n",
              "    <tr>\n",
              "      <th>1</th>\n",
              "      <td>personality</td>\n",
              "      <td>13.0</td>\n",
              "      <td>4.398479</td>\n",
              "    </tr>\n",
              "    <tr>\n",
              "      <th>2</th>\n",
              "      <td>height</td>\n",
              "      <td>12.0</td>\n",
              "      <td>5.460390</td>\n",
              "    </tr>\n",
              "    <tr>\n",
              "      <th>3</th>\n",
              "      <td>age</td>\n",
              "      <td>12.0</td>\n",
              "      <td>1.607945</td>\n",
              "    </tr>\n",
              "    <tr>\n",
              "      <th>4</th>\n",
              "      <td>blue</td>\n",
              "      <td>11.0</td>\n",
              "      <td>3.965363</td>\n",
              "    </tr>\n",
              "    <tr>\n",
              "      <th>...</th>\n",
              "      <td>...</td>\n",
              "      <td>...</td>\n",
              "      <td>...</td>\n",
              "    </tr>\n",
              "    <tr>\n",
              "      <th>1183</th>\n",
              "      <td>lacuna</td>\n",
              "      <td>1.0</td>\n",
              "      <td>7.279549</td>\n",
              "    </tr>\n",
              "    <tr>\n",
              "      <th>1184</th>\n",
              "      <td>closet</td>\n",
              "      <td>1.0</td>\n",
              "      <td>6.991867</td>\n",
              "    </tr>\n",
              "    <tr>\n",
              "      <th>1185</th>\n",
              "      <td>vegetate</td>\n",
              "      <td>1.0</td>\n",
              "      <td>9.071308</td>\n",
              "    </tr>\n",
              "    <tr>\n",
              "      <th>1186</th>\n",
              "      <td>gambling</td>\n",
              "      <td>1.0</td>\n",
              "      <td>7.125398</td>\n",
              "    </tr>\n",
              "    <tr>\n",
              "      <th>1187</th>\n",
              "      <td>truckdriver</td>\n",
              "      <td>1.0</td>\n",
              "      <td>9.071308</td>\n",
              "    </tr>\n",
              "  </tbody>\n",
              "</table>\n",
              "<p>1188 rows × 3 columns</p>\n",
              "</div>"
            ],
            "text/plain": [
              "            words    tf       idf\n",
              "0           magic  16.0  2.955416\n",
              "1     personality  13.0  4.398479\n",
              "2          height  12.0  5.460390\n",
              "3             age  12.0  1.607945\n",
              "4            blue  11.0  3.965363\n",
              "...           ...   ...       ...\n",
              "1183       lacuna   1.0  7.279549\n",
              "1184       closet   1.0  6.991867\n",
              "1185     vegetate   1.0  9.071308\n",
              "1186     gambling   1.0  7.125398\n",
              "1187  truckdriver   1.0  9.071308\n",
              "\n",
              "[1188 rows x 3 columns]"
            ]
          },
          "metadata": {},
          "execution_count": 5
        }
      ]
    },
    {
      "cell_type": "markdown",
      "metadata": {
        "id": "UOg9ld2nn2qb"
      },
      "source": [
        "**Term Frequency – Inverse Document Frequency (TF-IDF)**"
      ]
    },
    {
      "cell_type": "code",
      "metadata": {
        "colab": {
          "base_uri": "https://localhost:8080/",
          "height": 424
        },
        "id": "7ut4BFH5P2Iz",
        "outputId": "194c17e3-cd0a-463b-a5d2-9df440fcadbd"
      },
      "source": [
        "tf1['tfidf'] = tf1['tf'] * tf1['idf']\n",
        "tf1"
      ],
      "execution_count": 6,
      "outputs": [
        {
          "output_type": "execute_result",
          "data": {
            "text/html": [
              "<div>\n",
              "<style scoped>\n",
              "    .dataframe tbody tr th:only-of-type {\n",
              "        vertical-align: middle;\n",
              "    }\n",
              "\n",
              "    .dataframe tbody tr th {\n",
              "        vertical-align: top;\n",
              "    }\n",
              "\n",
              "    .dataframe thead th {\n",
              "        text-align: right;\n",
              "    }\n",
              "</style>\n",
              "<table border=\"1\" class=\"dataframe\">\n",
              "  <thead>\n",
              "    <tr style=\"text-align: right;\">\n",
              "      <th></th>\n",
              "      <th>words</th>\n",
              "      <th>tf</th>\n",
              "      <th>idf</th>\n",
              "      <th>tfidf</th>\n",
              "    </tr>\n",
              "  </thead>\n",
              "  <tbody>\n",
              "    <tr>\n",
              "      <th>0</th>\n",
              "      <td>magic</td>\n",
              "      <td>16.0</td>\n",
              "      <td>2.955416</td>\n",
              "      <td>47.286657</td>\n",
              "    </tr>\n",
              "    <tr>\n",
              "      <th>1</th>\n",
              "      <td>personality</td>\n",
              "      <td>13.0</td>\n",
              "      <td>4.398479</td>\n",
              "      <td>57.180231</td>\n",
              "    </tr>\n",
              "    <tr>\n",
              "      <th>2</th>\n",
              "      <td>height</td>\n",
              "      <td>12.0</td>\n",
              "      <td>5.460390</td>\n",
              "      <td>65.524683</td>\n",
              "    </tr>\n",
              "    <tr>\n",
              "      <th>3</th>\n",
              "      <td>age</td>\n",
              "      <td>12.0</td>\n",
              "      <td>1.607945</td>\n",
              "      <td>19.295341</td>\n",
              "    </tr>\n",
              "    <tr>\n",
              "      <th>4</th>\n",
              "      <td>blue</td>\n",
              "      <td>11.0</td>\n",
              "      <td>3.965363</td>\n",
              "      <td>43.618990</td>\n",
              "    </tr>\n",
              "    <tr>\n",
              "      <th>...</th>\n",
              "      <td>...</td>\n",
              "      <td>...</td>\n",
              "      <td>...</td>\n",
              "      <td>...</td>\n",
              "    </tr>\n",
              "    <tr>\n",
              "      <th>1183</th>\n",
              "      <td>lacuna</td>\n",
              "      <td>1.0</td>\n",
              "      <td>7.279549</td>\n",
              "      <td>7.279549</td>\n",
              "    </tr>\n",
              "    <tr>\n",
              "      <th>1184</th>\n",
              "      <td>closet</td>\n",
              "      <td>1.0</td>\n",
              "      <td>6.991867</td>\n",
              "      <td>6.991867</td>\n",
              "    </tr>\n",
              "    <tr>\n",
              "      <th>1185</th>\n",
              "      <td>vegetate</td>\n",
              "      <td>1.0</td>\n",
              "      <td>9.071308</td>\n",
              "      <td>9.071308</td>\n",
              "    </tr>\n",
              "    <tr>\n",
              "      <th>1186</th>\n",
              "      <td>gambling</td>\n",
              "      <td>1.0</td>\n",
              "      <td>7.125398</td>\n",
              "      <td>7.125398</td>\n",
              "    </tr>\n",
              "    <tr>\n",
              "      <th>1187</th>\n",
              "      <td>truckdriver</td>\n",
              "      <td>1.0</td>\n",
              "      <td>9.071308</td>\n",
              "      <td>9.071308</td>\n",
              "    </tr>\n",
              "  </tbody>\n",
              "</table>\n",
              "<p>1188 rows × 4 columns</p>\n",
              "</div>"
            ],
            "text/plain": [
              "            words    tf       idf      tfidf\n",
              "0           magic  16.0  2.955416  47.286657\n",
              "1     personality  13.0  4.398479  57.180231\n",
              "2          height  12.0  5.460390  65.524683\n",
              "3             age  12.0  1.607945  19.295341\n",
              "4            blue  11.0  3.965363  43.618990\n",
              "...           ...   ...       ...        ...\n",
              "1183       lacuna   1.0  7.279549   7.279549\n",
              "1184       closet   1.0  6.991867   6.991867\n",
              "1185     vegetate   1.0  9.071308   9.071308\n",
              "1186     gambling   1.0  7.125398   7.125398\n",
              "1187  truckdriver   1.0  9.071308   9.071308\n",
              "\n",
              "[1188 rows x 4 columns]"
            ]
          },
          "metadata": {},
          "execution_count": 6
        }
      ]
    },
    {
      "cell_type": "code",
      "metadata": {
        "colab": {
          "base_uri": "https://localhost:8080/"
        },
        "id": "FOfz5-lrQG7t",
        "outputId": "4f453cac-032f-4d61-d9dd-c608e097ac8e"
      },
      "source": [
        "from sklearn.feature_extraction.text import TfidfVectorizer\n",
        "\n",
        "tfidf = TfidfVectorizer(max_features=1000, lowercase=True, analyzer='word',\n",
        " stop_words= 'english',ngram_range=(1,1))\n",
        "train_vect = tfidf.fit_transform(train['Original Post'].values.astype('U'))\n",
        "train_vect"
      ],
      "execution_count": 7,
      "outputs": [
        {
          "output_type": "execute_result",
          "data": {
            "text/plain": [
              "<8702x1000 sparse matrix of type '<class 'numpy.float64'>'\n",
              "\twith 178790 stored elements in Compressed Sparse Row format>"
            ]
          },
          "metadata": {},
          "execution_count": 7
        }
      ]
    },
    {
      "cell_type": "code",
      "metadata": {
        "colab": {
          "base_uri": "https://localhost:8080/"
        },
        "id": "lcZaxQcmTOvi",
        "outputId": "d1cac4bd-928e-4bb2-828a-3f0f900ab981"
      },
      "source": [
        "print(train_vect)"
      ],
      "execution_count": 8,
      "outputs": [
        {
          "output_type": "stream",
          "text": [
            "  (0, 639)\t0.016851273186584397\n",
            "  (0, 872)\t0.022941036314794192\n",
            "  (0, 748)\t0.03643741534536488\n",
            "  (0, 720)\t0.023318461094538497\n",
            "  (0, 339)\t0.024501469973213303\n",
            "  (0, 235)\t0.019912631659230504\n",
            "  (0, 479)\t0.025921457097597533\n",
            "  (0, 740)\t0.014946255520745211\n",
            "  (0, 366)\t0.025857561806637033\n",
            "  (0, 359)\t0.023108627755352225\n",
            "  (0, 751)\t0.041873843351423905\n",
            "  (0, 834)\t0.022875731518629778\n",
            "  (0, 162)\t0.022974052423075163\n",
            "  (0, 293)\t0.024408953166301994\n",
            "  (0, 736)\t0.05929624331654725\n",
            "  (0, 10)\t0.034289097216850035\n",
            "  (0, 701)\t0.03943481397266178\n",
            "  (0, 238)\t0.035189238335122865\n",
            "  (0, 314)\t0.01959186799390172\n",
            "  (0, 534)\t0.019669912992344534\n",
            "  (0, 265)\t0.026542090423001798\n",
            "  (0, 398)\t0.01878740302463751\n",
            "  (0, 971)\t0.044541254823561256\n",
            "  (0, 905)\t0.025610795763404363\n",
            "  (0, 109)\t0.023653061279739002\n",
            "  :\t:\n",
            "  (8701, 505)\t0.09780405771175761\n",
            "  (8701, 349)\t0.07153341125082716\n",
            "  (8701, 64)\t0.08089319273271772\n",
            "  (8701, 959)\t0.09158327296077523\n",
            "  (8701, 887)\t0.07694676174612017\n",
            "  (8701, 770)\t0.0820611403867022\n",
            "  (8701, 508)\t0.08064340655783125\n",
            "  (8701, 791)\t0.0738264931181416\n",
            "  (8701, 650)\t0.07340299290016833\n",
            "  (8701, 314)\t0.08127433973931604\n",
            "  (8701, 534)\t0.16319619871675373\n",
            "  (8701, 871)\t0.09764727848331818\n",
            "  (8701, 297)\t0.20251479368241743\n",
            "  (8701, 540)\t0.08121026507245503\n",
            "  (8701, 61)\t0.07474885599681332\n",
            "  (8701, 708)\t0.06747581709037996\n",
            "  (8701, 481)\t0.18694862227438164\n",
            "  (8701, 626)\t0.0722665080175386\n",
            "  (8701, 48)\t0.10891754885098569\n",
            "  (8701, 347)\t0.17118952493887907\n",
            "  (8701, 553)\t0.07246437724700422\n",
            "  (8701, 328)\t0.08487850363620868\n",
            "  (8701, 882)\t0.06635723865243104\n",
            "  (8701, 907)\t0.0630462737941955\n",
            "  (8701, 368)\t0.0892643765380025\n"
          ],
          "name": "stdout"
        }
      ]
    },
    {
      "cell_type": "markdown",
      "metadata": {
        "id": "CVAio_QIoEnV"
      },
      "source": [
        "**Check for NaN values**"
      ]
    },
    {
      "cell_type": "code",
      "metadata": {
        "colab": {
          "base_uri": "https://localhost:8080/"
        },
        "id": "MVmjSgQzUCRu",
        "outputId": "1a707ad7-2db3-4c04-bc10-fa7c745245e9"
      },
      "source": [
        "train_data = train.copy()\n",
        "train_data.isna().sum()"
      ],
      "execution_count": 9,
      "outputs": [
        {
          "output_type": "execute_result",
          "data": {
            "text/plain": [
              "Title            600\n",
              "Category           0\n",
              "Date             600\n",
              "Likes            600\n",
              "Num Replies      600\n",
              "Num Views        600\n",
              "Original Post    650\n",
              "Comments         604\n",
              "Post               0\n",
              "dtype: int64"
            ]
          },
          "metadata": {},
          "execution_count": 9
        }
      ]
    },
    {
      "cell_type": "code",
      "metadata": {
        "colab": {
          "base_uri": "https://localhost:8080/"
        },
        "id": "5M8MWUXyXhBc",
        "outputId": "b36d82d1-7d59-4b42-aba6-05c17966ead4"
      },
      "source": [
        "train.isna().sum()"
      ],
      "execution_count": 10,
      "outputs": [
        {
          "output_type": "execute_result",
          "data": {
            "text/plain": [
              "Title            600\n",
              "Category           0\n",
              "Date             600\n",
              "Likes            600\n",
              "Num Replies      600\n",
              "Num Views        600\n",
              "Original Post    650\n",
              "Comments         604\n",
              "Post               0\n",
              "dtype: int64"
            ]
          },
          "metadata": {},
          "execution_count": 10
        }
      ]
    },
    {
      "cell_type": "markdown",
      "metadata": {
        "id": "1ADIonPBoePT"
      },
      "source": [
        "**Bag of Words**"
      ]
    },
    {
      "cell_type": "code",
      "metadata": {
        "colab": {
          "base_uri": "https://localhost:8080/"
        },
        "id": "rHRZ97yaXqwe",
        "outputId": "08a3be70-2505-4622-a195-a5629fad151a"
      },
      "source": [
        "from sklearn.feature_extraction.text import CountVectorizer\n",
        "bow = CountVectorizer(max_features=1000, lowercase=True, ngram_range=(1,1),analyzer = \"word\")\n",
        "train_bow = bow.fit_transform(train['Original Post'].values.astype('U'))\n",
        "train_bow"
      ],
      "execution_count": 11,
      "outputs": [
        {
          "output_type": "execute_result",
          "data": {
            "text/plain": [
              "<8702x1000 sparse matrix of type '<class 'numpy.int64'>'\n",
              "\twith 201780 stored elements in Compressed Sparse Row format>"
            ]
          },
          "metadata": {},
          "execution_count": 11
        }
      ]
    },
    {
      "cell_type": "code",
      "metadata": {
        "colab": {
          "base_uri": "https://localhost:8080/"
        },
        "id": "aZaL0Im8X86u",
        "outputId": "b05d1db3-ad24-4737-a769-09bdfb38c142"
      },
      "source": [
        "print(train_bow)"
      ],
      "execution_count": 12,
      "outputs": [
        {
          "output_type": "stream",
          "text": [
            "  (0, 409)\t2\n",
            "  (0, 661)\t1\n",
            "  (0, 581)\t1\n",
            "  (0, 960)\t1\n",
            "  (0, 17)\t7\n",
            "  (0, 883)\t1\n",
            "  (0, 467)\t2\n",
            "  (0, 616)\t1\n",
            "  (0, 1)\t4\n",
            "  (0, 28)\t4\n",
            "  (0, 288)\t2\n",
            "  (0, 911)\t1\n",
            "  (0, 51)\t5\n",
            "  (0, 364)\t3\n",
            "  (0, 531)\t5\n",
            "  (0, 250)\t2\n",
            "  (0, 739)\t6\n",
            "  (0, 368)\t1\n",
            "  (0, 8)\t2\n",
            "  (0, 890)\t1\n",
            "  (0, 591)\t2\n",
            "  (0, 602)\t6\n",
            "  (0, 423)\t1\n",
            "  (0, 957)\t1\n",
            "  (0, 555)\t1\n",
            "  :\t:\n",
            "  (8701, 952)\t1\n",
            "  (8701, 71)\t1\n",
            "  (8701, 346)\t1\n",
            "  (8701, 504)\t1\n",
            "  (8701, 119)\t1\n",
            "  (8701, 195)\t2\n",
            "  (8701, 164)\t1\n",
            "  (8701, 238)\t1\n",
            "  (8701, 241)\t1\n",
            "  (8701, 730)\t4\n",
            "  (8701, 654)\t1\n",
            "  (8701, 128)\t2\n",
            "  (8701, 694)\t1\n",
            "  (8701, 129)\t1\n",
            "  (8701, 838)\t1\n",
            "  (8701, 632)\t1\n",
            "  (8701, 24)\t1\n",
            "  (8701, 735)\t7\n",
            "  (8701, 793)\t2\n",
            "  (8701, 823)\t1\n",
            "  (8701, 858)\t1\n",
            "  (8701, 625)\t1\n",
            "  (8701, 215)\t1\n",
            "  (8701, 653)\t2\n",
            "  (8701, 724)\t1\n"
          ],
          "name": "stdout"
        }
      ]
    },
    {
      "cell_type": "markdown",
      "metadata": {
        "id": "iKOItstVop1a"
      },
      "source": [
        "**Sentiment Analysis**"
      ]
    },
    {
      "cell_type": "code",
      "metadata": {
        "colab": {
          "base_uri": "https://localhost:8080/"
        },
        "id": "kM3LOW1CYMIg",
        "outputId": "ae26b995-10f1-4023-91ba-e42427a0a273"
      },
      "source": [
        "train['Original Post'][:5].apply(lambda x: TextBlob(x).sentiment)"
      ],
      "execution_count": 13,
      "outputs": [
        {
          "output_type": "execute_result",
          "data": {
            "text/plain": [
              "0      (0.07774417103364474, 0.5164145717829925)\n",
              "1        (0.1693181818181818, 0.603409090909091)\n",
              "2      (0.06666666666666667, 0.4666666666666666)\n",
              "3                                  (0.535, 0.74)\n",
              "4    (-0.39999999999999997, 0.39999999999999997)\n",
              "Name: Original Post, dtype: object"
            ]
          },
          "metadata": {},
          "execution_count": 13
        }
      ]
    },
    {
      "cell_type": "code",
      "metadata": {
        "colab": {
          "base_uri": "https://localhost:8080/",
          "height": 206
        },
        "id": "qUrjMNJGYUMn",
        "outputId": "5b320c3c-b590-4341-976f-11ada1a36b6a"
      },
      "source": [
        "train['sentiment'] = train['Original Post'][:5].apply(lambda x: TextBlob(x).sentiment[0] )\n",
        "train[['Original Post','sentiment']].head()"
      ],
      "execution_count": 14,
      "outputs": [
        {
          "output_type": "execute_result",
          "data": {
            "text/html": [
              "<div>\n",
              "<style scoped>\n",
              "    .dataframe tbody tr th:only-of-type {\n",
              "        vertical-align: middle;\n",
              "    }\n",
              "\n",
              "    .dataframe tbody tr th {\n",
              "        vertical-align: top;\n",
              "    }\n",
              "\n",
              "    .dataframe thead th {\n",
              "        text-align: right;\n",
              "    }\n",
              "</style>\n",
              "<table border=\"1\" class=\"dataframe\">\n",
              "  <thead>\n",
              "    <tr style=\"text-align: right;\">\n",
              "      <th></th>\n",
              "      <th>Original Post</th>\n",
              "      <th>sentiment</th>\n",
              "    </tr>\n",
              "  </thead>\n",
              "  <tbody>\n",
              "    <tr>\n",
              "      <th>0</th>\n",
              "      <td>hey mood roleplaying present adventuring rp no...</td>\n",
              "      <td>0.077744</td>\n",
              "    </tr>\n",
              "    <tr>\n",
              "      <th>1</th>\n",
              "      <td>welcome dungeon ding dong private murder myste...</td>\n",
              "      <td>0.169318</td>\n",
              "    </tr>\n",
              "    <tr>\n",
              "      <th>2</th>\n",
              "      <td>hello enquire collabs script tell adapt either...</td>\n",
              "      <td>0.066667</td>\n",
              "    </tr>\n",
              "    <tr>\n",
              "      <th>3</th>\n",
              "      <td>found featured article worldbuilding huge fan ...</td>\n",
              "      <td>0.535000</td>\n",
              "    </tr>\n",
              "    <tr>\n",
              "      <th>4</th>\n",
              "      <td>video game board game hand held game puzzle ga...</td>\n",
              "      <td>-0.400000</td>\n",
              "    </tr>\n",
              "  </tbody>\n",
              "</table>\n",
              "</div>"
            ],
            "text/plain": [
              "                                       Original Post  sentiment\n",
              "0  hey mood roleplaying present adventuring rp no...   0.077744\n",
              "1  welcome dungeon ding dong private murder myste...   0.169318\n",
              "2  hello enquire collabs script tell adapt either...   0.066667\n",
              "3  found featured article worldbuilding huge fan ...   0.535000\n",
              "4  video game board game hand held game puzzle ga...  -0.400000"
            ]
          },
          "metadata": {},
          "execution_count": 14
        }
      ]
    },
    {
      "cell_type": "markdown",
      "metadata": {
        "id": "qbt15oKio0XZ"
      },
      "source": [
        "**Word Embeddings**"
      ]
    },
    {
      "cell_type": "code",
      "metadata": {
        "colab": {
          "base_uri": "https://localhost:8080/"
        },
        "id": "fpE1TilMpLB7",
        "outputId": "e1cb3b48-890b-4679-fcb9-35dd3cc4fd24"
      },
      "source": [
        "!wget http://nlp.stanford.edu/data/glove.6B.zip"
      ],
      "execution_count": 15,
      "outputs": [
        {
          "output_type": "stream",
          "text": [
            "--2021-08-21 19:24:54--  http://nlp.stanford.edu/data/glove.6B.zip\n",
            "Resolving nlp.stanford.edu (nlp.stanford.edu)... 171.64.67.140\n",
            "Connecting to nlp.stanford.edu (nlp.stanford.edu)|171.64.67.140|:80... connected.\n",
            "HTTP request sent, awaiting response... 302 Found\n",
            "Location: https://nlp.stanford.edu/data/glove.6B.zip [following]\n",
            "--2021-08-21 19:24:55--  https://nlp.stanford.edu/data/glove.6B.zip\n",
            "Connecting to nlp.stanford.edu (nlp.stanford.edu)|171.64.67.140|:443... connected.\n",
            "HTTP request sent, awaiting response... 301 Moved Permanently\n",
            "Location: http://downloads.cs.stanford.edu/nlp/data/glove.6B.zip [following]\n",
            "--2021-08-21 19:24:55--  http://downloads.cs.stanford.edu/nlp/data/glove.6B.zip\n",
            "Resolving downloads.cs.stanford.edu (downloads.cs.stanford.edu)... 171.64.64.22\n",
            "Connecting to downloads.cs.stanford.edu (downloads.cs.stanford.edu)|171.64.64.22|:80... connected.\n",
            "HTTP request sent, awaiting response... 200 OK\n",
            "Length: 862182613 (822M) [application/zip]\n",
            "Saving to: ‘glove.6B.zip’\n",
            "\n",
            "glove.6B.zip        100%[===================>] 822.24M  5.17MB/s    in 2m 39s  \n",
            "\n",
            "2021-08-21 19:27:34 (5.16 MB/s) - ‘glove.6B.zip’ saved [862182613/862182613]\n",
            "\n"
          ],
          "name": "stdout"
        }
      ]
    },
    {
      "cell_type": "code",
      "metadata": {
        "colab": {
          "base_uri": "https://localhost:8080/"
        },
        "id": "m4FXbWq2pgoX",
        "outputId": "8b772012-010d-43da-eaed-7a82b98da061"
      },
      "source": [
        "!unzip \"glove.6B.zip\""
      ],
      "execution_count": 16,
      "outputs": [
        {
          "output_type": "stream",
          "text": [
            "Archive:  glove.6B.zip\n",
            "  inflating: glove.6B.50d.txt        \n",
            "  inflating: glove.6B.100d.txt       \n",
            "  inflating: glove.6B.200d.txt       \n",
            "  inflating: glove.6B.300d.txt       \n"
          ],
          "name": "stdout"
        }
      ]
    },
    {
      "cell_type": "code",
      "metadata": {
        "colab": {
          "base_uri": "https://localhost:8080/"
        },
        "id": "PZI8zPA6rTrN",
        "outputId": "a9226d99-71eb-4edc-8c65-40b410390f61"
      },
      "source": [
        "!pip install gensim"
      ],
      "execution_count": 17,
      "outputs": [
        {
          "output_type": "stream",
          "text": [
            "Requirement already satisfied: gensim in /usr/local/lib/python3.7/dist-packages (3.6.0)\n",
            "Requirement already satisfied: smart-open>=1.2.1 in /usr/local/lib/python3.7/dist-packages (from gensim) (5.1.0)\n",
            "Requirement already satisfied: scipy>=0.18.1 in /usr/local/lib/python3.7/dist-packages (from gensim) (1.4.1)\n",
            "Requirement already satisfied: six>=1.5.0 in /usr/local/lib/python3.7/dist-packages (from gensim) (1.15.0)\n",
            "Requirement already satisfied: numpy>=1.11.3 in /usr/local/lib/python3.7/dist-packages (from gensim) (1.19.5)\n"
          ],
          "name": "stdout"
        }
      ]
    },
    {
      "cell_type": "code",
      "metadata": {
        "id": "d1ksfddnrag9",
        "colab": {
          "base_uri": "https://localhost:8080/"
        },
        "outputId": "ac6c00b6-fad6-4bcd-b725-6e6e6f8cb943"
      },
      "source": [
        "from gensim.scripts.glove2word2vec import glove2word2vec\n",
        "\n",
        "glove_input_file = 'glove.6B.100d.txt'\n",
        "word2vec_output_file = 'glove.6B.100d.txt.word2vec'\n",
        "glove2word2vec(glove_input_file, word2vec_output_file)"
      ],
      "execution_count": 18,
      "outputs": [
        {
          "output_type": "execute_result",
          "data": {
            "text/plain": [
              "(400000, 100)"
            ]
          },
          "metadata": {},
          "execution_count": 18
        }
      ]
    },
    {
      "cell_type": "code",
      "metadata": {
        "colab": {
          "base_uri": "https://localhost:8080/"
        },
        "id": "OoL0mKwPdzFw",
        "outputId": "d760a8d1-6408-41f0-e3da-574840943b8d"
      },
      "source": [
        "from gensim.models import KeyedVectors # load the Stanford GloVe model\n",
        "filename = 'glove.6B.100d.txt.word2vec'\n",
        "model = KeyedVectors.load_word2vec_format(filename, binary=False)\n",
        "# Let’s say our post contains a text saying ‘go away’. We can easily obtain it’s word vector using the above model:\n",
        "model['go']"
      ],
      "execution_count": 19,
      "outputs": [
        {
          "output_type": "execute_result",
          "data": {
            "text/plain": [
              "array([-0.078894,  0.4616  ,  0.57779 , -0.71637 , -0.13121 ,  0.4186  ,\n",
              "       -0.29156 ,  0.52006 ,  0.089986, -0.35062 ,  0.51755 ,  0.51998 ,\n",
              "        0.15218 ,  0.41485 , -0.12377 , -0.37222 ,  0.0273  ,  0.75673 ,\n",
              "       -0.8739  ,  0.58935 ,  0.46662 ,  0.62918 ,  0.092603, -0.012868,\n",
              "       -0.015169,  0.25567 , -0.43025 , -0.77668 ,  0.71449 , -0.3834  ,\n",
              "       -0.69638 ,  0.23522 ,  0.11396 ,  0.02778 ,  0.071357,  0.87409 ,\n",
              "       -0.1281  ,  0.063576,  0.067867, -0.50181 , -0.28523 , -0.072536,\n",
              "       -0.50738 , -0.6914  , -0.53579 , -0.11361 , -0.38234 , -0.12414 ,\n",
              "        0.011214, -1.1622  ,  0.037057, -0.18495 ,  0.01416 ,  0.87193 ,\n",
              "       -0.097309, -2.3565  , -0.14554 ,  0.28275 ,  2.0053  ,  0.23439 ,\n",
              "       -0.38298 ,  0.69539 , -0.44916 , -0.094157,  0.90527 ,  0.65764 ,\n",
              "        0.27628 ,  0.30688 , -0.57781 , -0.22987 , -0.083043, -0.57236 ,\n",
              "       -0.299   , -0.81112 ,  0.039752, -0.05681 , -0.48879 , -0.18091 ,\n",
              "       -0.28152 , -0.20559 ,  0.4932  , -0.033999, -0.53139 , -0.28297 ,\n",
              "       -1.4475  , -0.18685 ,  0.091177,  0.11454 , -0.28168 , -0.33565 ,\n",
              "       -0.31663 , -0.1089  ,  0.10111 , -0.23737 , -0.64955 , -0.268   ,\n",
              "        0.35096 ,  0.26352 ,  0.59397 ,  0.26741 ], dtype=float32)"
            ]
          },
          "metadata": {},
          "execution_count": 19
        }
      ]
    },
    {
      "cell_type": "code",
      "metadata": {
        "colab": {
          "base_uri": "https://localhost:8080/"
        },
        "id": "-qmIo93KfoWw",
        "outputId": "9d9ede58-8954-4387-b4a2-304667353fb5"
      },
      "source": [
        "model['away']"
      ],
      "execution_count": 20,
      "outputs": [
        {
          "output_type": "execute_result",
          "data": {
            "text/plain": [
              "array([-0.10379 , -0.014792,  0.59933 , -0.51316 , -0.036463,  0.6588  ,\n",
              "       -0.57906 ,  0.17819 ,  0.23663 , -0.21384 ,  0.55339 ,  0.53597 ,\n",
              "        0.041444,  0.16095 ,  0.017093, -0.37242 ,  0.017974,  0.39268 ,\n",
              "       -0.23265 ,  0.1818  ,  0.66405 ,  0.98163 ,  0.42339 ,  0.030581,\n",
              "        0.35015 ,  0.25519 , -0.71182 , -0.42184 ,  0.13068 , -0.47452 ,\n",
              "       -0.08175 ,  0.1574  , -0.13262 ,  0.22679 , -0.16885 , -0.11122 ,\n",
              "       -0.32272 , -0.020978, -0.43345 ,  0.172   , -0.67366 , -0.79052 ,\n",
              "        0.10556 , -0.4219  , -0.12385 , -0.063486, -0.17843 ,  0.56359 ,\n",
              "        0.16986 , -0.17804 ,  0.13956 , -0.20169 ,  0.078985,  1.4497  ,\n",
              "        0.23556 , -2.6014  , -0.5286  , -0.11636 ,  1.7184  ,  0.33254 ,\n",
              "        0.12136 ,  1.1602  , -0.2914  ,  0.47125 ,  0.41869 ,  0.35271 ,\n",
              "        0.47869 , -0.042281, -0.18294 ,  0.1796  , -0.24431 , -0.34042 ,\n",
              "        0.20337 , -0.93676 ,  0.013077,  0.080339, -0.36604 , -0.44005 ,\n",
              "       -0.35393 ,  0.15907 ,  0.55807 ,  0.1492  , -0.86433 ,  0.040305,\n",
              "       -1.0939  , -0.26386 , -0.29494 ,  0.25696 , -0.33718 , -0.086468,\n",
              "       -0.24246 , -0.21114 ,  0.099632,  0.12815 , -0.78714 , -0.51785 ,\n",
              "       -0.10944 ,  0.9763  ,  0.57032 ,  0.13581 ], dtype=float32)"
            ]
          },
          "metadata": {},
          "execution_count": 20
        }
      ]
    },
    {
      "cell_type": "code",
      "metadata": {
        "colab": {
          "base_uri": "https://localhost:8080/"
        },
        "id": "UUcb7tlbgD8L",
        "outputId": "508c58a7-1cf4-493c-8c95-f275d6a51966"
      },
      "source": [
        "# We then take the average to represent the string ‘go away’ in the form of vectors having 100 dimensions.\n",
        "(model['go'] + model['away'])/2"
      ],
      "execution_count": 21,
      "outputs": [
        {
          "output_type": "execute_result",
          "data": {
            "text/plain": [
              "array([-0.091342  ,  0.223404  ,  0.58856   , -0.614765  , -0.0838365 ,\n",
              "        0.5387    , -0.43531   ,  0.349125  ,  0.163308  , -0.28223   ,\n",
              "        0.53547   ,  0.52797496,  0.096812  ,  0.2879    , -0.0533385 ,\n",
              "       -0.37232   ,  0.022637  ,  0.574705  , -0.553275  ,  0.385575  ,\n",
              "        0.565335  ,  0.805405  ,  0.2579965 ,  0.0088565 ,  0.1674905 ,\n",
              "        0.25543   , -0.571035  , -0.59926   ,  0.422585  , -0.42896   ,\n",
              "       -0.389065  ,  0.19631   , -0.00933   ,  0.127285  , -0.0487465 ,\n",
              "        0.381435  , -0.22540998,  0.021299  , -0.1827915 , -0.16490501,\n",
              "       -0.47944498, -0.431528  , -0.20091   , -0.55665   , -0.32982   ,\n",
              "       -0.088548  , -0.28038502,  0.219725  ,  0.090537  , -0.67012   ,\n",
              "        0.0883085 , -0.19332   ,  0.0465725 ,  1.160815  ,  0.0691255 ,\n",
              "       -2.47895   , -0.33707   ,  0.083195  ,  1.86185   ,  0.283465  ,\n",
              "       -0.13081   ,  0.927795  , -0.37028   ,  0.1885465 ,  0.66198   ,\n",
              "        0.505175  ,  0.37748498,  0.1322995 , -0.380375  , -0.025135  ,\n",
              "       -0.1636765 , -0.45639   , -0.047815  , -0.87394   ,  0.0264145 ,\n",
              "        0.0117645 , -0.427415  , -0.31048   , -0.317725  , -0.02326   ,\n",
              "        0.525635  ,  0.05760051, -0.69786   , -0.1213325 , -1.2707    ,\n",
              "       -0.225355  , -0.1018815 ,  0.18575001, -0.30943   , -0.211059  ,\n",
              "       -0.279545  , -0.16002001,  0.100371  , -0.05461   , -0.71834505,\n",
              "       -0.392925  ,  0.12075999,  0.61991   ,  0.582145  ,  0.20161   ],\n",
              "      dtype=float32)"
            ]
          },
          "metadata": {},
          "execution_count": 21
        }
      ]
    },
    {
      "cell_type": "markdown",
      "metadata": {
        "id": "J-4wRFbtulgE"
      },
      "source": [
        "**Recommendation based on post title and then original post**"
      ]
    },
    {
      "cell_type": "code",
      "metadata": {
        "id": "1gXl1kI9uF1Z"
      },
      "source": [
        "# Importing necessary libraries\n",
        "import pandas as pd\n",
        "import numpy as np\n",
        "import pandas as pd\n",
        "import numpy as np\n",
        "from nltk.corpus import stopwords\n",
        "from sklearn.metrics.pairwise import linear_kernel\n",
        "from sklearn.feature_extraction.text import CountVectorizer\n",
        "from sklearn.feature_extraction.text import TfidfVectorizer\n",
        "from nltk.tokenize import RegexpTokenizer\n",
        "import re\n",
        "import string\n",
        "import random\n",
        "from PIL import Image\n",
        "import requests\n",
        "from io import BytesIO\n",
        "import matplotlib.pyplot as plt"
      ],
      "execution_count": 22,
      "outputs": []
    },
    {
      "cell_type": "code",
      "metadata": {
        "colab": {
          "base_uri": "https://localhost:8080/",
          "height": 473
        },
        "id": "foe7OaapiNon",
        "outputId": "ecef1cd7-cb3b-47a4-dcc5-ce4f3a171c80"
      },
      "source": [
        "train['Category'].value_counts().plot(x = 'category', y ='count', kind = 'bar', figsize = (8,5) )"
      ],
      "execution_count": 23,
      "outputs": [
        {
          "output_type": "execute_result",
          "data": {
            "text/plain": [
              "<matplotlib.axes._subplots.AxesSubplot at 0x7fa1f0d7d190>"
            ]
          },
          "metadata": {},
          "execution_count": 23
        },
        {
          "output_type": "display_data",
          "data": {
            "image/png": "[encoded data removed]",
            "text/plain": [
              "<Figure size 576x360 with 1 Axes>"
            ]
          },
          "metadata": {
            "needs_background": "light"
          }
        }
      ]
    },
    {
      "cell_type": "code",
      "metadata": {
        "colab": {
          "base_uri": "https://localhost:8080/",
          "height": 36
        },
        "id": "c_-60zIqizIL",
        "outputId": "9603897c-3acf-4ef1-e7db-da38bcc88688"
      },
      "source": [
        "# Printing the book title and description randomly\n",
        "train['Title'][992]\n"
      ],
      "execution_count": 24,
      "outputs": [
        {
          "output_type": "execute_result",
          "data": {
            "application/vnd.google.colaboratory.intrinsic+json": {
              "type": "string"
            },
            "text/plain": [
              "'discord superhero genre comic'"
            ]
          },
          "metadata": {},
          "execution_count": 24
        }
      ]
    },
    {
      "cell_type": "code",
      "metadata": {
        "colab": {
          "base_uri": "https://localhost:8080/",
          "height": 36
        },
        "id": "6_NCoo6Rjo1G",
        "outputId": "81494dfc-fc33-4d8b-d8c3-fc8e71ad1181"
      },
      "source": [
        "train['Original Post'][992]"
      ],
      "execution_count": 25,
      "outputs": [
        {
          "output_type": "execute_result",
          "data": {
            "application/vnd.google.colaboratory.intrinsic+json": {
              "type": "string"
            },
            "text/plain": [
              "'hi discord superhero genre focused server meet minded whose superhero genre planning'"
            ]
          },
          "metadata": {},
          "execution_count": 25
        }
      ]
    },
    {
      "cell_type": "code",
      "metadata": {
        "colab": {
          "base_uri": "https://localhost:8080/",
          "height": 355
        },
        "id": "ITzBNPWij4lm",
        "outputId": "3dc63e1c-cec4-413a-88ca-787dfa3af129"
      },
      "source": [
        "train['word_count'] = train['Original Post'].apply(lambda x: len(str(x).split()))# Plotting the word count\n",
        "train['word_count'].plot(\n",
        "    kind='hist',\n",
        "    bins = 50,\n",
        "    figsize = (8,5),title='Word Count Distribution for original post')"
      ],
      "execution_count": 26,
      "outputs": [
        {
          "output_type": "execute_result",
          "data": {
            "text/plain": [
              "<matplotlib.axes._subplots.AxesSubplot at 0x7fa1f0c6e450>"
            ]
          },
          "metadata": {},
          "execution_count": 26
        },
        {
          "output_type": "display_data",
          "data": {
            "image/png": "[encoded data removed]",
            "text/plain": [
              "<Figure size 576x360 with 1 Axes>"
            ]
          },
          "metadata": {
            "needs_background": "light"
          }
        }
      ]
    },
    {
      "cell_type": "code",
      "metadata": {
        "colab": {
          "base_uri": "https://localhost:8080/",
          "height": 462
        },
        "id": "Fl9-t787lFrL",
        "outputId": "c63b92b3-6f8a-4913-9082-d8dfc0ed7e2d"
      },
      "source": [
        "from textblob import TextBlob\n",
        "import nltk\n",
        "nltk.download('punkt')\n",
        "nltk.download('averaged_perceptron_tagger')\n",
        "blob = TextBlob(str(train['Original Post']))\n",
        "pos_df = pd.DataFrame(blob.tags, columns = ['word' , 'pos'])\n",
        "pos_df = pos_df.pos.value_counts()[:20]\n",
        "pos_df.plot(kind = 'bar', figsize=(8,5), title = \"Top 20 Part-of-speech tagging for comments\")"
      ],
      "execution_count": 27,
      "outputs": [
        {
          "output_type": "stream",
          "text": [
            "[nltk_data] Downloading package punkt to /root/nltk_data...\n",
            "[nltk_data]   Package punkt is already up-to-date!\n",
            "[nltk_data] Downloading package averaged_perceptron_tagger to\n",
            "[nltk_data]     /root/nltk_data...\n",
            "[nltk_data]   Unzipping taggers/averaged_perceptron_tagger.zip.\n"
          ],
          "name": "stdout"
        },
        {
          "output_type": "execute_result",
          "data": {
            "text/plain": [
              "<matplotlib.axes._subplots.AxesSubplot at 0x7fa1ee362f90>"
            ]
          },
          "metadata": {},
          "execution_count": 27
        },
        {
          "output_type": "display_data",
          "data": {
            "image/png": "[encoded data removed]",
            "text/plain": [
              "<Figure size 576x360 with 1 Axes>"
            ]
          },
          "metadata": {
            "needs_background": "light"
          }
        }
      ]
    },
    {
      "cell_type": "code",
      "metadata": {
        "colab": {
          "base_uri": "https://localhost:8080/",
          "height": 446
        },
        "id": "SRXNTuGxlZnf",
        "outputId": "f9a17560-6a1f-4e30-9874-614db609872d"
      },
      "source": [
        "#Converting text descriptions into vectors using TF-IDF using Bigram\n",
        "tf = TfidfVectorizer(ngram_range=(2, 2), stop_words='english', lowercase = False)\n",
        "tfidf_matrix = tf.fit_transform(train['Original Post'].values.astype('U'))\n",
        "total_words = tfidf_matrix.sum(axis=0) \n",
        "#Finding the word frequency\n",
        "freq = [(word, total_words[0, idx]) for word, idx in tf.vocabulary_.items()]\n",
        "freq =sorted(freq, key = lambda x: x[1], reverse=True)\n",
        "#converting into dataframe \n",
        "bigram = pd.DataFrame(freq)\n",
        "bigram.rename(columns = {0:'bigram', 1: 'count'}, inplace = True) \n",
        "#Taking first 20 records\n",
        "bigram = bigram.head(20)\n",
        "\n",
        "#Plotting the bigram distribution\n",
        "bigram.plot(x ='bigram', y='count', kind = 'bar', title = \"Bigram disribution for the top 20 words in the original post\", figsize = (8,5), )"
      ],
      "execution_count": 28,
      "outputs": [
        {
          "output_type": "execute_result",
          "data": {
            "text/plain": [
              "<matplotlib.axes._subplots.AxesSubplot at 0x7fa1ec472910>"
            ]
          },
          "metadata": {},
          "execution_count": 28
        },
        {
          "output_type": "display_data",
          "data": {
            "image/png": "[encoded data removed]",
            "text/plain": [
              "<Figure size 576x360 with 1 Axes>"
            ]
          },
          "metadata": {
            "needs_background": "light"
          }
        }
      ]
    },
    {
      "cell_type": "code",
      "metadata": {
        "colab": {
          "base_uri": "https://localhost:8080/",
          "height": 496
        },
        "id": "xp1J62h0mS84",
        "outputId": "69669150-1d94-4b34-97e2-6594bb6797b0"
      },
      "source": [
        "#Converting text descriptions into vectors using TF-IDF using Trigram\n",
        "tf = TfidfVectorizer(ngram_range=(3, 3), stop_words='english', lowercase = False)\n",
        "tfidf_matrix = tf.fit_transform(train['Original Post'].values.astype('U'))\n",
        "total_words = tfidf_matrix.sum(axis=0) \n",
        "#Finding the word frequency\n",
        "freq = [(word, total_words[0, idx]) for word, idx in tf.vocabulary_.items()]\n",
        "freq =sorted(freq, key = lambda x: x[1], reverse=True)#converting into dataframe \n",
        "trigram = pd.DataFrame(freq)\n",
        "trigram.rename(columns = {0:'trigram', 1: 'count'}, inplace = True) \n",
        "#Taking first 20 records\n",
        "trigram = trigram.head(20)\n",
        "\n",
        "#Plotting the trigramn distribution\n",
        "trigram.plot(x ='trigram', y='count', kind = 'bar', title = \"Trigram disribution for the top 20 words in the original post\", figsize = (8,5), )"
      ],
      "execution_count": 32,
      "outputs": [
        {
          "output_type": "execute_result",
          "data": {
            "text/plain": [
              "<matplotlib.axes._subplots.AxesSubplot at 0x7fa1ee305e50>"
            ]
          },
          "metadata": {},
          "execution_count": 32
        },
        {
          "output_type": "display_data",
          "data": {
            "image/png": "[encoded data removed]",
            "text/plain": [
              "<Figure size 576x360 with 1 Axes>"
            ]
          },
          "metadata": {
            "needs_background": "light"
          }
        }
      ]
    },
    {
      "cell_type": "code",
      "metadata": {
        "colab": {
          "base_uri": "https://localhost:8080/"
        },
        "id": "EDkRfDbim7UA",
        "outputId": "945e1c55-67d2-4d3f-ebbf-7ce01f32612e"
      },
      "source": [
        "# Function for recommending posts based on post title. It takes post title and category as an input.\n",
        "def recommend(title, categ):  \n",
        "  # Matching the genre with the dataset and reset the index\n",
        "  data = train.loc[train['Category'] == categ]  \n",
        "  data.reset_index(level = 0, inplace = True) \n",
        "    \n",
        "  # Convert the index into series\n",
        "  indices = pd.Series(data.index, index = data['Title'])\n",
        "      \n",
        "  #Converting the book title into vectors and used bigram\n",
        "  tf = TfidfVectorizer(analyzer='word', ngram_range=(2, 2), min_df = 1, stop_words='english')\n",
        "  tfidf_matrix = tf.fit_transform(data['Title'])\n",
        "      \n",
        "  # Calculating the similarity measures based on Cosine Similarity\n",
        "  sg = cosine_similarity(tfidf_matrix, tfidf_matrix)\n",
        "      \n",
        "  # Get the index corresponding to original_title\n",
        "        \n",
        "  idx = indices[title]# Get the pairwsie similarity scores \n",
        "  sig = list(enumerate(sg[idx]))# Sort the books\n",
        "  sig = sorted(sig, key=lambda x: x[1], reverse=True)# Scores of the 5 most similar books \n",
        "  sig = sig[1:6]# Book indicies\n",
        "  post_indices = [i[0] for i in sig]\n",
        "    \n",
        "  # Top 5 book recommendation\n",
        "  rec = data['Title'].iloc[post_indices]\n",
        "        \n",
        "  # It reads the top 5 recommended book urls and print the images\n",
        "      \n",
        "  print(rec)\n",
        "\n",
        "from sklearn.metrics.pairwise import cosine_similarity\n",
        "recommend(\"writer paid collabs\", \"Off Topic\")"
      ],
      "execution_count": 30,
      "outputs": [
        {
          "output_type": "stream",
          "text": [
            "0                  tapa adventuring rp\n",
            "1         le château de malheureux ddd\n",
            "3    fantasy book unique worldbuilding\n",
            "4                   game playing right\n",
            "5         whats yalls opinion religion\n",
            "Name: Title, dtype: object\n"
          ],
          "name": "stdout"
        }
      ]
    },
    {
      "cell_type": "code",
      "metadata": {
        "colab": {
          "base_uri": "https://localhost:8080/"
        },
        "id": "28ij9EbTFERm",
        "outputId": "bab19fc0-b008-463d-87a7-8d2fa11c8a1d"
      },
      "source": [
        "# Function for recommending posts based on the original post. It takes org. post and genre as an input.\n",
        "def recommend(title, genre):\n",
        "    \n",
        "    global rec\n",
        "    # Matching the genre with the dataset and reset the index\n",
        "    data = train.loc[train['Category'] == genre]  \n",
        "    data.reset_index(level = 0, inplace = True) \n",
        "  \n",
        "    # Convert the index into series\n",
        "    indices = pd.Series(data.index, index = data['Title'])\n",
        "    \n",
        "    #Converting the book description into vectors and used bigram\n",
        "    tf = TfidfVectorizer(analyzer='word', ngram_range=(2, 2), min_df = 1, stop_words='english')\n",
        "    tfidf_matrix = tf.fit_transform(data['Original Post'].values.astype('U'))\n",
        "    \n",
        "    # Calculating the similarity measures based on Cosine Similarity\n",
        "    sg = cosine_similarity(tfidf_matrix, tfidf_matrix)\n",
        "    \n",
        "    # Get the index corresponding to original_title\n",
        "       \n",
        "    idx = indices[title]# Get the pairwsie similarity scores \n",
        "    sig = list(enumerate(sg[idx]))# Sort the books\n",
        "    sig = sorted(sig, key=lambda x: x[1], reverse=True)# Scores of the 5 most similar books \n",
        "    sig = sig[1:6]# Book indicies\n",
        "    movie_indices = [i[0] for i in sig]\n",
        "   \n",
        "    # Top 5 book recommendation\n",
        "    rec = data['Title'].iloc[movie_indices]\n",
        "    \n",
        "    # It reads the top 5 recommend book url and print the images\n",
        "    \n",
        "    print(rec)\n",
        "\n",
        "from sklearn.metrics.pairwise import cosine_similarity\n",
        "recommend(\"game playing right\", \"Off Topic\")"
      ],
      "execution_count": 31,
      "outputs": [
        {
          "output_type": "stream",
          "text": [
            "613    unpopular opinion music edition\n",
            "526                      notice senpai\n",
            "326    unpopular opinion movie edition\n",
            "659                new year resolution\n",
            "133                   game guy playing\n",
            "Name: Title, dtype: object\n"
          ],
          "name": "stdout"
        }
      ]
    }
  ]
}