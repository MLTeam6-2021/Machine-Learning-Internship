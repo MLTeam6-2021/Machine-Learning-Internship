{
  "nbformat": 4,
  "nbformat_minor": 0,
  "metadata": {
    "colab": {
      "name": "Tapas_EDA.ipynb",
      "provenance": [],
      "authorship_tag": "ABX9TyOuWZTYBjLPtHjQDsZZTxCx",
      "include_colab_link": true
    },
    "kernelspec": {
      "name": "python3",
      "display_name": "Python 3"
    },
    "language_info": {
      "name": "python"
    }
  },
  "cells": [
    {
      "cell_type": "markdown",
      "metadata": {
        "id": "view-in-github",
        "colab_type": "text"
      },
      "source": [
        "<a href=\"https://colab.research.google.com/github/MLTeam6-2021/Machine-Learning-Internship/blob/module2/Srishti_Module2/Tapas_EDA.ipynb\" target=\"_parent\"><img src=\"https://colab.research.google.com/assets/colab-badge.svg\" alt=\"Open In Colab\"/></a>"
      ]
    },
    {
      "cell_type": "code",
      "metadata": {
        "id": "B0Mtp5vsHMna"
      },
      "source": [
        "import pandas as pd\n",
        "import re\n",
        "from nltk.util import ngrams\n",
        "from collections import Counter\n",
        "import csv\n",
        "import matplotlib.pyplot as plt; plt.rcdefaults()\n",
        "import numpy as np\n",
        "import matplotlib.pyplot as plt\n",
        "from nltk.corpus import stopwords\n",
        "import nltk"
      ],
      "execution_count": 1,
      "outputs": []
    },
    {
      "cell_type": "code",
      "metadata": {
        "id": "cwliQCFaIE4Y"
      },
      "source": [
        "train = pd.read_csv(r'/content/sample_data/Tapas_announcement.csv')"
      ],
      "execution_count": 2,
      "outputs": []
    },
    {
      "cell_type": "code",
      "metadata": {
        "id": "0_CnGNrNIJ-f"
      },
      "source": [
        "train_new = train[train['Topic Title'].notnull()]"
      ],
      "execution_count": 3,
      "outputs": []
    },
    {
      "cell_type": "code",
      "metadata": {
        "colab": {
          "base_uri": "https://localhost:8080/",
          "height": 310
        },
        "id": "ca3pbuOVINDx",
        "outputId": "063987bc-b661-4e29-ba56-f72b74850190"
      },
      "source": [
        "train.head()"
      ],
      "execution_count": 4,
      "outputs": [
        {
          "output_type": "execute_result",
          "data": {
            "text/html": [
              "<div>\n",
              "<style scoped>\n",
              "    .dataframe tbody tr th:only-of-type {\n",
              "        vertical-align: middle;\n",
              "    }\n",
              "\n",
              "    .dataframe tbody tr th {\n",
              "        vertical-align: top;\n",
              "    }\n",
              "\n",
              "    .dataframe thead th {\n",
              "        text-align: right;\n",
              "    }\n",
              "</style>\n",
              "<table border=\"1\" class=\"dataframe\">\n",
              "  <thead>\n",
              "    <tr style=\"text-align: right;\">\n",
              "      <th></th>\n",
              "      <th>Unnamed: 0</th>\n",
              "      <th>Topic Title</th>\n",
              "      <th>Category</th>\n",
              "      <th>Leading Post</th>\n",
              "      <th>Post Replies</th>\n",
              "      <th>Created at</th>\n",
              "      <th>Num Replies</th>\n",
              "    </tr>\n",
              "  </thead>\n",
              "  <tbody>\n",
              "    <tr>\n",
              "      <th>0</th>\n",
              "      <td>0</td>\n",
              "      <td>The Two Other Species (Novel)</td>\n",
              "      <td>Announcements</td>\n",
              "      <td>Hello everyone, My name is Genr not my real na...</td>\n",
              "      <td>[]</td>\n",
              "      <td>Jul 19, 2021 3:11 am</td>\n",
              "      <td>This topic has 0 replies</td>\n",
              "    </tr>\n",
              "    <tr>\n",
              "      <th>1</th>\n",
              "      <td>1</td>\n",
              "      <td>“Lanche”, a textless comic [one-shot]</td>\n",
              "      <td>Announcements</td>\n",
              "      <td>Hey there! \\nDAKÍCORP's comics have been broug...</td>\n",
              "      <td>[]</td>\n",
              "      <td>Jul 18, 2021 5:54 pm</td>\n",
              "      <td>This topic has 0 replies</td>\n",
              "    </tr>\n",
              "    <tr>\n",
              "      <th>2</th>\n",
              "      <td>2</td>\n",
              "      <td>Moon Violations Unit - Episode 1 complete</td>\n",
              "      <td>Announcements</td>\n",
              "      <td>Huge story ahead. Comments/Subs very welcome.\\...</td>\n",
              "      <td>['What a great and refreshing new comic. (in r...</td>\n",
              "      <td>Jul 11, 2021 8:51 am</td>\n",
              "      <td>This topic has 4 replies</td>\n",
              "    </tr>\n",
              "    <tr>\n",
              "      <th>3</th>\n",
              "      <td>3</td>\n",
              "      <td>Introducing Lauren, Community Marketing Intern</td>\n",
              "      <td>Announcements</td>\n",
              "      <td>Welcome Lauren!</td>\n",
              "      <td>['Hi Lauren, welcome~ ', 'Oh dang! Welcome, La...</td>\n",
              "      <td>Jun 22, 2021 5:40 pm</td>\n",
              "      <td>This topic has 24 replies with an extremely hi...</td>\n",
              "    </tr>\n",
              "    <tr>\n",
              "      <th>4</th>\n",
              "      <td>4</td>\n",
              "      <td>✨⁠ Tapas Milestone Assets for Creators ✨⁠</td>\n",
              "      <td>Announcements</td>\n",
              "      <td>Just need 4k more...</td>\n",
              "      <td>['this is cool thanks! the milestone are edita...</td>\n",
              "      <td>May 26, 2021 11:49 am</td>\n",
              "      <td>This topic has 10 replies with an extremely hi...</td>\n",
              "    </tr>\n",
              "  </tbody>\n",
              "</table>\n",
              "</div>"
            ],
            "text/plain": [
              "   Unnamed: 0  ...                                        Num Replies\n",
              "0           0  ...                           This topic has 0 replies\n",
              "1           1  ...                           This topic has 0 replies\n",
              "2           2  ...                           This topic has 4 replies\n",
              "3           3  ...  This topic has 24 replies with an extremely hi...\n",
              "4           4  ...  This topic has 10 replies with an extremely hi...\n",
              "\n",
              "[5 rows x 7 columns]"
            ]
          },
          "metadata": {
            "tags": []
          },
          "execution_count": 4
        }
      ]
    },
    {
      "cell_type": "code",
      "metadata": {
        "colab": {
          "base_uri": "https://localhost:8080/",
          "height": 423
        },
        "id": "eNcORD4QIYRl",
        "outputId": "720e9f1b-00f9-4738-e8ff-77ac5706f65f"
      },
      "source": [
        "# No. of words in every title of this category\n",
        "train['word_count'] = train['Topic Title'].apply(lambda x: len(str(x).split(\" \")))\n",
        "train[['Topic Title','word_count']].head(500)"
      ],
      "execution_count": 22,
      "outputs": [
        {
          "output_type": "execute_result",
          "data": {
            "text/html": [
              "<div>\n",
              "<style scoped>\n",
              "    .dataframe tbody tr th:only-of-type {\n",
              "        vertical-align: middle;\n",
              "    }\n",
              "\n",
              "    .dataframe tbody tr th {\n",
              "        vertical-align: top;\n",
              "    }\n",
              "\n",
              "    .dataframe thead th {\n",
              "        text-align: right;\n",
              "    }\n",
              "</style>\n",
              "<table border=\"1\" class=\"dataframe\">\n",
              "  <thead>\n",
              "    <tr style=\"text-align: right;\">\n",
              "      <th></th>\n",
              "      <th>Topic Title</th>\n",
              "      <th>word_count</th>\n",
              "    </tr>\n",
              "  </thead>\n",
              "  <tbody>\n",
              "    <tr>\n",
              "      <th>0</th>\n",
              "      <td>The Two Other Species (Novel)</td>\n",
              "      <td>5</td>\n",
              "    </tr>\n",
              "    <tr>\n",
              "      <th>1</th>\n",
              "      <td>“Lanche”, a textless comic [one-shot]</td>\n",
              "      <td>5</td>\n",
              "    </tr>\n",
              "    <tr>\n",
              "      <th>2</th>\n",
              "      <td>Moon Violations Unit - Episode 1 complete</td>\n",
              "      <td>7</td>\n",
              "    </tr>\n",
              "    <tr>\n",
              "      <th>3</th>\n",
              "      <td>Introducing Lauren, Community Marketing Intern</td>\n",
              "      <td>5</td>\n",
              "    </tr>\n",
              "    <tr>\n",
              "      <th>4</th>\n",
              "      <td>✨⁠ Tapas Milestone Assets for Creators ✨⁠</td>\n",
              "      <td>7</td>\n",
              "    </tr>\n",
              "    <tr>\n",
              "      <th>...</th>\n",
              "      <td>...</td>\n",
              "      <td>...</td>\n",
              "    </tr>\n",
              "    <tr>\n",
              "      <th>114</th>\n",
              "      <td>Buttons! BUTTons!</td>\n",
              "      <td>2</td>\n",
              "    </tr>\n",
              "    <tr>\n",
              "      <th>115</th>\n",
              "      <td>Tapastic’s Chief Product Officer featured on C...</td>\n",
              "      <td>7</td>\n",
              "    </tr>\n",
              "    <tr>\n",
              "      <th>116</th>\n",
              "      <td>Publisher Update: Changes to Genre Feature</td>\n",
              "      <td>6</td>\n",
              "    </tr>\n",
              "    <tr>\n",
              "      <th>117</th>\n",
              "      <td>Emoji/Emoticons</td>\n",
              "      <td>1</td>\n",
              "    </tr>\n",
              "    <tr>\n",
              "      <th>118</th>\n",
              "      <td>#Primetime Ad Payment Discrepancy</td>\n",
              "      <td>4</td>\n",
              "    </tr>\n",
              "  </tbody>\n",
              "</table>\n",
              "<p>119 rows × 2 columns</p>\n",
              "</div>"
            ],
            "text/plain": [
              "                                           Topic Title  word_count\n",
              "0                        The Two Other Species (Novel)           5\n",
              "1                “Lanche”, a textless comic [one-shot]           5\n",
              "2            Moon Violations Unit - Episode 1 complete           7\n",
              "3       Introducing Lauren, Community Marketing Intern           5\n",
              "4            ✨⁠ Tapas Milestone Assets for Creators ✨⁠           7\n",
              "..                                                 ...         ...\n",
              "114                                  Buttons! BUTTons!           2\n",
              "115  Tapastic’s Chief Product Officer featured on C...           7\n",
              "116         Publisher Update: Changes to Genre Feature           6\n",
              "117                                    Emoji/Emoticons           1\n",
              "118                  #Primetime Ad Payment Discrepancy           4\n",
              "\n",
              "[119 rows x 2 columns]"
            ]
          },
          "metadata": {
            "tags": []
          },
          "execution_count": 22
        }
      ]
    },
    {
      "cell_type": "code",
      "metadata": {
        "colab": {
          "base_uri": "https://localhost:8080/",
          "height": 423
        },
        "id": "vk2xrwJxIlR3",
        "outputId": "32c8edeb-da68-4adf-cf84-0e65526a8f23"
      },
      "source": [
        "# No. of characters in each title\n",
        "train['char_count'] = train['Topic Title'].str.len() \n",
        "train[['Topic Title','char_count']].head(500)"
      ],
      "execution_count": 21,
      "outputs": [
        {
          "output_type": "execute_result",
          "data": {
            "text/html": [
              "<div>\n",
              "<style scoped>\n",
              "    .dataframe tbody tr th:only-of-type {\n",
              "        vertical-align: middle;\n",
              "    }\n",
              "\n",
              "    .dataframe tbody tr th {\n",
              "        vertical-align: top;\n",
              "    }\n",
              "\n",
              "    .dataframe thead th {\n",
              "        text-align: right;\n",
              "    }\n",
              "</style>\n",
              "<table border=\"1\" class=\"dataframe\">\n",
              "  <thead>\n",
              "    <tr style=\"text-align: right;\">\n",
              "      <th></th>\n",
              "      <th>Topic Title</th>\n",
              "      <th>char_count</th>\n",
              "    </tr>\n",
              "  </thead>\n",
              "  <tbody>\n",
              "    <tr>\n",
              "      <th>0</th>\n",
              "      <td>The Two Other Species (Novel)</td>\n",
              "      <td>29</td>\n",
              "    </tr>\n",
              "    <tr>\n",
              "      <th>1</th>\n",
              "      <td>“Lanche”, a textless comic [one-shot]</td>\n",
              "      <td>37</td>\n",
              "    </tr>\n",
              "    <tr>\n",
              "      <th>2</th>\n",
              "      <td>Moon Violations Unit - Episode 1 complete</td>\n",
              "      <td>41</td>\n",
              "    </tr>\n",
              "    <tr>\n",
              "      <th>3</th>\n",
              "      <td>Introducing Lauren, Community Marketing Intern</td>\n",
              "      <td>46</td>\n",
              "    </tr>\n",
              "    <tr>\n",
              "      <th>4</th>\n",
              "      <td>✨⁠ Tapas Milestone Assets for Creators ✨⁠</td>\n",
              "      <td>41</td>\n",
              "    </tr>\n",
              "    <tr>\n",
              "      <th>...</th>\n",
              "      <td>...</td>\n",
              "      <td>...</td>\n",
              "    </tr>\n",
              "    <tr>\n",
              "      <th>114</th>\n",
              "      <td>Buttons! BUTTons!</td>\n",
              "      <td>17</td>\n",
              "    </tr>\n",
              "    <tr>\n",
              "      <th>115</th>\n",
              "      <td>Tapastic’s Chief Product Officer featured on C...</td>\n",
              "      <td>56</td>\n",
              "    </tr>\n",
              "    <tr>\n",
              "      <th>116</th>\n",
              "      <td>Publisher Update: Changes to Genre Feature</td>\n",
              "      <td>42</td>\n",
              "    </tr>\n",
              "    <tr>\n",
              "      <th>117</th>\n",
              "      <td>Emoji/Emoticons</td>\n",
              "      <td>15</td>\n",
              "    </tr>\n",
              "    <tr>\n",
              "      <th>118</th>\n",
              "      <td>#Primetime Ad Payment Discrepancy</td>\n",
              "      <td>33</td>\n",
              "    </tr>\n",
              "  </tbody>\n",
              "</table>\n",
              "<p>119 rows × 2 columns</p>\n",
              "</div>"
            ],
            "text/plain": [
              "                                           Topic Title  char_count\n",
              "0                        The Two Other Species (Novel)          29\n",
              "1                “Lanche”, a textless comic [one-shot]          37\n",
              "2            Moon Violations Unit - Episode 1 complete          41\n",
              "3       Introducing Lauren, Community Marketing Intern          46\n",
              "4            ✨⁠ Tapas Milestone Assets for Creators ✨⁠          41\n",
              "..                                                 ...         ...\n",
              "114                                  Buttons! BUTTons!          17\n",
              "115  Tapastic’s Chief Product Officer featured on C...          56\n",
              "116         Publisher Update: Changes to Genre Feature          42\n",
              "117                                    Emoji/Emoticons          15\n",
              "118                  #Primetime Ad Payment Discrepancy          33\n",
              "\n",
              "[119 rows x 2 columns]"
            ]
          },
          "metadata": {
            "tags": []
          },
          "execution_count": 21
        }
      ]
    },
    {
      "cell_type": "code",
      "metadata": {
        "colab": {
          "base_uri": "https://localhost:8080/",
          "height": 423
        },
        "id": "ZGJvBSRDIxaQ",
        "outputId": "e1dbf56a-fb07-4685-fcf6-396488011ff0"
      },
      "source": [
        "# Average word length of each title\n",
        "def avg_word(sentence):\n",
        "    words = sentence.split()\n",
        "    return (sum(len(word) for word in words)/len(words))\n",
        "\n",
        "train_new['avg_word'] = train_new['Topic Title'].apply(lambda x: avg_word(x))\n",
        "train_new[['Topic Title','avg_word']].head(500)"
      ],
      "execution_count": 20,
      "outputs": [
        {
          "output_type": "execute_result",
          "data": {
            "text/html": [
              "<div>\n",
              "<style scoped>\n",
              "    .dataframe tbody tr th:only-of-type {\n",
              "        vertical-align: middle;\n",
              "    }\n",
              "\n",
              "    .dataframe tbody tr th {\n",
              "        vertical-align: top;\n",
              "    }\n",
              "\n",
              "    .dataframe thead th {\n",
              "        text-align: right;\n",
              "    }\n",
              "</style>\n",
              "<table border=\"1\" class=\"dataframe\">\n",
              "  <thead>\n",
              "    <tr style=\"text-align: right;\">\n",
              "      <th></th>\n",
              "      <th>Topic Title</th>\n",
              "      <th>avg_word</th>\n",
              "    </tr>\n",
              "  </thead>\n",
              "  <tbody>\n",
              "    <tr>\n",
              "      <th>0</th>\n",
              "      <td>The Two Other Species (Novel)</td>\n",
              "      <td>5.000000</td>\n",
              "    </tr>\n",
              "    <tr>\n",
              "      <th>1</th>\n",
              "      <td>“Lanche”, a textless comic [one-shot]</td>\n",
              "      <td>6.600000</td>\n",
              "    </tr>\n",
              "    <tr>\n",
              "      <th>2</th>\n",
              "      <td>Moon Violations Unit - Episode 1 complete</td>\n",
              "      <td>5.000000</td>\n",
              "    </tr>\n",
              "    <tr>\n",
              "      <th>3</th>\n",
              "      <td>Introducing Lauren, Community Marketing Intern</td>\n",
              "      <td>8.400000</td>\n",
              "    </tr>\n",
              "    <tr>\n",
              "      <th>4</th>\n",
              "      <td>✨⁠ Tapas Milestone Assets for Creators ✨⁠</td>\n",
              "      <td>5.000000</td>\n",
              "    </tr>\n",
              "    <tr>\n",
              "      <th>...</th>\n",
              "      <td>...</td>\n",
              "      <td>...</td>\n",
              "    </tr>\n",
              "    <tr>\n",
              "      <th>114</th>\n",
              "      <td>Buttons! BUTTons!</td>\n",
              "      <td>8.000000</td>\n",
              "    </tr>\n",
              "    <tr>\n",
              "      <th>115</th>\n",
              "      <td>Tapastic’s Chief Product Officer featured on C...</td>\n",
              "      <td>7.142857</td>\n",
              "    </tr>\n",
              "    <tr>\n",
              "      <th>116</th>\n",
              "      <td>Publisher Update: Changes to Genre Feature</td>\n",
              "      <td>6.166667</td>\n",
              "    </tr>\n",
              "    <tr>\n",
              "      <th>117</th>\n",
              "      <td>Emoji/Emoticons</td>\n",
              "      <td>15.000000</td>\n",
              "    </tr>\n",
              "    <tr>\n",
              "      <th>118</th>\n",
              "      <td>#Primetime Ad Payment Discrepancy</td>\n",
              "      <td>7.500000</td>\n",
              "    </tr>\n",
              "  </tbody>\n",
              "</table>\n",
              "<p>119 rows × 2 columns</p>\n",
              "</div>"
            ],
            "text/plain": [
              "                                           Topic Title   avg_word\n",
              "0                        The Two Other Species (Novel)   5.000000\n",
              "1                “Lanche”, a textless comic [one-shot]   6.600000\n",
              "2            Moon Violations Unit - Episode 1 complete   5.000000\n",
              "3       Introducing Lauren, Community Marketing Intern   8.400000\n",
              "4            ✨⁠ Tapas Milestone Assets for Creators ✨⁠   5.000000\n",
              "..                                                 ...        ...\n",
              "114                                  Buttons! BUTTons!   8.000000\n",
              "115  Tapastic’s Chief Product Officer featured on C...   7.142857\n",
              "116         Publisher Update: Changes to Genre Feature   6.166667\n",
              "117                                    Emoji/Emoticons  15.000000\n",
              "118                  #Primetime Ad Payment Discrepancy   7.500000\n",
              "\n",
              "[119 rows x 2 columns]"
            ]
          },
          "metadata": {
            "tags": []
          },
          "execution_count": 20
        }
      ]
    },
    {
      "cell_type": "code",
      "metadata": {
        "colab": {
          "base_uri": "https://localhost:8080/",
          "height": 423
        },
        "id": "bjAu-L8KI6z_",
        "outputId": "7e9199d1-bad7-442f-d9fd-427a13ba563f"
      },
      "source": [
        "# No. of stopwords in each title\n",
        "stop = stopwords.words('english')\n",
        "\n",
        "train_new['stopwords'] = train_new['Topic Title'].apply(lambda x: len([x for x in x.split() if x in stop]))\n",
        "train_new[['Topic Title','stopwords']].head(500)"
      ],
      "execution_count": 19,
      "outputs": [
        {
          "output_type": "execute_result",
          "data": {
            "text/html": [
              "<div>\n",
              "<style scoped>\n",
              "    .dataframe tbody tr th:only-of-type {\n",
              "        vertical-align: middle;\n",
              "    }\n",
              "\n",
              "    .dataframe tbody tr th {\n",
              "        vertical-align: top;\n",
              "    }\n",
              "\n",
              "    .dataframe thead th {\n",
              "        text-align: right;\n",
              "    }\n",
              "</style>\n",
              "<table border=\"1\" class=\"dataframe\">\n",
              "  <thead>\n",
              "    <tr style=\"text-align: right;\">\n",
              "      <th></th>\n",
              "      <th>Topic Title</th>\n",
              "      <th>stopwords</th>\n",
              "    </tr>\n",
              "  </thead>\n",
              "  <tbody>\n",
              "    <tr>\n",
              "      <th>0</th>\n",
              "      <td>The Two Other Species (Novel)</td>\n",
              "      <td>0</td>\n",
              "    </tr>\n",
              "    <tr>\n",
              "      <th>1</th>\n",
              "      <td>“Lanche”, a textless comic [one-shot]</td>\n",
              "      <td>1</td>\n",
              "    </tr>\n",
              "    <tr>\n",
              "      <th>2</th>\n",
              "      <td>Moon Violations Unit - Episode 1 complete</td>\n",
              "      <td>0</td>\n",
              "    </tr>\n",
              "    <tr>\n",
              "      <th>3</th>\n",
              "      <td>Introducing Lauren, Community Marketing Intern</td>\n",
              "      <td>0</td>\n",
              "    </tr>\n",
              "    <tr>\n",
              "      <th>4</th>\n",
              "      <td>✨⁠ Tapas Milestone Assets for Creators ✨⁠</td>\n",
              "      <td>1</td>\n",
              "    </tr>\n",
              "    <tr>\n",
              "      <th>...</th>\n",
              "      <td>...</td>\n",
              "      <td>...</td>\n",
              "    </tr>\n",
              "    <tr>\n",
              "      <th>114</th>\n",
              "      <td>Buttons! BUTTons!</td>\n",
              "      <td>0</td>\n",
              "    </tr>\n",
              "    <tr>\n",
              "      <th>115</th>\n",
              "      <td>Tapastic’s Chief Product Officer featured on C...</td>\n",
              "      <td>1</td>\n",
              "    </tr>\n",
              "    <tr>\n",
              "      <th>116</th>\n",
              "      <td>Publisher Update: Changes to Genre Feature</td>\n",
              "      <td>1</td>\n",
              "    </tr>\n",
              "    <tr>\n",
              "      <th>117</th>\n",
              "      <td>Emoji/Emoticons</td>\n",
              "      <td>0</td>\n",
              "    </tr>\n",
              "    <tr>\n",
              "      <th>118</th>\n",
              "      <td>#Primetime Ad Payment Discrepancy</td>\n",
              "      <td>0</td>\n",
              "    </tr>\n",
              "  </tbody>\n",
              "</table>\n",
              "<p>119 rows × 2 columns</p>\n",
              "</div>"
            ],
            "text/plain": [
              "                                           Topic Title  stopwords\n",
              "0                        The Two Other Species (Novel)          0\n",
              "1                “Lanche”, a textless comic [one-shot]          1\n",
              "2            Moon Violations Unit - Episode 1 complete          0\n",
              "3       Introducing Lauren, Community Marketing Intern          0\n",
              "4            ✨⁠ Tapas Milestone Assets for Creators ✨⁠          1\n",
              "..                                                 ...        ...\n",
              "114                                  Buttons! BUTTons!          0\n",
              "115  Tapastic’s Chief Product Officer featured on C...          1\n",
              "116         Publisher Update: Changes to Genre Feature          1\n",
              "117                                    Emoji/Emoticons          0\n",
              "118                  #Primetime Ad Payment Discrepancy          0\n",
              "\n",
              "[119 rows x 2 columns]"
            ]
          },
          "metadata": {
            "tags": []
          },
          "execution_count": 19
        }
      ]
    },
    {
      "cell_type": "code",
      "metadata": {
        "colab": {
          "base_uri": "https://localhost:8080/"
        },
        "id": "DBzuMSl1MLzi",
        "outputId": "9fbb1df1-21a7-47bd-cc39-2cacea2e1937"
      },
      "source": [
        "import nltk\n",
        "nltk.download('stopwords')"
      ],
      "execution_count": 10,
      "outputs": [
        {
          "output_type": "stream",
          "text": [
            "[nltk_data] Downloading package stopwords to /root/nltk_data...\n",
            "[nltk_data]   Unzipping corpora/stopwords.zip.\n"
          ],
          "name": "stdout"
        },
        {
          "output_type": "execute_result",
          "data": {
            "text/plain": [
              "True"
            ]
          },
          "metadata": {
            "tags": []
          },
          "execution_count": 10
        }
      ]
    },
    {
      "cell_type": "code",
      "metadata": {
        "colab": {
          "base_uri": "https://localhost:8080/",
          "height": 423
        },
        "id": "ylBcXDXoMiQg",
        "outputId": "774124cd-03aa-4916-f047-37b2c4e55261"
      },
      "source": [
        "# No. of special words (exclamations) in each title\n",
        "train_new['Exclamations'] = train_new['Topic Title'].apply(lambda x: len([x for x in x.split() if x.endswith('!')]))\n",
        "train_new[['Topic Title','Exclamations']].head(500)"
      ],
      "execution_count": 18,
      "outputs": [
        {
          "output_type": "execute_result",
          "data": {
            "text/html": [
              "<div>\n",
              "<style scoped>\n",
              "    .dataframe tbody tr th:only-of-type {\n",
              "        vertical-align: middle;\n",
              "    }\n",
              "\n",
              "    .dataframe tbody tr th {\n",
              "        vertical-align: top;\n",
              "    }\n",
              "\n",
              "    .dataframe thead th {\n",
              "        text-align: right;\n",
              "    }\n",
              "</style>\n",
              "<table border=\"1\" class=\"dataframe\">\n",
              "  <thead>\n",
              "    <tr style=\"text-align: right;\">\n",
              "      <th></th>\n",
              "      <th>Topic Title</th>\n",
              "      <th>Exclamations</th>\n",
              "    </tr>\n",
              "  </thead>\n",
              "  <tbody>\n",
              "    <tr>\n",
              "      <th>0</th>\n",
              "      <td>The Two Other Species (Novel)</td>\n",
              "      <td>0</td>\n",
              "    </tr>\n",
              "    <tr>\n",
              "      <th>1</th>\n",
              "      <td>“Lanche”, a textless comic [one-shot]</td>\n",
              "      <td>0</td>\n",
              "    </tr>\n",
              "    <tr>\n",
              "      <th>2</th>\n",
              "      <td>Moon Violations Unit - Episode 1 complete</td>\n",
              "      <td>0</td>\n",
              "    </tr>\n",
              "    <tr>\n",
              "      <th>3</th>\n",
              "      <td>Introducing Lauren, Community Marketing Intern</td>\n",
              "      <td>0</td>\n",
              "    </tr>\n",
              "    <tr>\n",
              "      <th>4</th>\n",
              "      <td>✨⁠ Tapas Milestone Assets for Creators ✨⁠</td>\n",
              "      <td>0</td>\n",
              "    </tr>\n",
              "    <tr>\n",
              "      <th>...</th>\n",
              "      <td>...</td>\n",
              "      <td>...</td>\n",
              "    </tr>\n",
              "    <tr>\n",
              "      <th>114</th>\n",
              "      <td>Buttons! BUTTons!</td>\n",
              "      <td>2</td>\n",
              "    </tr>\n",
              "    <tr>\n",
              "      <th>115</th>\n",
              "      <td>Tapastic’s Chief Product Officer featured on C...</td>\n",
              "      <td>0</td>\n",
              "    </tr>\n",
              "    <tr>\n",
              "      <th>116</th>\n",
              "      <td>Publisher Update: Changes to Genre Feature</td>\n",
              "      <td>0</td>\n",
              "    </tr>\n",
              "    <tr>\n",
              "      <th>117</th>\n",
              "      <td>Emoji/Emoticons</td>\n",
              "      <td>0</td>\n",
              "    </tr>\n",
              "    <tr>\n",
              "      <th>118</th>\n",
              "      <td>#Primetime Ad Payment Discrepancy</td>\n",
              "      <td>0</td>\n",
              "    </tr>\n",
              "  </tbody>\n",
              "</table>\n",
              "<p>119 rows × 2 columns</p>\n",
              "</div>"
            ],
            "text/plain": [
              "                                           Topic Title  Exclamations\n",
              "0                        The Two Other Species (Novel)             0\n",
              "1                “Lanche”, a textless comic [one-shot]             0\n",
              "2            Moon Violations Unit - Episode 1 complete             0\n",
              "3       Introducing Lauren, Community Marketing Intern             0\n",
              "4            ✨⁠ Tapas Milestone Assets for Creators ✨⁠             0\n",
              "..                                                 ...           ...\n",
              "114                                  Buttons! BUTTons!             2\n",
              "115  Tapastic’s Chief Product Officer featured on C...             0\n",
              "116         Publisher Update: Changes to Genre Feature             0\n",
              "117                                    Emoji/Emoticons             0\n",
              "118                  #Primetime Ad Payment Discrepancy             0\n",
              "\n",
              "[119 rows x 2 columns]"
            ]
          },
          "metadata": {
            "tags": []
          },
          "execution_count": 18
        }
      ]
    },
    {
      "cell_type": "code",
      "metadata": {
        "colab": {
          "base_uri": "https://localhost:8080/",
          "height": 423
        },
        "id": "t7bTlVE-NJxP",
        "outputId": "636bd5a0-ed08-48b6-9987-4c62652e5fd7"
      },
      "source": [
        "# No. of numerics in titles\n",
        "train_new['numerics'] = train_new['Topic Title'].apply(lambda x: len([x for x in x.split() if x.isdigit()]))\n",
        "train_new[['Topic Title','numerics']].head(500)"
      ],
      "execution_count": 17,
      "outputs": [
        {
          "output_type": "execute_result",
          "data": {
            "text/html": [
              "<div>\n",
              "<style scoped>\n",
              "    .dataframe tbody tr th:only-of-type {\n",
              "        vertical-align: middle;\n",
              "    }\n",
              "\n",
              "    .dataframe tbody tr th {\n",
              "        vertical-align: top;\n",
              "    }\n",
              "\n",
              "    .dataframe thead th {\n",
              "        text-align: right;\n",
              "    }\n",
              "</style>\n",
              "<table border=\"1\" class=\"dataframe\">\n",
              "  <thead>\n",
              "    <tr style=\"text-align: right;\">\n",
              "      <th></th>\n",
              "      <th>Topic Title</th>\n",
              "      <th>numerics</th>\n",
              "    </tr>\n",
              "  </thead>\n",
              "  <tbody>\n",
              "    <tr>\n",
              "      <th>0</th>\n",
              "      <td>The Two Other Species (Novel)</td>\n",
              "      <td>0</td>\n",
              "    </tr>\n",
              "    <tr>\n",
              "      <th>1</th>\n",
              "      <td>“Lanche”, a textless comic [one-shot]</td>\n",
              "      <td>0</td>\n",
              "    </tr>\n",
              "    <tr>\n",
              "      <th>2</th>\n",
              "      <td>Moon Violations Unit - Episode 1 complete</td>\n",
              "      <td>1</td>\n",
              "    </tr>\n",
              "    <tr>\n",
              "      <th>3</th>\n",
              "      <td>Introducing Lauren, Community Marketing Intern</td>\n",
              "      <td>0</td>\n",
              "    </tr>\n",
              "    <tr>\n",
              "      <th>4</th>\n",
              "      <td>✨⁠ Tapas Milestone Assets for Creators ✨⁠</td>\n",
              "      <td>0</td>\n",
              "    </tr>\n",
              "    <tr>\n",
              "      <th>...</th>\n",
              "      <td>...</td>\n",
              "      <td>...</td>\n",
              "    </tr>\n",
              "    <tr>\n",
              "      <th>114</th>\n",
              "      <td>Buttons! BUTTons!</td>\n",
              "      <td>0</td>\n",
              "    </tr>\n",
              "    <tr>\n",
              "      <th>115</th>\n",
              "      <td>Tapastic’s Chief Product Officer featured on C...</td>\n",
              "      <td>0</td>\n",
              "    </tr>\n",
              "    <tr>\n",
              "      <th>116</th>\n",
              "      <td>Publisher Update: Changes to Genre Feature</td>\n",
              "      <td>0</td>\n",
              "    </tr>\n",
              "    <tr>\n",
              "      <th>117</th>\n",
              "      <td>Emoji/Emoticons</td>\n",
              "      <td>0</td>\n",
              "    </tr>\n",
              "    <tr>\n",
              "      <th>118</th>\n",
              "      <td>#Primetime Ad Payment Discrepancy</td>\n",
              "      <td>0</td>\n",
              "    </tr>\n",
              "  </tbody>\n",
              "</table>\n",
              "<p>119 rows × 2 columns</p>\n",
              "</div>"
            ],
            "text/plain": [
              "                                           Topic Title  numerics\n",
              "0                        The Two Other Species (Novel)         0\n",
              "1                “Lanche”, a textless comic [one-shot]         0\n",
              "2            Moon Violations Unit - Episode 1 complete         1\n",
              "3       Introducing Lauren, Community Marketing Intern         0\n",
              "4            ✨⁠ Tapas Milestone Assets for Creators ✨⁠         0\n",
              "..                                                 ...       ...\n",
              "114                                  Buttons! BUTTons!         0\n",
              "115  Tapastic’s Chief Product Officer featured on C...         0\n",
              "116         Publisher Update: Changes to Genre Feature         0\n",
              "117                                    Emoji/Emoticons         0\n",
              "118                  #Primetime Ad Payment Discrepancy         0\n",
              "\n",
              "[119 rows x 2 columns]"
            ]
          },
          "metadata": {
            "tags": []
          },
          "execution_count": 17
        }
      ]
    },
    {
      "cell_type": "code",
      "metadata": {
        "colab": {
          "base_uri": "https://localhost:8080/",
          "height": 423
        },
        "id": "IrQN1HR9NmIn",
        "outputId": "d200c87f-8168-4415-caba-41e2eaacddef"
      },
      "source": [
        "# No. of uppercase words in title\n",
        "train_new['upper'] = train_new['Topic Title'].apply(lambda x: len([x for x in x.split() if x.isupper()]))\n",
        "train_new[['Topic Title','upper']].head(500)"
      ],
      "execution_count": 23,
      "outputs": [
        {
          "output_type": "execute_result",
          "data": {
            "text/html": [
              "<div>\n",
              "<style scoped>\n",
              "    .dataframe tbody tr th:only-of-type {\n",
              "        vertical-align: middle;\n",
              "    }\n",
              "\n",
              "    .dataframe tbody tr th {\n",
              "        vertical-align: top;\n",
              "    }\n",
              "\n",
              "    .dataframe thead th {\n",
              "        text-align: right;\n",
              "    }\n",
              "</style>\n",
              "<table border=\"1\" class=\"dataframe\">\n",
              "  <thead>\n",
              "    <tr style=\"text-align: right;\">\n",
              "      <th></th>\n",
              "      <th>Topic Title</th>\n",
              "      <th>upper</th>\n",
              "    </tr>\n",
              "  </thead>\n",
              "  <tbody>\n",
              "    <tr>\n",
              "      <th>0</th>\n",
              "      <td>The Two Other Species (Novel)</td>\n",
              "      <td>0</td>\n",
              "    </tr>\n",
              "    <tr>\n",
              "      <th>1</th>\n",
              "      <td>“Lanche”, a textless comic [one-shot]</td>\n",
              "      <td>0</td>\n",
              "    </tr>\n",
              "    <tr>\n",
              "      <th>2</th>\n",
              "      <td>Moon Violations Unit - Episode 1 complete</td>\n",
              "      <td>0</td>\n",
              "    </tr>\n",
              "    <tr>\n",
              "      <th>3</th>\n",
              "      <td>Introducing Lauren, Community Marketing Intern</td>\n",
              "      <td>0</td>\n",
              "    </tr>\n",
              "    <tr>\n",
              "      <th>4</th>\n",
              "      <td>✨⁠ Tapas Milestone Assets for Creators ✨⁠</td>\n",
              "      <td>0</td>\n",
              "    </tr>\n",
              "    <tr>\n",
              "      <th>...</th>\n",
              "      <td>...</td>\n",
              "      <td>...</td>\n",
              "    </tr>\n",
              "    <tr>\n",
              "      <th>114</th>\n",
              "      <td>Buttons! BUTTons!</td>\n",
              "      <td>0</td>\n",
              "    </tr>\n",
              "    <tr>\n",
              "      <th>115</th>\n",
              "      <td>Tapastic’s Chief Product Officer featured on C...</td>\n",
              "      <td>0</td>\n",
              "    </tr>\n",
              "    <tr>\n",
              "      <th>116</th>\n",
              "      <td>Publisher Update: Changes to Genre Feature</td>\n",
              "      <td>0</td>\n",
              "    </tr>\n",
              "    <tr>\n",
              "      <th>117</th>\n",
              "      <td>Emoji/Emoticons</td>\n",
              "      <td>0</td>\n",
              "    </tr>\n",
              "    <tr>\n",
              "      <th>118</th>\n",
              "      <td>#Primetime Ad Payment Discrepancy</td>\n",
              "      <td>0</td>\n",
              "    </tr>\n",
              "  </tbody>\n",
              "</table>\n",
              "<p>119 rows × 2 columns</p>\n",
              "</div>"
            ],
            "text/plain": [
              "                                           Topic Title  upper\n",
              "0                        The Two Other Species (Novel)      0\n",
              "1                “Lanche”, a textless comic [one-shot]      0\n",
              "2            Moon Violations Unit - Episode 1 complete      0\n",
              "3       Introducing Lauren, Community Marketing Intern      0\n",
              "4            ✨⁠ Tapas Milestone Assets for Creators ✨⁠      0\n",
              "..                                                 ...    ...\n",
              "114                                  Buttons! BUTTons!      0\n",
              "115  Tapastic’s Chief Product Officer featured on C...      0\n",
              "116         Publisher Update: Changes to Genre Feature      0\n",
              "117                                    Emoji/Emoticons      0\n",
              "118                  #Primetime Ad Payment Discrepancy      0\n",
              "\n",
              "[119 rows x 2 columns]"
            ]
          },
          "metadata": {
            "tags": []
          },
          "execution_count": 23
        }
      ]
    },
    {
      "cell_type": "code",
      "metadata": {
        "colab": {
          "base_uri": "https://localhost:8080/"
        },
        "id": "rIdHhyzvNyJ3",
        "outputId": "66857258-2b49-4c5e-c4be-fcdf4a74867c"
      },
      "source": [
        "# Transforming titles into lowercase\n",
        "train_new['Topic Title'] = train_new['Topic Title'].apply(lambda x: \" \".join(x.lower() for x in x.split()))\n",
        "train_new['Topic Title'].head(500)"
      ],
      "execution_count": 24,
      "outputs": [
        {
          "output_type": "execute_result",
          "data": {
            "text/plain": [
              "0                          the two other species (novel)\n",
              "1                  “lanche”, a textless comic [one-shot]\n",
              "2              moon violations unit - episode 1 complete\n",
              "3         introducing lauren, community marketing intern\n",
              "4              ✨⁠ tapas milestone assets for creators ✨⁠\n",
              "                             ...                        \n",
              "114                                    buttons! buttons!\n",
              "115    tapastic’s chief product officer featured on c...\n",
              "116           publisher update: changes to genre feature\n",
              "117                                      emoji/emoticons\n",
              "118                    #primetime ad payment discrepancy\n",
              "Name: Topic Title, Length: 119, dtype: object"
            ]
          },
          "metadata": {
            "tags": []
          },
          "execution_count": 24
        }
      ]
    },
    {
      "cell_type": "code",
      "metadata": {
        "colab": {
          "base_uri": "https://localhost:8080/"
        },
        "id": "zolraBIwOE9w",
        "outputId": "b26de776-9960-46db-a6cf-d3e28e688cf6"
      },
      "source": [
        "# Removing punctuation in title\n",
        "train['Topic Title'] = train['Topic Title'].str.replace('[^\\w\\s]','')\n",
        "train['Topic Title'].head()"
      ],
      "execution_count": 26,
      "outputs": [
        {
          "output_type": "execute_result",
          "data": {
            "text/plain": [
              "0                      The Two Other Species Novel\n",
              "1                  Lanche a textless comic oneshot\n",
              "2         Moon Violations Unit  Episode 1 complete\n",
              "3    Introducing Lauren Community Marketing Intern\n",
              "4             Tapas Milestone Assets for Creators \n",
              "Name: Topic Title, dtype: object"
            ]
          },
          "metadata": {
            "tags": []
          },
          "execution_count": 26
        }
      ]
    },
    {
      "cell_type": "code",
      "metadata": {
        "colab": {
          "base_uri": "https://localhost:8080/"
        },
        "id": "xiUTg2EEObyN",
        "outputId": "567c24a6-e121-41a5-f658-9b757acc018c"
      },
      "source": [
        "# Removing stopwrds from title\n",
        "from nltk.corpus import stopwords\n",
        "stop = stopwords.words('english')\n",
        "train_new['Topic Title'] = train_new['Topic Title'].apply(lambda x: \" \".join(x for x in x.split() if x not in stop))\n",
        "train_new['Topic Title'].head(500)"
      ],
      "execution_count": 27,
      "outputs": [
        {
          "output_type": "execute_result",
          "data": {
            "text/plain": [
              "0                                    two species (novel)\n",
              "1                    “lanche”, textless comic [one-shot]\n",
              "2              moon violations unit - episode 1 complete\n",
              "3         introducing lauren, community marketing intern\n",
              "4                  ✨⁠ tapas milestone assets creators ✨⁠\n",
              "                             ...                        \n",
              "114                                    buttons! buttons!\n",
              "115    tapastic’s chief product officer featured citi...\n",
              "116              publisher update: changes genre feature\n",
              "117                                      emoji/emoticons\n",
              "118                    #primetime ad payment discrepancy\n",
              "Name: Topic Title, Length: 119, dtype: object"
            ]
          },
          "metadata": {
            "tags": []
          },
          "execution_count": 27
        }
      ]
    },
    {
      "cell_type": "code",
      "metadata": {
        "id": "TrYx4V1KOlgr"
      },
      "source": [
        "# Removing common words from title\n",
        "freq = pd.Series(' '.join(train['Topic Title']).split()).value_counts()[:10]"
      ],
      "execution_count": 28,
      "outputs": []
    },
    {
      "cell_type": "code",
      "metadata": {
        "colab": {
          "base_uri": "https://localhost:8080/"
        },
        "id": "zBCzaJtwOzHR",
        "outputId": "b8c9444d-1952-451b-d67b-a047d9fd0652"
      },
      "source": [
        "freq"
      ],
      "execution_count": 29,
      "outputs": [
        {
          "output_type": "execute_result",
          "data": {
            "text/plain": [
              "Tapastic    35\n",
              "and         29\n",
              "Update      21\n",
              "Tapas       16\n",
              "for         13\n",
              "New         11\n",
              "the         11\n",
              "Support     10\n",
              "on           8\n",
              "to           8\n",
              "dtype: int64"
            ]
          },
          "metadata": {
            "tags": []
          },
          "execution_count": 29
        }
      ]
    },
    {
      "cell_type": "code",
      "metadata": {
        "id": "H1YaT__DO3E7"
      },
      "source": [
        "train_data = train.copy()"
      ],
      "execution_count": 30,
      "outputs": []
    },
    {
      "cell_type": "code",
      "metadata": {
        "colab": {
          "base_uri": "https://localhost:8080/"
        },
        "id": "EgcJ27FsO6ZK",
        "outputId": "520170f9-dbe4-4d48-9369-a1d6197fdf90"
      },
      "source": [
        "freq = list(freq.index)\n",
        "train['Topic Title'] = train['Topic Title'].apply(lambda x: \" \".join(x for x in x.split() if x not in freq))\n",
        "train['Topic Title'].head()"
      ],
      "execution_count": 31,
      "outputs": [
        {
          "output_type": "execute_result",
          "data": {
            "text/plain": [
              "0                      The Two Other Species Novel\n",
              "1                  Lanche a textless comic oneshot\n",
              "2          Moon Violations Unit Episode 1 complete\n",
              "3    Introducing Lauren Community Marketing Intern\n",
              "4                        Milestone Assets Creators\n",
              "Name: Topic Title, dtype: object"
            ]
          },
          "metadata": {
            "tags": []
          },
          "execution_count": 31
        }
      ]
    },
    {
      "cell_type": "code",
      "metadata": {
        "colab": {
          "base_uri": "https://localhost:8080/"
        },
        "id": "UY-NrRshPJ4O",
        "outputId": "f02ee018-936e-4bd8-dcba-e0559cad287d"
      },
      "source": [
        "# Removing rare words from title\n",
        "freq = pd.Series(' '.join(train['Topic Title']).split()).value_counts()[-10:]\n",
        "freq"
      ],
      "execution_count": 32,
      "outputs": [
        {
          "output_type": "execute_result",
          "data": {
            "text/plain": [
              "2016             1\n",
              "its              1\n",
              "Collaboration    1\n",
              "posted           1\n",
              "AGAIN            1\n",
              "Madefire         1\n",
              "comics           1\n",
              "StaffPinned      1\n",
              "Dec              1\n",
              "Design           1\n",
              "dtype: int64"
            ]
          },
          "metadata": {
            "tags": []
          },
          "execution_count": 32
        }
      ]
    },
    {
      "cell_type": "code",
      "metadata": {
        "colab": {
          "base_uri": "https://localhost:8080/"
        },
        "id": "2hLZySmIPgVo",
        "outputId": "928a94a7-767a-4bb6-a697-9d2ead95b67d"
      },
      "source": [
        "freq = list(freq.index)\n",
        "train['Topic Title'] = train['Topic Title'].apply(lambda x: \" \".join(x for x in x.split() if x not in freq))\n",
        "train['Topic Title'].head()"
      ],
      "execution_count": 33,
      "outputs": [
        {
          "output_type": "execute_result",
          "data": {
            "text/plain": [
              "0                      The Two Other Species Novel\n",
              "1                  Lanche a textless comic oneshot\n",
              "2          Moon Violations Unit Episode 1 complete\n",
              "3    Introducing Lauren Community Marketing Intern\n",
              "4                        Milestone Assets Creators\n",
              "Name: Topic Title, dtype: object"
            ]
          },
          "metadata": {
            "tags": []
          },
          "execution_count": 33
        }
      ]
    },
    {
      "cell_type": "code",
      "metadata": {
        "colab": {
          "base_uri": "https://localhost:8080/"
        },
        "id": "Wwdr5TOfPrkp",
        "outputId": "9d1ac83a-484b-45b3-f5d1-3a9e57ebff21"
      },
      "source": [
        "!pip install textblob"
      ],
      "execution_count": 34,
      "outputs": [
        {
          "output_type": "stream",
          "text": [
            "Requirement already satisfied: textblob in /usr/local/lib/python3.7/dist-packages (0.15.3)\n",
            "Requirement already satisfied: nltk>=3.1 in /usr/local/lib/python3.7/dist-packages (from textblob) (3.2.5)\n",
            "Requirement already satisfied: six in /usr/local/lib/python3.7/dist-packages (from nltk>=3.1->textblob) (1.15.0)\n"
          ],
          "name": "stdout"
        }
      ]
    },
    {
      "cell_type": "code",
      "metadata": {
        "colab": {
          "base_uri": "https://localhost:8080/"
        },
        "id": "4xmkTkKUPyFh",
        "outputId": "d5c951f6-3aa7-4b0e-cc27-a6bf2a733913"
      },
      "source": [
        "# Spelling correction\n",
        "from textblob import TextBlob\n",
        "train['Topic Title'][:5].apply(lambda x: str(TextBlob(x).correct()))"
      ],
      "execution_count": 36,
      "outputs": [
        {
          "output_type": "execute_result",
          "data": {
            "text/plain": [
              "0                   The Two Other Species Novel\n",
              "1                Dance a restless comic oneshot\n",
              "2       Soon Violations Knit Episode 1 complete\n",
              "3    Introducing Aren Community Marketing Enter\n",
              "4                        Limestone Sets Orators\n",
              "Name: Topic Title, dtype: object"
            ]
          },
          "metadata": {
            "tags": []
          },
          "execution_count": 36
        }
      ]
    },
    {
      "cell_type": "code",
      "metadata": {
        "colab": {
          "base_uri": "https://localhost:8080/"
        },
        "id": "YXL53qChQFo6",
        "outputId": "1a109ff0-a53a-4f2e-c84d-334f8254a737"
      },
      "source": [
        "import nltk\n",
        "nltk.download('punkt')"
      ],
      "execution_count": 37,
      "outputs": [
        {
          "output_type": "stream",
          "text": [
            "[nltk_data] Downloading package punkt to /root/nltk_data...\n",
            "[nltk_data]   Unzipping tokenizers/punkt.zip.\n"
          ],
          "name": "stdout"
        },
        {
          "output_type": "execute_result",
          "data": {
            "text/plain": [
              "True"
            ]
          },
          "metadata": {
            "tags": []
          },
          "execution_count": 37
        }
      ]
    },
    {
      "cell_type": "code",
      "metadata": {
        "colab": {
          "base_uri": "https://localhost:8080/"
        },
        "id": "2xw_SCtnQZN4",
        "outputId": "62bd51d4-f7bc-4760-83b6-ba63d80b9f98"
      },
      "source": [
        "# Tokenization\n",
        "TextBlob(train['Topic Title'][1]).words"
      ],
      "execution_count": 38,
      "outputs": [
        {
          "output_type": "execute_result",
          "data": {
            "text/plain": [
              "WordList(['Lanche', 'a', 'textless', 'comic', 'oneshot'])"
            ]
          },
          "metadata": {
            "tags": []
          },
          "execution_count": 38
        }
      ]
    },
    {
      "cell_type": "code",
      "metadata": {
        "colab": {
          "base_uri": "https://localhost:8080/"
        },
        "id": "GJFBFjWoQlgF",
        "outputId": "0f949afd-c654-4523-f9e1-86a75a4ac4d2"
      },
      "source": [
        "# Stemming\n",
        "from nltk.stem import PorterStemmer\n",
        "st = PorterStemmer()\n",
        "train['Topic Title'][:5].apply(lambda x: \" \".join([st.stem(word) for word in x.split()]))"
      ],
      "execution_count": 39,
      "outputs": [
        {
          "output_type": "execute_result",
          "data": {
            "text/plain": [
              "0               the two other speci novel\n",
              "1          lanch a textless comic oneshot\n",
              "2       moon violat unit episod 1 complet\n",
              "3    introduc lauren commun market intern\n",
              "4                  mileston asset creator\n",
              "Name: Topic Title, dtype: object"
            ]
          },
          "metadata": {
            "tags": []
          },
          "execution_count": 39
        }
      ]
    },
    {
      "cell_type": "code",
      "metadata": {
        "colab": {
          "base_uri": "https://localhost:8080/"
        },
        "id": "Tg2P-fbAQ3KB",
        "outputId": "8c40f9de-3fb6-4a5b-ffc5-a8f5d87f8477"
      },
      "source": [
        "nltk.download('wordnet')"
      ],
      "execution_count": 40,
      "outputs": [
        {
          "output_type": "stream",
          "text": [
            "[nltk_data] Downloading package wordnet to /root/nltk_data...\n",
            "[nltk_data]   Unzipping corpora/wordnet.zip.\n"
          ],
          "name": "stdout"
        },
        {
          "output_type": "execute_result",
          "data": {
            "text/plain": [
              "True"
            ]
          },
          "metadata": {
            "tags": []
          },
          "execution_count": 40
        }
      ]
    },
    {
      "cell_type": "code",
      "metadata": {
        "colab": {
          "base_uri": "https://localhost:8080/"
        },
        "id": "eV2srgwaQ7t_",
        "outputId": "21adb00a-7a3a-425d-c98a-c540ce01cee8"
      },
      "source": [
        "# Lemmatization\n",
        "from textblob import Word\n",
        "train['Topic Title'] = train['Topic Title'].apply(lambda x: \" \".join([Word(word).lemmatize() for word in x.split()]))\n",
        "train['Topic Title'].head()"
      ],
      "execution_count": 41,
      "outputs": [
        {
          "output_type": "execute_result",
          "data": {
            "text/plain": [
              "0                      The Two Other Species Novel\n",
              "1                  Lanche a textless comic oneshot\n",
              "2          Moon Violations Unit Episode 1 complete\n",
              "3    Introducing Lauren Community Marketing Intern\n",
              "4                        Milestone Assets Creators\n",
              "Name: Topic Title, dtype: object"
            ]
          },
          "metadata": {
            "tags": []
          },
          "execution_count": 41
        }
      ]
    },
    {
      "cell_type": "code",
      "metadata": {
        "colab": {
          "base_uri": "https://localhost:8080/"
        },
        "id": "KOb6YeK_RJZo",
        "outputId": "04e57463-d32c-4d1c-a56a-a9f9345a9419"
      },
      "source": [
        "# N-grams\n",
        "TextBlob(train['Topic Title'][1]).ngrams(2)"
      ],
      "execution_count": 42,
      "outputs": [
        {
          "output_type": "execute_result",
          "data": {
            "text/plain": [
              "[WordList(['Lanche', 'a']),\n",
              " WordList(['a', 'textless']),\n",
              " WordList(['textless', 'comic']),\n",
              " WordList(['comic', 'oneshot'])]"
            ]
          },
          "metadata": {
            "tags": []
          },
          "execution_count": 42
        }
      ]
    },
    {
      "cell_type": "code",
      "metadata": {
        "colab": {
          "base_uri": "https://localhost:8080/",
          "height": 206
        },
        "id": "bJ-YMxqRRrS0",
        "outputId": "3b41bcc8-8124-47b2-ed2a-4a0f86a42bdb"
      },
      "source": [
        "# tf\n",
        "tf1 = (train['Topic Title'][1:2]).apply(lambda x: pd.value_counts(x.split(\" \"))).sum(axis = 0).reset_index()\n",
        "tf1.columns = ['words','tf']\n",
        "tf1"
      ],
      "execution_count": 43,
      "outputs": [
        {
          "output_type": "execute_result",
          "data": {
            "text/html": [
              "<div>\n",
              "<style scoped>\n",
              "    .dataframe tbody tr th:only-of-type {\n",
              "        vertical-align: middle;\n",
              "    }\n",
              "\n",
              "    .dataframe tbody tr th {\n",
              "        vertical-align: top;\n",
              "    }\n",
              "\n",
              "    .dataframe thead th {\n",
              "        text-align: right;\n",
              "    }\n",
              "</style>\n",
              "<table border=\"1\" class=\"dataframe\">\n",
              "  <thead>\n",
              "    <tr style=\"text-align: right;\">\n",
              "      <th></th>\n",
              "      <th>words</th>\n",
              "      <th>tf</th>\n",
              "    </tr>\n",
              "  </thead>\n",
              "  <tbody>\n",
              "    <tr>\n",
              "      <th>0</th>\n",
              "      <td>a</td>\n",
              "      <td>1</td>\n",
              "    </tr>\n",
              "    <tr>\n",
              "      <th>1</th>\n",
              "      <td>Lanche</td>\n",
              "      <td>1</td>\n",
              "    </tr>\n",
              "    <tr>\n",
              "      <th>2</th>\n",
              "      <td>textless</td>\n",
              "      <td>1</td>\n",
              "    </tr>\n",
              "    <tr>\n",
              "      <th>3</th>\n",
              "      <td>comic</td>\n",
              "      <td>1</td>\n",
              "    </tr>\n",
              "    <tr>\n",
              "      <th>4</th>\n",
              "      <td>oneshot</td>\n",
              "      <td>1</td>\n",
              "    </tr>\n",
              "  </tbody>\n",
              "</table>\n",
              "</div>"
            ],
            "text/plain": [
              "      words  tf\n",
              "0         a   1\n",
              "1    Lanche   1\n",
              "2  textless   1\n",
              "3     comic   1\n",
              "4   oneshot   1"
            ]
          },
          "metadata": {
            "tags": []
          },
          "execution_count": 43
        }
      ]
    },
    {
      "cell_type": "code",
      "metadata": {
        "id": "PfS9wpSCR-Sw"
      },
      "source": [
        "# idf\n",
        "import numpy as np\n",
        "\n",
        "for i,word in enumerate(tf1['words']):\n",
        "      tf1.loc[i, 'idf'] = np.log(train.shape[0]/(len(train[train['Topic Title'].str.contains(word)])))"
      ],
      "execution_count": 44,
      "outputs": []
    },
    {
      "cell_type": "code",
      "metadata": {
        "colab": {
          "base_uri": "https://localhost:8080/",
          "height": 206
        },
        "id": "MtQ3S8mXSMvx",
        "outputId": "89372495-c08d-49c5-895f-ac5b688b5611"
      },
      "source": [
        "tf1"
      ],
      "execution_count": 45,
      "outputs": [
        {
          "output_type": "execute_result",
          "data": {
            "text/html": [
              "<div>\n",
              "<style scoped>\n",
              "    .dataframe tbody tr th:only-of-type {\n",
              "        vertical-align: middle;\n",
              "    }\n",
              "\n",
              "    .dataframe tbody tr th {\n",
              "        vertical-align: top;\n",
              "    }\n",
              "\n",
              "    .dataframe thead th {\n",
              "        text-align: right;\n",
              "    }\n",
              "</style>\n",
              "<table border=\"1\" class=\"dataframe\">\n",
              "  <thead>\n",
              "    <tr style=\"text-align: right;\">\n",
              "      <th></th>\n",
              "      <th>words</th>\n",
              "      <th>tf</th>\n",
              "      <th>idf</th>\n",
              "    </tr>\n",
              "  </thead>\n",
              "  <tbody>\n",
              "    <tr>\n",
              "      <th>0</th>\n",
              "      <td>a</td>\n",
              "      <td>1</td>\n",
              "      <td>0.194156</td>\n",
              "    </tr>\n",
              "    <tr>\n",
              "      <th>1</th>\n",
              "      <td>Lanche</td>\n",
              "      <td>1</td>\n",
              "      <td>4.779123</td>\n",
              "    </tr>\n",
              "    <tr>\n",
              "      <th>2</th>\n",
              "      <td>textless</td>\n",
              "      <td>1</td>\n",
              "      <td>4.779123</td>\n",
              "    </tr>\n",
              "    <tr>\n",
              "      <th>3</th>\n",
              "      <td>comic</td>\n",
              "      <td>1</td>\n",
              "      <td>3.680511</td>\n",
              "    </tr>\n",
              "    <tr>\n",
              "      <th>4</th>\n",
              "      <td>oneshot</td>\n",
              "      <td>1</td>\n",
              "      <td>4.779123</td>\n",
              "    </tr>\n",
              "  </tbody>\n",
              "</table>\n",
              "</div>"
            ],
            "text/plain": [
              "      words  tf       idf\n",
              "0         a   1  0.194156\n",
              "1    Lanche   1  4.779123\n",
              "2  textless   1  4.779123\n",
              "3     comic   1  3.680511\n",
              "4   oneshot   1  4.779123"
            ]
          },
          "metadata": {
            "tags": []
          },
          "execution_count": 45
        }
      ]
    },
    {
      "cell_type": "code",
      "metadata": {
        "id": "HDFCDyQ5SOik"
      },
      "source": [
        "# TF-IDF\n",
        "tf1['tfidf'] = tf1['tf'] * tf1['idf']"
      ],
      "execution_count": 46,
      "outputs": []
    },
    {
      "cell_type": "code",
      "metadata": {
        "colab": {
          "base_uri": "https://localhost:8080/",
          "height": 206
        },
        "id": "NEcGTbCQSUah",
        "outputId": "7a731606-da78-4e95-af58-bd02ecb9a2d6"
      },
      "source": [
        "tf1"
      ],
      "execution_count": 47,
      "outputs": [
        {
          "output_type": "execute_result",
          "data": {
            "text/html": [
              "<div>\n",
              "<style scoped>\n",
              "    .dataframe tbody tr th:only-of-type {\n",
              "        vertical-align: middle;\n",
              "    }\n",
              "\n",
              "    .dataframe tbody tr th {\n",
              "        vertical-align: top;\n",
              "    }\n",
              "\n",
              "    .dataframe thead th {\n",
              "        text-align: right;\n",
              "    }\n",
              "</style>\n",
              "<table border=\"1\" class=\"dataframe\">\n",
              "  <thead>\n",
              "    <tr style=\"text-align: right;\">\n",
              "      <th></th>\n",
              "      <th>words</th>\n",
              "      <th>tf</th>\n",
              "      <th>idf</th>\n",
              "      <th>tfidf</th>\n",
              "    </tr>\n",
              "  </thead>\n",
              "  <tbody>\n",
              "    <tr>\n",
              "      <th>0</th>\n",
              "      <td>a</td>\n",
              "      <td>1</td>\n",
              "      <td>0.194156</td>\n",
              "      <td>0.194156</td>\n",
              "    </tr>\n",
              "    <tr>\n",
              "      <th>1</th>\n",
              "      <td>Lanche</td>\n",
              "      <td>1</td>\n",
              "      <td>4.779123</td>\n",
              "      <td>4.779123</td>\n",
              "    </tr>\n",
              "    <tr>\n",
              "      <th>2</th>\n",
              "      <td>textless</td>\n",
              "      <td>1</td>\n",
              "      <td>4.779123</td>\n",
              "      <td>4.779123</td>\n",
              "    </tr>\n",
              "    <tr>\n",
              "      <th>3</th>\n",
              "      <td>comic</td>\n",
              "      <td>1</td>\n",
              "      <td>3.680511</td>\n",
              "      <td>3.680511</td>\n",
              "    </tr>\n",
              "    <tr>\n",
              "      <th>4</th>\n",
              "      <td>oneshot</td>\n",
              "      <td>1</td>\n",
              "      <td>4.779123</td>\n",
              "      <td>4.779123</td>\n",
              "    </tr>\n",
              "  </tbody>\n",
              "</table>\n",
              "</div>"
            ],
            "text/plain": [
              "      words  tf       idf     tfidf\n",
              "0         a   1  0.194156  0.194156\n",
              "1    Lanche   1  4.779123  4.779123\n",
              "2  textless   1  4.779123  4.779123\n",
              "3     comic   1  3.680511  3.680511\n",
              "4   oneshot   1  4.779123  4.779123"
            ]
          },
          "metadata": {
            "tags": []
          },
          "execution_count": 47
        }
      ]
    },
    {
      "cell_type": "code",
      "metadata": {
        "colab": {
          "base_uri": "https://localhost:8080/"
        },
        "id": "WplW84x7TC1-",
        "outputId": "21347ffd-09a5-45ef-81d5-9d710542587c"
      },
      "source": [
        "# tf-idf\n",
        "from sklearn.feature_extraction.text import TfidfVectorizer\n",
        "tfidf = TfidfVectorizer(max_features=1000, lowercase=True, analyzer='word',\n",
        "stop_words= 'english',ngram_range=(1,1))\n",
        "train_new_vect = tfidf.fit_transform(train_new['Topic Title'])\n",
        "\n",
        "print(train_new_vect)\n",
        "print(train_new_vect.todense())\n",
        "#print(TfidfVectorizer.get_feature_names())"
      ],
      "execution_count": 50,
      "outputs": [
        {
          "output_type": "stream",
          "text": [
            "  (0, 204)\t0.6537505585658915\n",
            "  (0, 274)\t0.7567101209675899\n",
            "  (1, 267)\t0.5322611324100384\n",
            "  (1, 72)\t0.38742000564858664\n",
            "  (1, 294)\t0.5322611324100384\n",
            "  (1, 165)\t0.5322611324100384\n",
            "  (2, 79)\t0.4542099736253202\n",
            "  (2, 109)\t0.41805884685908007\n",
            "  (2, 311)\t0.4542099736253202\n",
            "  (2, 318)\t0.4542099736253202\n",
            "  (2, 193)\t0.4542099736253202\n",
            "  (3, 154)\t0.4855701852012826\n",
            "  (3, 185)\t0.4855701852012826\n",
            "  (3, 77)\t0.3661624107180686\n",
            "  (3, 168)\t0.4855701852012826\n",
            "  (3, 156)\t0.3982334424780379\n",
            "  (4, 85)\t0.4289014610864955\n",
            "  (4, 39)\t0.5892508751272094\n",
            "  (4, 189)\t0.5892508751272094\n",
            "  (4, 289)\t0.3487267540661385\n",
            "  (5, 108)\t0.546338510761923\n",
            "  (5, 162)\t0.546338510761923\n",
            "  (5, 187)\t0.546338510761923\n",
            "  (5, 289)\t0.32333062795740913\n",
            "  (6, 180)\t0.559244600690552\n",
            "  :\t:\n",
            "  (112, 328)\t0.7208458434185806\n",
            "  (112, 124)\t0.6227660496627375\n",
            "  (112, 290)\t0.3042099890102619\n",
            "  (113, 244)\t0.5609398197382917\n",
            "  (113, 301)\t0.5609398197382917\n",
            "  (113, 235)\t0.5609398197382917\n",
            "  (113, 290)\t0.2367267536547544\n",
            "  (114, 53)\t1.0\n",
            "  (115, 65)\t0.4577898412931494\n",
            "  (115, 208)\t0.4577898412931494\n",
            "  (115, 64)\t0.4577898412931494\n",
            "  (115, 236)\t0.4213537884852526\n",
            "  (115, 290)\t0.19319559634046554\n",
            "  (115, 115)\t0.3955019976057721\n",
            "  (116, 130)\t0.508687455809477\n",
            "  (116, 240)\t0.508687455809477\n",
            "  (116, 61)\t0.4394743761926653\n",
            "  (116, 312)\t0.2648108816101337\n",
            "  (116, 114)\t0.4682003996742143\n",
            "  (117, 106)\t0.7071067811865475\n",
            "  (117, 105)\t0.7071067811865475\n",
            "  (118, 101)\t0.5330188355673424\n",
            "  (118, 217)\t0.5330188355673424\n",
            "  (118, 232)\t0.49059521518844706\n",
            "  (118, 27)\t0.4371477744368258\n",
            "[[0. 0. 0. ... 0. 0. 0.]\n",
            " [0. 0. 0. ... 0. 0. 0.]\n",
            " [0. 0. 0. ... 0. 0. 0.]\n",
            " ...\n",
            " [0. 0. 0. ... 0. 0. 0.]\n",
            " [0. 0. 0. ... 0. 0. 0.]\n",
            " [0. 0. 0. ... 0. 0. 0.]]\n"
          ],
          "name": "stdout"
        }
      ]
    },
    {
      "cell_type": "code",
      "metadata": {
        "colab": {
          "base_uri": "https://localhost:8080/"
        },
        "id": "KTQsutsATFjh",
        "outputId": "a9c6b230-440f-4d39-b14d-ab87e8967872"
      },
      "source": [
        "# Bag of words\n",
        "from sklearn.feature_extraction.text import CountVectorizer\n",
        "bow = CountVectorizer(max_features=1000, lowercase=True, ngram_range=(1,1),analyzer = \"word\")\n",
        "train_new_bow = bow.fit_transform(train_new['Topic Title'])\n",
        "print(train_new_bow)"
      ],
      "execution_count": 51,
      "outputs": [
        {
          "output_type": "stream",
          "text": [
            "  (0, 321)\t1\n",
            "  (0, 283)\t1\n",
            "  (0, 210)\t1\n",
            "  (1, 168)\t1\n",
            "  (1, 304)\t1\n",
            "  (1, 72)\t1\n",
            "  (1, 219)\t1\n",
            "  (1, 276)\t1\n",
            "  (2, 198)\t1\n",
            "  (2, 329)\t1\n",
            "  (2, 322)\t1\n",
            "  (2, 109)\t1\n",
            "  (2, 79)\t1\n",
            "  (3, 159)\t1\n",
            "  (3, 171)\t1\n",
            "  (3, 77)\t1\n",
            "  (3, 188)\t1\n",
            "  (3, 157)\t1\n",
            "  (4, 299)\t1\n",
            "  (4, 194)\t1\n",
            "  (4, 39)\t1\n",
            "  (4, 85)\t1\n",
            "  (5, 299)\t1\n",
            "  (5, 191)\t1\n",
            "  (5, 165)\t1\n",
            "  :\t:\n",
            "  (112, 300)\t1\n",
            "  (112, 125)\t1\n",
            "  (112, 339)\t1\n",
            "  (113, 300)\t1\n",
            "  (113, 244)\t1\n",
            "  (113, 311)\t1\n",
            "  (113, 253)\t1\n",
            "  (114, 53)\t2\n",
            "  (115, 116)\t1\n",
            "  (115, 300)\t1\n",
            "  (115, 245)\t1\n",
            "  (115, 64)\t1\n",
            "  (115, 215)\t1\n",
            "  (115, 65)\t1\n",
            "  (116, 115)\t1\n",
            "  (116, 323)\t1\n",
            "  (116, 61)\t1\n",
            "  (116, 249)\t1\n",
            "  (116, 131)\t1\n",
            "  (117, 105)\t1\n",
            "  (117, 106)\t1\n",
            "  (118, 27)\t1\n",
            "  (118, 241)\t1\n",
            "  (118, 226)\t1\n",
            "  (118, 101)\t1\n"
          ],
          "name": "stdout"
        }
      ]
    },
    {
      "cell_type": "code",
      "metadata": {
        "colab": {
          "base_uri": "https://localhost:8080/",
          "height": 423
        },
        "id": "3uk8pqw0TK3n",
        "outputId": "d6806c85-100c-4d79-e568-e2cdf9c6ab5a"
      },
      "source": [
        "# Sentiment analyis of the titles\n",
        "train_new['sentiment'] = train_new['Topic Title'].apply(lambda x: TextBlob(x).sentiment[0] )\n",
        "train_new[['Topic Title','sentiment']].head(500)"
      ],
      "execution_count": 53,
      "outputs": [
        {
          "output_type": "execute_result",
          "data": {
            "text/html": [
              "<div>\n",
              "<style scoped>\n",
              "    .dataframe tbody tr th:only-of-type {\n",
              "        vertical-align: middle;\n",
              "    }\n",
              "\n",
              "    .dataframe tbody tr th {\n",
              "        vertical-align: top;\n",
              "    }\n",
              "\n",
              "    .dataframe thead th {\n",
              "        text-align: right;\n",
              "    }\n",
              "</style>\n",
              "<table border=\"1\" class=\"dataframe\">\n",
              "  <thead>\n",
              "    <tr style=\"text-align: right;\">\n",
              "      <th></th>\n",
              "      <th>Topic Title</th>\n",
              "      <th>sentiment</th>\n",
              "    </tr>\n",
              "  </thead>\n",
              "  <tbody>\n",
              "    <tr>\n",
              "      <th>0</th>\n",
              "      <td>two species (novel)</td>\n",
              "      <td>0.00</td>\n",
              "    </tr>\n",
              "    <tr>\n",
              "      <th>1</th>\n",
              "      <td>“lanche”, textless comic [one-shot]</td>\n",
              "      <td>0.25</td>\n",
              "    </tr>\n",
              "    <tr>\n",
              "      <th>2</th>\n",
              "      <td>moon violations unit - episode 1 complete</td>\n",
              "      <td>0.10</td>\n",
              "    </tr>\n",
              "    <tr>\n",
              "      <th>3</th>\n",
              "      <td>introducing lauren, community marketing intern</td>\n",
              "      <td>0.00</td>\n",
              "    </tr>\n",
              "    <tr>\n",
              "      <th>4</th>\n",
              "      <td>✨⁠ tapas milestone assets creators ✨⁠</td>\n",
              "      <td>0.00</td>\n",
              "    </tr>\n",
              "    <tr>\n",
              "      <th>...</th>\n",
              "      <td>...</td>\n",
              "      <td>...</td>\n",
              "    </tr>\n",
              "    <tr>\n",
              "      <th>114</th>\n",
              "      <td>buttons! buttons!</td>\n",
              "      <td>0.00</td>\n",
              "    </tr>\n",
              "    <tr>\n",
              "      <th>115</th>\n",
              "      <td>tapastic’s chief product officer featured citi...</td>\n",
              "      <td>0.00</td>\n",
              "    </tr>\n",
              "    <tr>\n",
              "      <th>116</th>\n",
              "      <td>publisher update: changes genre feature</td>\n",
              "      <td>0.00</td>\n",
              "    </tr>\n",
              "    <tr>\n",
              "      <th>117</th>\n",
              "      <td>emoji/emoticons</td>\n",
              "      <td>0.00</td>\n",
              "    </tr>\n",
              "    <tr>\n",
              "      <th>118</th>\n",
              "      <td>#primetime ad payment discrepancy</td>\n",
              "      <td>0.00</td>\n",
              "    </tr>\n",
              "  </tbody>\n",
              "</table>\n",
              "<p>119 rows × 2 columns</p>\n",
              "</div>"
            ],
            "text/plain": [
              "                                           Topic Title  sentiment\n",
              "0                                  two species (novel)       0.00\n",
              "1                  “lanche”, textless comic [one-shot]       0.25\n",
              "2            moon violations unit - episode 1 complete       0.10\n",
              "3       introducing lauren, community marketing intern       0.00\n",
              "4                ✨⁠ tapas milestone assets creators ✨⁠       0.00\n",
              "..                                                 ...        ...\n",
              "114                                  buttons! buttons!       0.00\n",
              "115  tapastic’s chief product officer featured citi...       0.00\n",
              "116            publisher update: changes genre feature       0.00\n",
              "117                                    emoji/emoticons       0.00\n",
              "118                  #primetime ad payment discrepancy       0.00\n",
              "\n",
              "[119 rows x 2 columns]"
            ]
          },
          "metadata": {
            "tags": []
          },
          "execution_count": 53
        }
      ]
    },
    {
      "cell_type": "code",
      "metadata": {
        "colab": {
          "base_uri": "https://localhost:8080/",
          "height": 1000
        },
        "id": "ZMNK129zTpiK",
        "outputId": "047324fd-bcdf-4f8c-92cd-d323e0c090c7"
      },
      "source": [
        "!pip install \\\n",
        "   pandas matplotlib numpy \\\n",
        "   nltk seaborn sklearn gensim pyldavis \\\n",
        "   wordcloud textblob spacy textstat"
      ],
      "execution_count": 54,
      "outputs": [
        {
          "output_type": "stream",
          "text": [
            "Requirement already satisfied: pandas in /usr/local/lib/python3.7/dist-packages (1.1.5)\n",
            "Requirement already satisfied: matplotlib in /usr/local/lib/python3.7/dist-packages (3.2.2)\n",
            "Requirement already satisfied: numpy in /usr/local/lib/python3.7/dist-packages (1.19.5)\n",
            "Requirement already satisfied: nltk in /usr/local/lib/python3.7/dist-packages (3.2.5)\n",
            "Requirement already satisfied: seaborn in /usr/local/lib/python3.7/dist-packages (0.11.1)\n",
            "Requirement already satisfied: sklearn in /usr/local/lib/python3.7/dist-packages (0.0)\n",
            "Requirement already satisfied: gensim in /usr/local/lib/python3.7/dist-packages (3.6.0)\n",
            "Collecting pyldavis\n",
            "  Downloading pyLDAvis-3.3.1.tar.gz (1.7 MB)\n",
            "\u001b[?25l\r\u001b[K     |▏                               | 10 kB 18.1 MB/s eta 0:00:01\r\u001b[K     |▍                               | 20 kB 20.4 MB/s eta 0:00:01\r\u001b[K     |▋                               | 30 kB 24.3 MB/s eta 0:00:01\r\u001b[K     |▉                               | 40 kB 27.2 MB/s eta 0:00:01\r\u001b[K     |█                               | 51 kB 29.2 MB/s eta 0:00:01\r\u001b[K     |█▏                              | 61 kB 27.7 MB/s eta 0:00:01\r\u001b[K     |█▍                              | 71 kB 29.4 MB/s eta 0:00:01\r\u001b[K     |█▋                              | 81 kB 30.1 MB/s eta 0:00:01\r\u001b[K     |█▉                              | 92 kB 31.3 MB/s eta 0:00:01\r\u001b[K     |██                              | 102 kB 33.2 MB/s eta 0:00:01\r\u001b[K     |██▏                             | 112 kB 33.2 MB/s eta 0:00:01\r\u001b[K     |██▍                             | 122 kB 33.2 MB/s eta 0:00:01\r\u001b[K     |██▋                             | 133 kB 33.2 MB/s eta 0:00:01\r\u001b[K     |██▊                             | 143 kB 33.2 MB/s eta 0:00:01\r\u001b[K     |███                             | 153 kB 33.2 MB/s eta 0:00:01\r\u001b[K     |███▏                            | 163 kB 33.2 MB/s eta 0:00:01\r\u001b[K     |███▍                            | 174 kB 33.2 MB/s eta 0:00:01\r\u001b[K     |███▋                            | 184 kB 33.2 MB/s eta 0:00:01\r\u001b[K     |███▊                            | 194 kB 33.2 MB/s eta 0:00:01\r\u001b[K     |████                            | 204 kB 33.2 MB/s eta 0:00:01\r\u001b[K     |████▏                           | 215 kB 33.2 MB/s eta 0:00:01\r\u001b[K     |████▍                           | 225 kB 33.2 MB/s eta 0:00:01\r\u001b[K     |████▋                           | 235 kB 33.2 MB/s eta 0:00:01\r\u001b[K     |████▊                           | 245 kB 33.2 MB/s eta 0:00:01\r\u001b[K     |█████                           | 256 kB 33.2 MB/s eta 0:00:01\r\u001b[K     |█████▏                          | 266 kB 33.2 MB/s eta 0:00:01\r\u001b[K     |█████▍                          | 276 kB 33.2 MB/s eta 0:00:01\r\u001b[K     |█████▌                          | 286 kB 33.2 MB/s eta 0:00:01\r\u001b[K     |█████▊                          | 296 kB 33.2 MB/s eta 0:00:01\r\u001b[K     |██████                          | 307 kB 33.2 MB/s eta 0:00:01\r\u001b[K     |██████▏                         | 317 kB 33.2 MB/s eta 0:00:01\r\u001b[K     |██████▍                         | 327 kB 33.2 MB/s eta 0:00:01\r\u001b[K     |██████▌                         | 337 kB 33.2 MB/s eta 0:00:01\r\u001b[K     |██████▊                         | 348 kB 33.2 MB/s eta 0:00:01\r\u001b[K     |███████                         | 358 kB 33.2 MB/s eta 0:00:01\r\u001b[K     |███████▏                        | 368 kB 33.2 MB/s eta 0:00:01\r\u001b[K     |███████▎                        | 378 kB 33.2 MB/s eta 0:00:01\r\u001b[K     |███████▌                        | 389 kB 33.2 MB/s eta 0:00:01\r\u001b[K     |███████▊                        | 399 kB 33.2 MB/s eta 0:00:01\r\u001b[K     |████████                        | 409 kB 33.2 MB/s eta 0:00:01\r\u001b[K     |████████▏                       | 419 kB 33.2 MB/s eta 0:00:01\r\u001b[K     |████████▎                       | 430 kB 33.2 MB/s eta 0:00:01\r\u001b[K     |████████▌                       | 440 kB 33.2 MB/s eta 0:00:01\r\u001b[K     |████████▊                       | 450 kB 33.2 MB/s eta 0:00:01\r\u001b[K     |█████████                       | 460 kB 33.2 MB/s eta 0:00:01\r\u001b[K     |█████████▏                      | 471 kB 33.2 MB/s eta 0:00:01\r\u001b[K     |█████████▎                      | 481 kB 33.2 MB/s eta 0:00:01\r\u001b[K     |█████████▌                      | 491 kB 33.2 MB/s eta 0:00:01\r\u001b[K     |█████████▊                      | 501 kB 33.2 MB/s eta 0:00:01\r\u001b[K     |██████████                      | 512 kB 33.2 MB/s eta 0:00:01\r\u001b[K     |██████████                      | 522 kB 33.2 MB/s eta 0:00:01\r\u001b[K     |██████████▎                     | 532 kB 33.2 MB/s eta 0:00:01\r\u001b[K     |██████████▌                     | 542 kB 33.2 MB/s eta 0:00:01\r\u001b[K     |██████████▊                     | 552 kB 33.2 MB/s eta 0:00:01\r\u001b[K     |███████████                     | 563 kB 33.2 MB/s eta 0:00:01\r\u001b[K     |███████████                     | 573 kB 33.2 MB/s eta 0:00:01\r\u001b[K     |███████████▎                    | 583 kB 33.2 MB/s eta 0:00:01\r\u001b[K     |███████████▌                    | 593 kB 33.2 MB/s eta 0:00:01\r\u001b[K     |███████████▊                    | 604 kB 33.2 MB/s eta 0:00:01\r\u001b[K     |███████████▉                    | 614 kB 33.2 MB/s eta 0:00:01\r\u001b[K     |████████████                    | 624 kB 33.2 MB/s eta 0:00:01\r\u001b[K     |████████████▎                   | 634 kB 33.2 MB/s eta 0:00:01\r\u001b[K     |████████████▌                   | 645 kB 33.2 MB/s eta 0:00:01\r\u001b[K     |████████████▊                   | 655 kB 33.2 MB/s eta 0:00:01\r\u001b[K     |████████████▉                   | 665 kB 33.2 MB/s eta 0:00:01\r\u001b[K     |█████████████                   | 675 kB 33.2 MB/s eta 0:00:01\r\u001b[K     |█████████████▎                  | 686 kB 33.2 MB/s eta 0:00:01\r\u001b[K     |█████████████▌                  | 696 kB 33.2 MB/s eta 0:00:01\r\u001b[K     |█████████████▊                  | 706 kB 33.2 MB/s eta 0:00:01\r\u001b[K     |█████████████▉                  | 716 kB 33.2 MB/s eta 0:00:01\r\u001b[K     |██████████████                  | 727 kB 33.2 MB/s eta 0:00:01\r\u001b[K     |██████████████▎                 | 737 kB 33.2 MB/s eta 0:00:01\r\u001b[K     |██████████████▌                 | 747 kB 33.2 MB/s eta 0:00:01\r\u001b[K     |██████████████▋                 | 757 kB 33.2 MB/s eta 0:00:01\r\u001b[K     |██████████████▉                 | 768 kB 33.2 MB/s eta 0:00:01\r\u001b[K     |███████████████                 | 778 kB 33.2 MB/s eta 0:00:01\r\u001b[K     |███████████████▎                | 788 kB 33.2 MB/s eta 0:00:01\r\u001b[K     |███████████████▌                | 798 kB 33.2 MB/s eta 0:00:01\r\u001b[K     |███████████████▋                | 808 kB 33.2 MB/s eta 0:00:01\r\u001b[K     |███████████████▉                | 819 kB 33.2 MB/s eta 0:00:01\r\u001b[K     |████████████████                | 829 kB 33.2 MB/s eta 0:00:01\r\u001b[K     |████████████████▎               | 839 kB 33.2 MB/s eta 0:00:01\r\u001b[K     |████████████████▍               | 849 kB 33.2 MB/s eta 0:00:01\r\u001b[K     |████████████████▋               | 860 kB 33.2 MB/s eta 0:00:01\r\u001b[K     |████████████████▉               | 870 kB 33.2 MB/s eta 0:00:01\r\u001b[K     |█████████████████               | 880 kB 33.2 MB/s eta 0:00:01\r\u001b[K     |█████████████████▎              | 890 kB 33.2 MB/s eta 0:00:01\r\u001b[K     |█████████████████▍              | 901 kB 33.2 MB/s eta 0:00:01\r\u001b[K     |█████████████████▋              | 911 kB 33.2 MB/s eta 0:00:01\r\u001b[K     |█████████████████▉              | 921 kB 33.2 MB/s eta 0:00:01\r\u001b[K     |██████████████████              | 931 kB 33.2 MB/s eta 0:00:01\r\u001b[K     |██████████████████▎             | 942 kB 33.2 MB/s eta 0:00:01\r\u001b[K     |██████████████████▍             | 952 kB 33.2 MB/s eta 0:00:01\r\u001b[K     |██████████████████▋             | 962 kB 33.2 MB/s eta 0:00:01\r\u001b[K     |██████████████████▉             | 972 kB 33.2 MB/s eta 0:00:01\r\u001b[K     |███████████████████             | 983 kB 33.2 MB/s eta 0:00:01\r\u001b[K     |███████████████████▏            | 993 kB 33.2 MB/s eta 0:00:01\r\u001b[K     |███████████████████▍            | 1.0 MB 33.2 MB/s eta 0:00:01\r\u001b[K     |███████████████████▋            | 1.0 MB 33.2 MB/s eta 0:00:01\r\u001b[K     |███████████████████▉            | 1.0 MB 33.2 MB/s eta 0:00:01\r\u001b[K     |████████████████████            | 1.0 MB 33.2 MB/s eta 0:00:01\r\u001b[K     |████████████████████▏           | 1.0 MB 33.2 MB/s eta 0:00:01\r\u001b[K     |████████████████████▍           | 1.1 MB 33.2 MB/s eta 0:00:01\r\u001b[K     |████████████████████▋           | 1.1 MB 33.2 MB/s eta 0:00:01\r\u001b[K     |████████████████████▉           | 1.1 MB 33.2 MB/s eta 0:00:01\r\u001b[K     |█████████████████████           | 1.1 MB 33.2 MB/s eta 0:00:01\r\u001b[K     |█████████████████████▏          | 1.1 MB 33.2 MB/s eta 0:00:01\r\u001b[K     |█████████████████████▍          | 1.1 MB 33.2 MB/s eta 0:00:01\r\u001b[K     |█████████████████████▋          | 1.1 MB 33.2 MB/s eta 0:00:01\r\u001b[K     |█████████████████████▉          | 1.1 MB 33.2 MB/s eta 0:00:01\r\u001b[K     |██████████████████████          | 1.1 MB 33.2 MB/s eta 0:00:01\r\u001b[K     |██████████████████████▏         | 1.1 MB 33.2 MB/s eta 0:00:01\r\u001b[K     |██████████████████████▍         | 1.2 MB 33.2 MB/s eta 0:00:01\r\u001b[K     |██████████████████████▋         | 1.2 MB 33.2 MB/s eta 0:00:01\r\u001b[K     |██████████████████████▉         | 1.2 MB 33.2 MB/s eta 0:00:01\r\u001b[K     |███████████████████████         | 1.2 MB 33.2 MB/s eta 0:00:01\r\u001b[K     |███████████████████████▏        | 1.2 MB 33.2 MB/s eta 0:00:01\r\u001b[K     |███████████████████████▍        | 1.2 MB 33.2 MB/s eta 0:00:01\r\u001b[K     |███████████████████████▋        | 1.2 MB 33.2 MB/s eta 0:00:01\r\u001b[K     |███████████████████████▊        | 1.2 MB 33.2 MB/s eta 0:00:01\r\u001b[K     |████████████████████████        | 1.2 MB 33.2 MB/s eta 0:00:01\r\u001b[K     |████████████████████████▏       | 1.2 MB 33.2 MB/s eta 0:00:01\r\u001b[K     |████████████████████████▍       | 1.3 MB 33.2 MB/s eta 0:00:01\r\u001b[K     |████████████████████████▋       | 1.3 MB 33.2 MB/s eta 0:00:01\r\u001b[K     |████████████████████████▊       | 1.3 MB 33.2 MB/s eta 0:00:01\r\u001b[K     |█████████████████████████       | 1.3 MB 33.2 MB/s eta 0:00:01\r\u001b[K     |█████████████████████████▏      | 1.3 MB 33.2 MB/s eta 0:00:01\r\u001b[K     |█████████████████████████▍      | 1.3 MB 33.2 MB/s eta 0:00:01\r\u001b[K     |█████████████████████████▌      | 1.3 MB 33.2 MB/s eta 0:00:01\r\u001b[K     |█████████████████████████▊      | 1.3 MB 33.2 MB/s eta 0:00:01\r\u001b[K     |██████████████████████████      | 1.3 MB 33.2 MB/s eta 0:00:01\r\u001b[K     |██████████████████████████▏     | 1.4 MB 33.2 MB/s eta 0:00:01\r\u001b[K     |██████████████████████████▍     | 1.4 MB 33.2 MB/s eta 0:00:01\r\u001b[K     |██████████████████████████▌     | 1.4 MB 33.2 MB/s eta 0:00:01\r\u001b[K     |██████████████████████████▊     | 1.4 MB 33.2 MB/s eta 0:00:01\r\u001b[K     |███████████████████████████     | 1.4 MB 33.2 MB/s eta 0:00:01\r\u001b[K     |███████████████████████████▏    | 1.4 MB 33.2 MB/s eta 0:00:01\r\u001b[K     |███████████████████████████▍    | 1.4 MB 33.2 MB/s eta 0:00:01\r\u001b[K     |███████████████████████████▌    | 1.4 MB 33.2 MB/s eta 0:00:01\r\u001b[K     |███████████████████████████▊    | 1.4 MB 33.2 MB/s eta 0:00:01\r\u001b[K     |████████████████████████████    | 1.4 MB 33.2 MB/s eta 0:00:01\r\u001b[K     |████████████████████████████▏   | 1.5 MB 33.2 MB/s eta 0:00:01\r\u001b[K     |████████████████████████████▎   | 1.5 MB 33.2 MB/s eta 0:00:01\r\u001b[K     |████████████████████████████▌   | 1.5 MB 33.2 MB/s eta 0:00:01\r\u001b[K     |████████████████████████████▊   | 1.5 MB 33.2 MB/s eta 0:00:01\r\u001b[K     |█████████████████████████████   | 1.5 MB 33.2 MB/s eta 0:00:01\r\u001b[K     |█████████████████████████████▏  | 1.5 MB 33.2 MB/s eta 0:00:01\r\u001b[K     |█████████████████████████████▎  | 1.5 MB 33.2 MB/s eta 0:00:01\r\u001b[K     |█████████████████████████████▌  | 1.5 MB 33.2 MB/s eta 0:00:01\r\u001b[K     |█████████████████████████████▊  | 1.5 MB 33.2 MB/s eta 0:00:01\r\u001b[K     |██████████████████████████████  | 1.5 MB 33.2 MB/s eta 0:00:01\r\u001b[K     |██████████████████████████████▏ | 1.6 MB 33.2 MB/s eta 0:00:01\r\u001b[K     |██████████████████████████████▎ | 1.6 MB 33.2 MB/s eta 0:00:01\r\u001b[K     |██████████████████████████████▌ | 1.6 MB 33.2 MB/s eta 0:00:01\r\u001b[K     |██████████████████████████████▊ | 1.6 MB 33.2 MB/s eta 0:00:01\r\u001b[K     |███████████████████████████████ | 1.6 MB 33.2 MB/s eta 0:00:01\r\u001b[K     |███████████████████████████████ | 1.6 MB 33.2 MB/s eta 0:00:01\r\u001b[K     |███████████████████████████████▎| 1.6 MB 33.2 MB/s eta 0:00:01\r\u001b[K     |███████████████████████████████▌| 1.6 MB 33.2 MB/s eta 0:00:01\r\u001b[K     |███████████████████████████████▊| 1.6 MB 33.2 MB/s eta 0:00:01\r\u001b[K     |████████████████████████████████| 1.6 MB 33.2 MB/s eta 0:00:01\r\u001b[K     |████████████████████████████████| 1.7 MB 33.2 MB/s \n",
            "\u001b[?25h  Installing build dependencies ... \u001b[?25l\u001b[?25hdone\n",
            "  Getting requirements to build wheel ... \u001b[?25l\u001b[?25hdone\n",
            "  Installing backend dependencies ... \u001b[?25l\u001b[?25hdone\n",
            "    Preparing wheel metadata ... \u001b[?25l\u001b[?25hdone\n",
            "Requirement already satisfied: wordcloud in /usr/local/lib/python3.7/dist-packages (1.5.0)\n",
            "Requirement already satisfied: textblob in /usr/local/lib/python3.7/dist-packages (0.15.3)\n",
            "Requirement already satisfied: spacy in /usr/local/lib/python3.7/dist-packages (2.2.4)\n",
            "Collecting textstat\n",
            "  Downloading textstat-0.7.1-py3-none-any.whl (99 kB)\n",
            "\u001b[K     |████████████████████████████████| 99 kB 7.3 MB/s \n",
            "\u001b[?25hRequirement already satisfied: python-dateutil>=2.7.3 in /usr/local/lib/python3.7/dist-packages (from pandas) (2.8.1)\n",
            "Requirement already satisfied: pytz>=2017.2 in /usr/local/lib/python3.7/dist-packages (from pandas) (2018.9)\n",
            "Requirement already satisfied: six>=1.5 in /usr/local/lib/python3.7/dist-packages (from python-dateutil>=2.7.3->pandas) (1.15.0)\n",
            "Requirement already satisfied: pyparsing!=2.0.4,!=2.1.2,!=2.1.6,>=2.0.1 in /usr/local/lib/python3.7/dist-packages (from matplotlib) (2.4.7)\n",
            "Requirement already satisfied: cycler>=0.10 in /usr/local/lib/python3.7/dist-packages (from matplotlib) (0.10.0)\n",
            "Requirement already satisfied: kiwisolver>=1.0.1 in /usr/local/lib/python3.7/dist-packages (from matplotlib) (1.3.1)\n",
            "Requirement already satisfied: scipy>=1.0 in /usr/local/lib/python3.7/dist-packages (from seaborn) (1.4.1)\n",
            "Requirement already satisfied: scikit-learn in /usr/local/lib/python3.7/dist-packages (from sklearn) (0.22.2.post1)\n",
            "Requirement already satisfied: smart-open>=1.2.1 in /usr/local/lib/python3.7/dist-packages (from gensim) (5.1.0)\n",
            "Collecting funcy\n",
            "  Downloading funcy-1.16-py2.py3-none-any.whl (32 kB)\n",
            "Requirement already satisfied: setuptools in /usr/local/lib/python3.7/dist-packages (from pyldavis) (57.2.0)\n",
            "Requirement already satisfied: jinja2 in /usr/local/lib/python3.7/dist-packages (from pyldavis) (2.11.3)\n",
            "Collecting pandas\n",
            "  Downloading pandas-1.3.1-cp37-cp37m-manylinux_2_17_x86_64.manylinux2014_x86_64.whl (11.5 MB)\n",
            "\u001b[K     |████████████████████████████████| 11.5 MB 36.3 MB/s \n",
            "\u001b[?25hCollecting numpy\n",
            "  Downloading numpy-1.21.1-cp37-cp37m-manylinux_2_12_x86_64.manylinux2010_x86_64.whl (15.7 MB)\n",
            "\u001b[K     |████████████████████████████████| 15.7 MB 71 kB/s \n",
            "\u001b[?25hRequirement already satisfied: numexpr in /usr/local/lib/python3.7/dist-packages (from pyldavis) (2.7.3)\n",
            "Requirement already satisfied: future in /usr/local/lib/python3.7/dist-packages (from pyldavis) (0.16.0)\n",
            "Requirement already satisfied: joblib in /usr/local/lib/python3.7/dist-packages (from pyldavis) (1.0.1)\n",
            "Requirement already satisfied: pillow in /usr/local/lib/python3.7/dist-packages (from wordcloud) (7.1.2)\n",
            "Requirement already satisfied: murmurhash<1.1.0,>=0.28.0 in /usr/local/lib/python3.7/dist-packages (from spacy) (1.0.5)\n",
            "Requirement already satisfied: srsly<1.1.0,>=1.0.2 in /usr/local/lib/python3.7/dist-packages (from spacy) (1.0.5)\n",
            "Requirement already satisfied: plac<1.2.0,>=0.9.6 in /usr/local/lib/python3.7/dist-packages (from spacy) (1.1.3)\n",
            "Requirement already satisfied: requests<3.0.0,>=2.13.0 in /usr/local/lib/python3.7/dist-packages (from spacy) (2.23.0)\n",
            "Requirement already satisfied: tqdm<5.0.0,>=4.38.0 in /usr/local/lib/python3.7/dist-packages (from spacy) (4.41.1)\n",
            "Requirement already satisfied: catalogue<1.1.0,>=0.0.7 in /usr/local/lib/python3.7/dist-packages (from spacy) (1.0.0)\n",
            "Requirement already satisfied: blis<0.5.0,>=0.4.0 in /usr/local/lib/python3.7/dist-packages (from spacy) (0.4.1)\n",
            "Requirement already satisfied: cymem<2.1.0,>=2.0.2 in /usr/local/lib/python3.7/dist-packages (from spacy) (2.0.5)\n",
            "Requirement already satisfied: wasabi<1.1.0,>=0.4.0 in /usr/local/lib/python3.7/dist-packages (from spacy) (0.8.2)\n",
            "Requirement already satisfied: preshed<3.1.0,>=3.0.2 in /usr/local/lib/python3.7/dist-packages (from spacy) (3.0.5)\n",
            "Requirement already satisfied: thinc==7.4.0 in /usr/local/lib/python3.7/dist-packages (from spacy) (7.4.0)\n",
            "Requirement already satisfied: importlib-metadata>=0.20 in /usr/local/lib/python3.7/dist-packages (from catalogue<1.1.0,>=0.0.7->spacy) (4.6.1)\n",
            "Requirement already satisfied: typing-extensions>=3.6.4 in /usr/local/lib/python3.7/dist-packages (from importlib-metadata>=0.20->catalogue<1.1.0,>=0.0.7->spacy) (3.7.4.3)\n",
            "Requirement already satisfied: zipp>=0.5 in /usr/local/lib/python3.7/dist-packages (from importlib-metadata>=0.20->catalogue<1.1.0,>=0.0.7->spacy) (3.5.0)\n",
            "Requirement already satisfied: urllib3!=1.25.0,!=1.25.1,<1.26,>=1.21.1 in /usr/local/lib/python3.7/dist-packages (from requests<3.0.0,>=2.13.0->spacy) (1.24.3)\n",
            "Requirement already satisfied: certifi>=2017.4.17 in /usr/local/lib/python3.7/dist-packages (from requests<3.0.0,>=2.13.0->spacy) (2021.5.30)\n",
            "Requirement already satisfied: idna<3,>=2.5 in /usr/local/lib/python3.7/dist-packages (from requests<3.0.0,>=2.13.0->spacy) (2.10)\n",
            "Requirement already satisfied: chardet<4,>=3.0.2 in /usr/local/lib/python3.7/dist-packages (from requests<3.0.0,>=2.13.0->spacy) (3.0.4)\n",
            "Collecting pyphen\n",
            "  Downloading pyphen-0.11.0-py3-none-any.whl (2.0 MB)\n",
            "\u001b[K     |████████████████████████████████| 2.0 MB 33.6 MB/s \n",
            "\u001b[?25hRequirement already satisfied: MarkupSafe>=0.23 in /usr/local/lib/python3.7/dist-packages (from jinja2->pyldavis) (2.0.1)\n",
            "Building wheels for collected packages: pyldavis\n",
            "  Building wheel for pyldavis (PEP 517) ... \u001b[?25l\u001b[?25hdone\n",
            "  Created wheel for pyldavis: filename=pyLDAvis-3.3.1-py2.py3-none-any.whl size=136897 sha256=5b4a979dcc8bed5fd4db221cd3ab5dfc7ea24fb995bd888abffb4bd1131acd6d\n",
            "  Stored in directory: /root/.cache/pip/wheels/c9/21/f6/17bcf2667e8a68532ba2fbf6d5c72fdf4c7f7d9abfa4852d2f\n",
            "Successfully built pyldavis\n",
            "Installing collected packages: numpy, pyphen, pandas, funcy, textstat, pyldavis\n",
            "  Attempting uninstall: numpy\n",
            "    Found existing installation: numpy 1.19.5\n",
            "    Uninstalling numpy-1.19.5:\n",
            "      Successfully uninstalled numpy-1.19.5\n",
            "  Attempting uninstall: pandas\n",
            "    Found existing installation: pandas 1.1.5\n",
            "    Uninstalling pandas-1.1.5:\n",
            "      Successfully uninstalled pandas-1.1.5\n",
            "\u001b[31mERROR: pip's dependency resolver does not currently take into account all the packages that are installed. This behaviour is the source of the following dependency conflicts.\n",
            "tensorflow 2.5.0 requires numpy~=1.19.2, but you have numpy 1.21.1 which is incompatible.\n",
            "google-colab 1.0.0 requires pandas~=1.1.0; python_version >= \"3.0\", but you have pandas 1.3.1 which is incompatible.\n",
            "datascience 0.10.6 requires folium==0.2.1, but you have folium 0.8.3 which is incompatible.\n",
            "albumentations 0.1.12 requires imgaug<0.2.7,>=0.2.5, but you have imgaug 0.2.9 which is incompatible.\u001b[0m\n",
            "Successfully installed funcy-1.16 numpy-1.21.1 pandas-1.3.1 pyldavis-3.3.1 pyphen-0.11.0 textstat-0.7.1\n"
          ],
          "name": "stdout"
        },
        {
          "output_type": "display_data",
          "data": {
            "application/vnd.colab-display-data+json": {
              "pip_warning": {
                "packages": [
                  "numpy",
                  "pandas"
                ]
              }
            }
          },
          "metadata": {
            "tags": []
          }
        }
      ]
    },
    {
      "cell_type": "code",
      "metadata": {
        "id": "sTUsrdX8UCfB"
      },
      "source": [
        "corpus=[]\n",
        "new= train['Topic Title'].str.split()\n",
        "new=new.values.tolist()\n",
        "corpus=[word for i in new for word in i]\n",
        "\n",
        "from collections import defaultdict\n",
        "dic=defaultdict(int)\n",
        "for word in corpus:\n",
        "    if word in stop:\n",
        "        dic[word]+=1"
      ],
      "execution_count": 55,
      "outputs": []
    },
    {
      "cell_type": "code",
      "metadata": {
        "id": "SIDCvz35UN4D"
      },
      "source": [
        "def get_top_ngram(corpus, n=None):\n",
        "    vec = CountVectorizer(ngram_range=(n, n)).fit(corpus)\n",
        "    bag_of_words = vec.transform(corpus)\n",
        "    sum_words = bag_of_words.sum(axis=0) \n",
        "    words_freq = [(word, sum_words[0, idx]) \n",
        "                  for word, idx in vec.vocabulary_.items()]\n",
        "    words_freq =sorted(words_freq, key = lambda x: x[1], reverse=True)\n",
        "    return words_freq[:10]"
      ],
      "execution_count": 56,
      "outputs": []
    },
    {
      "cell_type": "code",
      "metadata": {
        "colab": {
          "base_uri": "https://localhost:8080/",
          "height": 283
        },
        "id": "tVuJdq3LUR2X",
        "outputId": "db1fbf73-6a82-4f23-f7c8-ebefa37b3f0f"
      },
      "source": [
        "import seaborn as sns\n",
        "\n",
        "top_n_bigrams=get_top_ngram(train['Topic Title'],2)[:10]\n",
        "x,y=map(list,zip(*top_n_bigrams))\n",
        "sns.barplot(x=y,y=x)"
      ],
      "execution_count": 57,
      "outputs": [
        {
          "output_type": "execute_result",
          "data": {
            "text/plain": [
              "<matplotlib.axes._subplots.AxesSubplot at 0x7f7f5ecdde90>"
            ]
          },
          "metadata": {
            "tags": []
          },
          "execution_count": 57
        },
        {
          "output_type": "display_data",
          "data": {
            "image/png": "[encoded data removed]",
            "text/plain": [
              "<Figure size 432x288 with 1 Axes>"
            ]
          },
          "metadata": {
            "tags": [],
            "needs_background": "light"
          }
        }
      ]
    },
    {
      "cell_type": "code",
      "metadata": {
        "colab": {
          "base_uri": "https://localhost:8080/",
          "height": 283
        },
        "id": "zLb7JznrUcfC",
        "outputId": "51533252-0418-47de-af59-70c265d93c8b"
      },
      "source": [
        "top_tri_grams=get_top_ngram(train['Topic Title'],n=3)\n",
        "x,y=map(list,zip(*top_tri_grams))\n",
        "sns.barplot(x=y,y=x)"
      ],
      "execution_count": 58,
      "outputs": [
        {
          "output_type": "execute_result",
          "data": {
            "text/plain": [
              "<matplotlib.axes._subplots.AxesSubplot at 0x7f7f5eca7e90>"
            ]
          },
          "metadata": {
            "tags": []
          },
          "execution_count": 58
        },
        {
          "output_type": "display_data",
          "data": {
            "image/png": "[encoded data removed]",
            "text/plain": [
              "<Figure size 432x288 with 1 Axes>"
            ]
          },
          "metadata": {
            "tags": [],
            "needs_background": "light"
          }
        }
      ]
    },
    {
      "cell_type": "code",
      "metadata": {
        "colab": {
          "base_uri": "https://localhost:8080/",
          "height": 283
        },
        "id": "S3e3SqB7UsIs",
        "outputId": "4c354d94-20ef-4e73-e52e-0e00c1d107e3"
      },
      "source": [
        "top_n_grams=get_top_ngram(train['Topic Title'],n=1)\n",
        "x,y=map(list,zip(*top_n_grams))\n",
        "sns.barplot(x=y,y=x)"
      ],
      "execution_count": 59,
      "outputs": [
        {
          "output_type": "execute_result",
          "data": {
            "text/plain": [
              "<matplotlib.axes._subplots.AxesSubplot at 0x7f7f5ed5f790>"
            ]
          },
          "metadata": {
            "tags": []
          },
          "execution_count": 59
        },
        {
          "output_type": "display_data",
          "data": {
            "image/png": "[encoded data removed]",
            "text/plain": [
              "<Figure size 432x288 with 1 Axes>"
            ]
          },
          "metadata": {
            "tags": [],
            "needs_background": "light"
          }
        }
      ]
    },
    {
      "cell_type": "code",
      "metadata": {
        "colab": {
          "base_uri": "https://localhost:8080/",
          "height": 366
        },
        "id": "dMiTaHN-U30y",
        "outputId": "b639b89c-9d0c-4ec5-a7c2-a333ce7e1dea"
      },
      "source": [
        "import matplotlib.pyplot as plt\n",
        "%matplotlib inline\n",
        "from wordcloud import WordCloud, STOPWORDS\n",
        "stopwords = set(STOPWORDS)\n",
        "\n",
        "def show_wordcloud(data):\n",
        "    wordcloud = WordCloud(\n",
        "        background_color='white',\n",
        "        stopwords=stopwords,\n",
        "        max_words=100,\n",
        "        max_font_size=30,\n",
        "        scale=3,\n",
        "        random_state=1)\n",
        "   \n",
        "    wordcloud=wordcloud.generate(str(data))\n",
        "\n",
        "    fig = plt.figure(1, figsize=(12, 12))\n",
        "    plt.axis('off')\n",
        "\n",
        "    plt.imshow(wordcloud)\n",
        "    plt.show()\n",
        "\n",
        "show_wordcloud(corpus)"
      ],
      "execution_count": 60,
      "outputs": [
        {
          "output_type": "display_data",
          "data": {
            "image/png": "[encoded data removed]",
            "text/plain": [
              "<Figure size 864x864 with 1 Axes>"
            ]
          },
          "metadata": {
            "tags": [],
            "needs_background": "light"
          }
        }
      ]
    }
  ]
}